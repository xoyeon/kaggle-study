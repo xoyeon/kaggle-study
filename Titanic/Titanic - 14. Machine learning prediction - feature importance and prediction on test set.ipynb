{
 "cells": [
  {
   "cell_type": "code",
   "execution_count": 1,
   "id": "bb511847",
   "metadata": {
    "execution": {
     "iopub.execute_input": "2022-02-05T13:57:16.055819Z",
     "iopub.status.busy": "2022-02-05T13:57:16.049404Z",
     "iopub.status.idle": "2022-02-05T13:57:16.062572Z",
     "shell.execute_reply": "2022-02-05T13:57:16.063074Z",
     "shell.execute_reply.started": "2022-02-05T13:53:47.909902Z"
    },
    "papermill": {
     "duration": 0.05949,
     "end_time": "2022-02-05T13:57:16.063363",
     "exception": false,
     "start_time": "2022-02-05T13:57:16.003873",
     "status": "completed"
    },
    "tags": []
   },
   "outputs": [
    {
     "name": "stdout",
     "output_type": "stream",
     "text": [
      "/kaggle/input/titanic/train.csv\n",
      "/kaggle/input/titanic/test.csv\n",
      "/kaggle/input/titanic/gender_submission.csv\n"
     ]
    }
   ],
   "source": [
    "import os\n",
    "for dirname, _, filenames in os.walk('/kaggle/input'):\n",
    "    for filename in filenames:\n",
    "        print(os.path.join(dirname, filename))"
   ]
  },
  {
   "cell_type": "code",
   "execution_count": 2,
   "id": "3fa7b563",
   "metadata": {
    "_cell_guid": "b1076dfc-b9ad-4769-8c92-a6c4dae69d19",
    "_uuid": "8f2839f25d086af736a60e9eeb907d3b93b6e0e5",
    "execution": {
     "iopub.execute_input": "2022-02-05T13:57:16.152087Z",
     "iopub.status.busy": "2022-02-05T13:57:16.151417Z",
     "iopub.status.idle": "2022-02-05T13:57:17.264633Z",
     "shell.execute_reply": "2022-02-05T13:57:17.264064Z",
     "shell.execute_reply.started": "2022-02-05T13:53:47.926134Z"
    },
    "papermill": {
     "duration": 1.16044,
     "end_time": "2022-02-05T13:57:17.264824",
     "exception": false,
     "start_time": "2022-02-05T13:57:16.104384",
     "status": "completed"
    },
    "tags": []
   },
   "outputs": [],
   "source": [
    "import numpy as np\n",
    "import pandas as pd\n",
    "import matplotlib.pyplot as plt\n",
    "import seaborn as sns\n",
    "\n",
    "plt.style.use('seaborn')\n",
    "sns.set(font_scale=2.5)\n",
    "\n",
    "import missingno as msno\n",
    "\n",
    "#ignore warnings\n",
    "import warnings\n",
    "warnings.filterwarnings('ignore')\n",
    "\n",
    "%matplotlib inline"
   ]
  },
  {
   "cell_type": "code",
   "execution_count": 3,
   "id": "db7a970f",
   "metadata": {
    "execution": {
     "iopub.execute_input": "2022-02-05T13:57:17.353354Z",
     "iopub.status.busy": "2022-02-05T13:57:17.352561Z",
     "iopub.status.idle": "2022-02-05T13:57:17.380150Z",
     "shell.execute_reply": "2022-02-05T13:57:17.380693Z",
     "shell.execute_reply.started": "2022-02-05T13:53:47.942422Z"
    },
    "papermill": {
     "duration": 0.073339,
     "end_time": "2022-02-05T13:57:17.380866",
     "exception": false,
     "start_time": "2022-02-05T13:57:17.307527",
     "status": "completed"
    },
    "tags": []
   },
   "outputs": [],
   "source": [
    "df_train = pd.read_csv('/kaggle/input/titanic/train.csv')\n",
    "df_test = pd.read_csv('/kaggle/input/titanic/test.csv')"
   ]
  },
  {
   "cell_type": "code",
   "execution_count": 4,
   "id": "2d44facb",
   "metadata": {
    "execution": {
     "iopub.execute_input": "2022-02-05T13:57:17.464788Z",
     "iopub.status.busy": "2022-02-05T13:57:17.464086Z",
     "iopub.status.idle": "2022-02-05T13:57:17.489559Z",
     "shell.execute_reply": "2022-02-05T13:57:17.490110Z",
     "shell.execute_reply.started": "2022-02-05T13:53:47.973902Z"
    },
    "papermill": {
     "duration": 0.069218,
     "end_time": "2022-02-05T13:57:17.490332",
     "exception": false,
     "start_time": "2022-02-05T13:57:17.421114",
     "status": "completed"
    },
    "tags": []
   },
   "outputs": [
    {
     "data": {
      "text/html": [
       "<div>\n",
       "<style scoped>\n",
       "    .dataframe tbody tr th:only-of-type {\n",
       "        vertical-align: middle;\n",
       "    }\n",
       "\n",
       "    .dataframe tbody tr th {\n",
       "        vertical-align: top;\n",
       "    }\n",
       "\n",
       "    .dataframe thead th {\n",
       "        text-align: right;\n",
       "    }\n",
       "</style>\n",
       "<table border=\"1\" class=\"dataframe\">\n",
       "  <thead>\n",
       "    <tr style=\"text-align: right;\">\n",
       "      <th></th>\n",
       "      <th>Survived</th>\n",
       "    </tr>\n",
       "    <tr>\n",
       "      <th>Pclass</th>\n",
       "      <th></th>\n",
       "    </tr>\n",
       "  </thead>\n",
       "  <tbody>\n",
       "    <tr>\n",
       "      <th>1</th>\n",
       "      <td>216</td>\n",
       "    </tr>\n",
       "    <tr>\n",
       "      <th>2</th>\n",
       "      <td>184</td>\n",
       "    </tr>\n",
       "    <tr>\n",
       "      <th>3</th>\n",
       "      <td>491</td>\n",
       "    </tr>\n",
       "  </tbody>\n",
       "</table>\n",
       "</div>"
      ],
      "text/plain": [
       "        Survived\n",
       "Pclass          \n",
       "1            216\n",
       "2            184\n",
       "3            491"
      ]
     },
     "execution_count": 4,
     "metadata": {},
     "output_type": "execute_result"
    }
   ],
   "source": [
    "df_train[['Pclass', 'Survived']].groupby(['Pclass'], as_index=True).count()"
   ]
  },
  {
   "cell_type": "code",
   "execution_count": 5,
   "id": "8a878286",
   "metadata": {
    "execution": {
     "iopub.execute_input": "2022-02-05T13:57:17.575584Z",
     "iopub.status.busy": "2022-02-05T13:57:17.574940Z",
     "iopub.status.idle": "2022-02-05T13:57:17.661566Z",
     "shell.execute_reply": "2022-02-05T13:57:17.662097Z",
     "shell.execute_reply.started": "2022-02-05T13:53:47.988992Z"
    },
    "papermill": {
     "duration": 0.130604,
     "end_time": "2022-02-05T13:57:17.662318",
     "exception": false,
     "start_time": "2022-02-05T13:57:17.531714",
     "status": "completed"
    },
    "tags": []
   },
   "outputs": [],
   "source": [
    "change_age_range_survival_ratio = []\n",
    "\n",
    "for i in range(1, 80):\n",
    "    change_age_range_survival_ratio.append(df_train[df_train['Age'] < i]['Survived'].sum() / len(df_train[df_train['Age'] < i]['Survived']))"
   ]
  },
  {
   "cell_type": "code",
   "execution_count": 6,
   "id": "32b0a02e",
   "metadata": {
    "execution": {
     "iopub.execute_input": "2022-02-05T13:57:17.748799Z",
     "iopub.status.busy": "2022-02-05T13:57:17.748111Z",
     "iopub.status.idle": "2022-02-05T13:57:17.762334Z",
     "shell.execute_reply": "2022-02-05T13:57:17.762794Z",
     "shell.execute_reply.started": "2022-02-05T13:53:48.089919Z"
    },
    "papermill": {
     "duration": 0.059728,
     "end_time": "2022-02-05T13:57:17.762964",
     "exception": false,
     "start_time": "2022-02-05T13:57:17.703236",
     "status": "completed"
    },
    "tags": []
   },
   "outputs": [
    {
     "data": {
      "text/html": [
       "<div>\n",
       "<style scoped>\n",
       "    .dataframe tbody tr th:only-of-type {\n",
       "        vertical-align: middle;\n",
       "    }\n",
       "\n",
       "    .dataframe tbody tr th {\n",
       "        vertical-align: top;\n",
       "    }\n",
       "\n",
       "    .dataframe thead th {\n",
       "        text-align: right;\n",
       "    }\n",
       "</style>\n",
       "<table border=\"1\" class=\"dataframe\">\n",
       "  <thead>\n",
       "    <tr style=\"text-align: right;\">\n",
       "      <th></th>\n",
       "      <th>Survived</th>\n",
       "    </tr>\n",
       "    <tr>\n",
       "      <th>Embarked</th>\n",
       "      <th></th>\n",
       "    </tr>\n",
       "  </thead>\n",
       "  <tbody>\n",
       "    <tr>\n",
       "      <th>C</th>\n",
       "      <td>0.553571</td>\n",
       "    </tr>\n",
       "    <tr>\n",
       "      <th>Q</th>\n",
       "      <td>0.389610</td>\n",
       "    </tr>\n",
       "    <tr>\n",
       "      <th>S</th>\n",
       "      <td>0.336957</td>\n",
       "    </tr>\n",
       "  </tbody>\n",
       "</table>\n",
       "</div>"
      ],
      "text/plain": [
       "          Survived\n",
       "Embarked          \n",
       "C         0.553571\n",
       "Q         0.389610\n",
       "S         0.336957"
      ]
     },
     "execution_count": 6,
     "metadata": {},
     "output_type": "execute_result"
    }
   ],
   "source": [
    "df_train[['Embarked', 'Survived']].groupby(['Embarked'], as_index=True).mean().sort_values(by='Survived', ascending=False)"
   ]
  },
  {
   "cell_type": "code",
   "execution_count": 7,
   "id": "f4cdc9c3",
   "metadata": {
    "execution": {
     "iopub.execute_input": "2022-02-05T13:57:17.849877Z",
     "iopub.status.busy": "2022-02-05T13:57:17.849161Z",
     "iopub.status.idle": "2022-02-05T13:57:17.855324Z",
     "shell.execute_reply": "2022-02-05T13:57:17.855814Z",
     "shell.execute_reply.started": "2022-02-05T13:53:48.108503Z"
    },
    "papermill": {
     "duration": 0.051853,
     "end_time": "2022-02-05T13:57:17.855990",
     "exception": false,
     "start_time": "2022-02-05T13:57:17.804137",
     "status": "completed"
    },
    "tags": []
   },
   "outputs": [],
   "source": [
    "df_train['FamilySize'] = df_train['SibSp'] + df_train['Parch'] + 1 # 자기 자신\n",
    "df_test['FamilySize'] = df_test['SibSp'] + df_test['Parch'] + 1 # 자기 자신"
   ]
  },
  {
   "cell_type": "code",
   "execution_count": 8,
   "id": "115e6a36",
   "metadata": {
    "execution": {
     "iopub.execute_input": "2022-02-05T13:57:17.942703Z",
     "iopub.status.busy": "2022-02-05T13:57:17.942057Z",
     "iopub.status.idle": "2022-02-05T13:57:17.950358Z",
     "shell.execute_reply": "2022-02-05T13:57:17.950831Z",
     "shell.execute_reply.started": "2022-02-05T13:53:48.129091Z"
    },
    "papermill": {
     "duration": 0.053019,
     "end_time": "2022-02-05T13:57:17.951015",
     "exception": false,
     "start_time": "2022-02-05T13:57:17.897996",
     "status": "completed"
    },
    "tags": []
   },
   "outputs": [],
   "source": [
    "df_train['Fare'] = df_train['Fare'].map(lambda i : np.log(i) if i>0 else 0)\n",
    "df_test['Fare'] = df_test['Fare'].map(lambda i : np.log(i) if i>0 else 0)"
   ]
  },
  {
   "cell_type": "code",
   "execution_count": 9,
   "id": "61264437",
   "metadata": {
    "execution": {
     "iopub.execute_input": "2022-02-05T13:57:18.046707Z",
     "iopub.status.busy": "2022-02-05T13:57:18.046050Z",
     "iopub.status.idle": "2022-02-05T13:57:18.047742Z",
     "shell.execute_reply": "2022-02-05T13:57:18.048169Z",
     "shell.execute_reply.started": "2022-02-05T13:53:48.143665Z"
    },
    "papermill": {
     "duration": 0.056245,
     "end_time": "2022-02-05T13:57:18.048343",
     "exception": false,
     "start_time": "2022-02-05T13:57:17.992098",
     "status": "completed"
    },
    "tags": []
   },
   "outputs": [],
   "source": [
    "df_train['Initial'] = df_train['Name'].str.extract('([A-Za-z]+)\\.')\n",
    "df_test['Initial'] = df_test['Name'].str.extract('([A-Za-z]+)\\.')"
   ]
  },
  {
   "cell_type": "code",
   "execution_count": 10,
   "id": "5de4e208",
   "metadata": {
    "execution": {
     "iopub.execute_input": "2022-02-05T13:57:18.140579Z",
     "iopub.status.busy": "2022-02-05T13:57:18.139931Z",
     "iopub.status.idle": "2022-02-05T13:57:18.144853Z",
     "shell.execute_reply": "2022-02-05T13:57:18.145328Z",
     "shell.execute_reply.started": "2022-02-05T13:53:48.165563Z"
    },
    "papermill": {
     "duration": 0.055334,
     "end_time": "2022-02-05T13:57:18.145489",
     "exception": false,
     "start_time": "2022-02-05T13:57:18.090155",
     "status": "completed"
    },
    "tags": []
   },
   "outputs": [],
   "source": [
    "df_train['Initial'].replace(['Mlle','Mme','Ms','Dr','Major','Lady','Countess','Jonkheer','Col','Rev','Capt','Sir','Don','Dona'],\n",
    "                            ['Miss','Miss','Miss','Mr','Mr','Mrs','Mrs','Other','Other','Other','Mr','Mr','Mr','Mr'],inplace=True)\n",
    "df_test['Initial'].replace(['Mlle','Mme','Ms','Dr','Major','Lady','Countess','Jonkheer','Col','Rev','Capt','Sir','Don','Dona'],\n",
    "                            ['Miss','Miss','Miss','Mr','Mr','Mrs','Mrs','Other','Other','Other','Mr','Mr','Mr','Mr'],inplace=True)"
   ]
  },
  {
   "cell_type": "code",
   "execution_count": 11,
   "id": "7ace809b",
   "metadata": {
    "execution": {
     "iopub.execute_input": "2022-02-05T13:57:18.230920Z",
     "iopub.status.busy": "2022-02-05T13:57:18.230296Z",
     "iopub.status.idle": "2022-02-05T13:57:18.237440Z",
     "shell.execute_reply": "2022-02-05T13:57:18.237910Z",
     "shell.execute_reply.started": "2022-02-05T13:53:48.187037Z"
    },
    "papermill": {
     "duration": 0.051283,
     "end_time": "2022-02-05T13:57:18.238083",
     "exception": false,
     "start_time": "2022-02-05T13:57:18.186800",
     "status": "completed"
    },
    "tags": []
   },
   "outputs": [],
   "source": [
    "df_all = pd.concat([df_train, df_test])"
   ]
  },
  {
   "cell_type": "code",
   "execution_count": 12,
   "id": "015e1b15",
   "metadata": {
    "execution": {
     "iopub.execute_input": "2022-02-05T13:57:18.323504Z",
     "iopub.status.busy": "2022-02-05T13:57:18.322882Z",
     "iopub.status.idle": "2022-02-05T13:57:18.348441Z",
     "shell.execute_reply": "2022-02-05T13:57:18.348951Z",
     "shell.execute_reply.started": "2022-02-05T13:53:48.206819Z"
    },
    "papermill": {
     "duration": 0.069958,
     "end_time": "2022-02-05T13:57:18.349121",
     "exception": false,
     "start_time": "2022-02-05T13:57:18.279163",
     "status": "completed"
    },
    "tags": []
   },
   "outputs": [
    {
     "data": {
      "text/html": [
       "<div>\n",
       "<style scoped>\n",
       "    .dataframe tbody tr th:only-of-type {\n",
       "        vertical-align: middle;\n",
       "    }\n",
       "\n",
       "    .dataframe tbody tr th {\n",
       "        vertical-align: top;\n",
       "    }\n",
       "\n",
       "    .dataframe thead th {\n",
       "        text-align: right;\n",
       "    }\n",
       "</style>\n",
       "<table border=\"1\" class=\"dataframe\">\n",
       "  <thead>\n",
       "    <tr style=\"text-align: right;\">\n",
       "      <th></th>\n",
       "      <th>PassengerId</th>\n",
       "      <th>Survived</th>\n",
       "      <th>Pclass</th>\n",
       "      <th>Name</th>\n",
       "      <th>Sex</th>\n",
       "      <th>Age</th>\n",
       "      <th>SibSp</th>\n",
       "      <th>Parch</th>\n",
       "      <th>Ticket</th>\n",
       "      <th>Fare</th>\n",
       "      <th>Cabin</th>\n",
       "      <th>Embarked</th>\n",
       "      <th>FamilySize</th>\n",
       "      <th>Initial</th>\n",
       "    </tr>\n",
       "  </thead>\n",
       "  <tbody>\n",
       "    <tr>\n",
       "      <th>0</th>\n",
       "      <td>1</td>\n",
       "      <td>0.0</td>\n",
       "      <td>3</td>\n",
       "      <td>Braund, Mr. Owen Harris</td>\n",
       "      <td>male</td>\n",
       "      <td>22.0</td>\n",
       "      <td>1</td>\n",
       "      <td>0</td>\n",
       "      <td>A/5 21171</td>\n",
       "      <td>1.981001</td>\n",
       "      <td>NaN</td>\n",
       "      <td>S</td>\n",
       "      <td>2</td>\n",
       "      <td>Mr</td>\n",
       "    </tr>\n",
       "    <tr>\n",
       "      <th>1</th>\n",
       "      <td>2</td>\n",
       "      <td>1.0</td>\n",
       "      <td>1</td>\n",
       "      <td>Cumings, Mrs. John Bradley (Florence Briggs Th...</td>\n",
       "      <td>female</td>\n",
       "      <td>38.0</td>\n",
       "      <td>1</td>\n",
       "      <td>0</td>\n",
       "      <td>PC 17599</td>\n",
       "      <td>4.266662</td>\n",
       "      <td>C85</td>\n",
       "      <td>C</td>\n",
       "      <td>2</td>\n",
       "      <td>Mrs</td>\n",
       "    </tr>\n",
       "    <tr>\n",
       "      <th>2</th>\n",
       "      <td>3</td>\n",
       "      <td>1.0</td>\n",
       "      <td>3</td>\n",
       "      <td>Heikkinen, Miss. Laina</td>\n",
       "      <td>female</td>\n",
       "      <td>26.0</td>\n",
       "      <td>0</td>\n",
       "      <td>0</td>\n",
       "      <td>STON/O2. 3101282</td>\n",
       "      <td>2.070022</td>\n",
       "      <td>NaN</td>\n",
       "      <td>S</td>\n",
       "      <td>1</td>\n",
       "      <td>Miss</td>\n",
       "    </tr>\n",
       "    <tr>\n",
       "      <th>3</th>\n",
       "      <td>4</td>\n",
       "      <td>1.0</td>\n",
       "      <td>1</td>\n",
       "      <td>Futrelle, Mrs. Jacques Heath (Lily May Peel)</td>\n",
       "      <td>female</td>\n",
       "      <td>35.0</td>\n",
       "      <td>1</td>\n",
       "      <td>0</td>\n",
       "      <td>113803</td>\n",
       "      <td>3.972177</td>\n",
       "      <td>C123</td>\n",
       "      <td>S</td>\n",
       "      <td>2</td>\n",
       "      <td>Mrs</td>\n",
       "    </tr>\n",
       "    <tr>\n",
       "      <th>4</th>\n",
       "      <td>5</td>\n",
       "      <td>0.0</td>\n",
       "      <td>3</td>\n",
       "      <td>Allen, Mr. William Henry</td>\n",
       "      <td>male</td>\n",
       "      <td>35.0</td>\n",
       "      <td>0</td>\n",
       "      <td>0</td>\n",
       "      <td>373450</td>\n",
       "      <td>2.085672</td>\n",
       "      <td>NaN</td>\n",
       "      <td>S</td>\n",
       "      <td>1</td>\n",
       "      <td>Mr</td>\n",
       "    </tr>\n",
       "    <tr>\n",
       "      <th>...</th>\n",
       "      <td>...</td>\n",
       "      <td>...</td>\n",
       "      <td>...</td>\n",
       "      <td>...</td>\n",
       "      <td>...</td>\n",
       "      <td>...</td>\n",
       "      <td>...</td>\n",
       "      <td>...</td>\n",
       "      <td>...</td>\n",
       "      <td>...</td>\n",
       "      <td>...</td>\n",
       "      <td>...</td>\n",
       "      <td>...</td>\n",
       "      <td>...</td>\n",
       "    </tr>\n",
       "    <tr>\n",
       "      <th>1304</th>\n",
       "      <td>1305</td>\n",
       "      <td>NaN</td>\n",
       "      <td>3</td>\n",
       "      <td>Spector, Mr. Woolf</td>\n",
       "      <td>male</td>\n",
       "      <td>NaN</td>\n",
       "      <td>0</td>\n",
       "      <td>0</td>\n",
       "      <td>A.5. 3236</td>\n",
       "      <td>2.085672</td>\n",
       "      <td>NaN</td>\n",
       "      <td>S</td>\n",
       "      <td>1</td>\n",
       "      <td>Mr</td>\n",
       "    </tr>\n",
       "    <tr>\n",
       "      <th>1305</th>\n",
       "      <td>1306</td>\n",
       "      <td>NaN</td>\n",
       "      <td>1</td>\n",
       "      <td>Oliva y Ocana, Dona. Fermina</td>\n",
       "      <td>female</td>\n",
       "      <td>39.0</td>\n",
       "      <td>0</td>\n",
       "      <td>0</td>\n",
       "      <td>PC 17758</td>\n",
       "      <td>4.690430</td>\n",
       "      <td>C105</td>\n",
       "      <td>C</td>\n",
       "      <td>1</td>\n",
       "      <td>Mr</td>\n",
       "    </tr>\n",
       "    <tr>\n",
       "      <th>1306</th>\n",
       "      <td>1307</td>\n",
       "      <td>NaN</td>\n",
       "      <td>3</td>\n",
       "      <td>Saether, Mr. Simon Sivertsen</td>\n",
       "      <td>male</td>\n",
       "      <td>38.5</td>\n",
       "      <td>0</td>\n",
       "      <td>0</td>\n",
       "      <td>SOTON/O.Q. 3101262</td>\n",
       "      <td>1.981001</td>\n",
       "      <td>NaN</td>\n",
       "      <td>S</td>\n",
       "      <td>1</td>\n",
       "      <td>Mr</td>\n",
       "    </tr>\n",
       "    <tr>\n",
       "      <th>1307</th>\n",
       "      <td>1308</td>\n",
       "      <td>NaN</td>\n",
       "      <td>3</td>\n",
       "      <td>Ware, Mr. Frederick</td>\n",
       "      <td>male</td>\n",
       "      <td>NaN</td>\n",
       "      <td>0</td>\n",
       "      <td>0</td>\n",
       "      <td>359309</td>\n",
       "      <td>2.085672</td>\n",
       "      <td>NaN</td>\n",
       "      <td>S</td>\n",
       "      <td>1</td>\n",
       "      <td>Mr</td>\n",
       "    </tr>\n",
       "    <tr>\n",
       "      <th>1308</th>\n",
       "      <td>1309</td>\n",
       "      <td>NaN</td>\n",
       "      <td>3</td>\n",
       "      <td>Peter, Master. Michael J</td>\n",
       "      <td>male</td>\n",
       "      <td>NaN</td>\n",
       "      <td>1</td>\n",
       "      <td>1</td>\n",
       "      <td>2668</td>\n",
       "      <td>3.107198</td>\n",
       "      <td>NaN</td>\n",
       "      <td>C</td>\n",
       "      <td>3</td>\n",
       "      <td>Master</td>\n",
       "    </tr>\n",
       "  </tbody>\n",
       "</table>\n",
       "<p>1309 rows × 14 columns</p>\n",
       "</div>"
      ],
      "text/plain": [
       "      PassengerId  Survived  Pclass  \\\n",
       "0               1       0.0       3   \n",
       "1               2       1.0       1   \n",
       "2               3       1.0       3   \n",
       "3               4       1.0       1   \n",
       "4               5       0.0       3   \n",
       "...           ...       ...     ...   \n",
       "1304         1305       NaN       3   \n",
       "1305         1306       NaN       1   \n",
       "1306         1307       NaN       3   \n",
       "1307         1308       NaN       3   \n",
       "1308         1309       NaN       3   \n",
       "\n",
       "                                                   Name     Sex   Age  SibSp  \\\n",
       "0                               Braund, Mr. Owen Harris    male  22.0      1   \n",
       "1     Cumings, Mrs. John Bradley (Florence Briggs Th...  female  38.0      1   \n",
       "2                                Heikkinen, Miss. Laina  female  26.0      0   \n",
       "3          Futrelle, Mrs. Jacques Heath (Lily May Peel)  female  35.0      1   \n",
       "4                              Allen, Mr. William Henry    male  35.0      0   \n",
       "...                                                 ...     ...   ...    ...   \n",
       "1304                                 Spector, Mr. Woolf    male   NaN      0   \n",
       "1305                       Oliva y Ocana, Dona. Fermina  female  39.0      0   \n",
       "1306                       Saether, Mr. Simon Sivertsen    male  38.5      0   \n",
       "1307                                Ware, Mr. Frederick    male   NaN      0   \n",
       "1308                           Peter, Master. Michael J    male   NaN      1   \n",
       "\n",
       "      Parch              Ticket      Fare Cabin Embarked  FamilySize Initial  \n",
       "0         0           A/5 21171  1.981001   NaN        S           2      Mr  \n",
       "1         0            PC 17599  4.266662   C85        C           2     Mrs  \n",
       "2         0    STON/O2. 3101282  2.070022   NaN        S           1    Miss  \n",
       "3         0              113803  3.972177  C123        S           2     Mrs  \n",
       "4         0              373450  2.085672   NaN        S           1      Mr  \n",
       "...     ...                 ...       ...   ...      ...         ...     ...  \n",
       "1304      0           A.5. 3236  2.085672   NaN        S           1      Mr  \n",
       "1305      0            PC 17758  4.690430  C105        C           1      Mr  \n",
       "1306      0  SOTON/O.Q. 3101262  1.981001   NaN        S           1      Mr  \n",
       "1307      0              359309  2.085672   NaN        S           1      Mr  \n",
       "1308      1                2668  3.107198   NaN        C           3  Master  \n",
       "\n",
       "[1309 rows x 14 columns]"
      ]
     },
     "execution_count": 12,
     "metadata": {},
     "output_type": "execute_result"
    }
   ],
   "source": [
    "df_all.reset_index(drop=True)"
   ]
  },
  {
   "cell_type": "code",
   "execution_count": 13,
   "id": "e4d79d22",
   "metadata": {
    "execution": {
     "iopub.execute_input": "2022-02-05T13:57:18.436459Z",
     "iopub.status.busy": "2022-02-05T13:57:18.435839Z",
     "iopub.status.idle": "2022-02-05T13:57:18.451518Z",
     "shell.execute_reply": "2022-02-05T13:57:18.451981Z",
     "shell.execute_reply.started": "2022-02-05T13:53:48.248905Z"
    },
    "papermill": {
     "duration": 0.061079,
     "end_time": "2022-02-05T13:57:18.452156",
     "exception": false,
     "start_time": "2022-02-05T13:57:18.391077",
     "status": "completed"
    },
    "tags": []
   },
   "outputs": [
    {
     "data": {
      "text/html": [
       "<div>\n",
       "<style scoped>\n",
       "    .dataframe tbody tr th:only-of-type {\n",
       "        vertical-align: middle;\n",
       "    }\n",
       "\n",
       "    .dataframe tbody tr th {\n",
       "        vertical-align: top;\n",
       "    }\n",
       "\n",
       "    .dataframe thead th {\n",
       "        text-align: right;\n",
       "    }\n",
       "</style>\n",
       "<table border=\"1\" class=\"dataframe\">\n",
       "  <thead>\n",
       "    <tr style=\"text-align: right;\">\n",
       "      <th></th>\n",
       "      <th>PassengerId</th>\n",
       "      <th>Survived</th>\n",
       "      <th>Pclass</th>\n",
       "      <th>Age</th>\n",
       "      <th>SibSp</th>\n",
       "      <th>Parch</th>\n",
       "      <th>Fare</th>\n",
       "      <th>FamilySize</th>\n",
       "    </tr>\n",
       "    <tr>\n",
       "      <th>Initial</th>\n",
       "      <th></th>\n",
       "      <th></th>\n",
       "      <th></th>\n",
       "      <th></th>\n",
       "      <th></th>\n",
       "      <th></th>\n",
       "      <th></th>\n",
       "      <th></th>\n",
       "    </tr>\n",
       "  </thead>\n",
       "  <tbody>\n",
       "    <tr>\n",
       "      <th>Master</th>\n",
       "      <td>658.852459</td>\n",
       "      <td>0.575000</td>\n",
       "      <td>2.655738</td>\n",
       "      <td>5.482642</td>\n",
       "      <td>2.049180</td>\n",
       "      <td>1.377049</td>\n",
       "      <td>3.262225</td>\n",
       "      <td>4.426230</td>\n",
       "    </tr>\n",
       "    <tr>\n",
       "      <th>Miss</th>\n",
       "      <td>616.992453</td>\n",
       "      <td>0.704301</td>\n",
       "      <td>2.332075</td>\n",
       "      <td>21.834533</td>\n",
       "      <td>0.652830</td>\n",
       "      <td>0.494340</td>\n",
       "      <td>3.065227</td>\n",
       "      <td>2.147170</td>\n",
       "    </tr>\n",
       "    <tr>\n",
       "      <th>Mr</th>\n",
       "      <td>658.831388</td>\n",
       "      <td>0.162571</td>\n",
       "      <td>2.359274</td>\n",
       "      <td>32.556397</td>\n",
       "      <td>0.286641</td>\n",
       "      <td>0.159533</td>\n",
       "      <td>2.676067</td>\n",
       "      <td>1.446174</td>\n",
       "    </tr>\n",
       "    <tr>\n",
       "      <th>Mrs</th>\n",
       "      <td>685.673367</td>\n",
       "      <td>0.795276</td>\n",
       "      <td>1.929648</td>\n",
       "      <td>37.034884</td>\n",
       "      <td>0.658291</td>\n",
       "      <td>0.824121</td>\n",
       "      <td>3.488188</td>\n",
       "      <td>2.482412</td>\n",
       "    </tr>\n",
       "    <tr>\n",
       "      <th>Other</th>\n",
       "      <td>714.923077</td>\n",
       "      <td>0.111111</td>\n",
       "      <td>1.615385</td>\n",
       "      <td>44.923077</td>\n",
       "      <td>0.230769</td>\n",
       "      <td>0.153846</td>\n",
       "      <td>2.951897</td>\n",
       "      <td>1.384615</td>\n",
       "    </tr>\n",
       "  </tbody>\n",
       "</table>\n",
       "</div>"
      ],
      "text/plain": [
       "         PassengerId  Survived    Pclass        Age     SibSp     Parch  \\\n",
       "Initial                                                                   \n",
       "Master    658.852459  0.575000  2.655738   5.482642  2.049180  1.377049   \n",
       "Miss      616.992453  0.704301  2.332075  21.834533  0.652830  0.494340   \n",
       "Mr        658.831388  0.162571  2.359274  32.556397  0.286641  0.159533   \n",
       "Mrs       685.673367  0.795276  1.929648  37.034884  0.658291  0.824121   \n",
       "Other     714.923077  0.111111  1.615385  44.923077  0.230769  0.153846   \n",
       "\n",
       "             Fare  FamilySize  \n",
       "Initial                        \n",
       "Master   3.262225    4.426230  \n",
       "Miss     3.065227    2.147170  \n",
       "Mr       2.676067    1.446174  \n",
       "Mrs      3.488188    2.482412  \n",
       "Other    2.951897    1.384615  "
      ]
     },
     "execution_count": 13,
     "metadata": {},
     "output_type": "execute_result"
    }
   ],
   "source": [
    "df_all.groupby('Initial').mean()"
   ]
  },
  {
   "cell_type": "code",
   "execution_count": 14,
   "id": "5d30cdb7",
   "metadata": {
    "execution": {
     "iopub.execute_input": "2022-02-05T13:57:18.544027Z",
     "iopub.status.busy": "2022-02-05T13:57:18.543058Z",
     "iopub.status.idle": "2022-02-05T13:57:18.566414Z",
     "shell.execute_reply": "2022-02-05T13:57:18.566902Z",
     "shell.execute_reply.started": "2022-02-05T13:53:48.276504Z"
    },
    "papermill": {
     "duration": 0.072323,
     "end_time": "2022-02-05T13:57:18.567065",
     "exception": false,
     "start_time": "2022-02-05T13:57:18.494742",
     "status": "completed"
    },
    "tags": []
   },
   "outputs": [
    {
     "data": {
      "text/html": [
       "<div>\n",
       "<style scoped>\n",
       "    .dataframe tbody tr th:only-of-type {\n",
       "        vertical-align: middle;\n",
       "    }\n",
       "\n",
       "    .dataframe tbody tr th {\n",
       "        vertical-align: top;\n",
       "    }\n",
       "\n",
       "    .dataframe thead th {\n",
       "        text-align: right;\n",
       "    }\n",
       "</style>\n",
       "<table border=\"1\" class=\"dataframe\">\n",
       "  <thead>\n",
       "    <tr style=\"text-align: right;\">\n",
       "      <th></th>\n",
       "      <th>PassengerId</th>\n",
       "      <th>Survived</th>\n",
       "      <th>Pclass</th>\n",
       "      <th>Name</th>\n",
       "      <th>Sex</th>\n",
       "      <th>Age</th>\n",
       "      <th>SibSp</th>\n",
       "      <th>Parch</th>\n",
       "      <th>Ticket</th>\n",
       "      <th>Fare</th>\n",
       "      <th>Cabin</th>\n",
       "      <th>Embarked</th>\n",
       "      <th>FamilySize</th>\n",
       "      <th>Initial</th>\n",
       "    </tr>\n",
       "  </thead>\n",
       "  <tbody>\n",
       "    <tr>\n",
       "      <th>1</th>\n",
       "      <td>2</td>\n",
       "      <td>1</td>\n",
       "      <td>1</td>\n",
       "      <td>Cumings, Mrs. John Bradley (Florence Briggs Th...</td>\n",
       "      <td>female</td>\n",
       "      <td>38.0</td>\n",
       "      <td>1</td>\n",
       "      <td>0</td>\n",
       "      <td>PC 17599</td>\n",
       "      <td>4.266662</td>\n",
       "      <td>C85</td>\n",
       "      <td>C</td>\n",
       "      <td>2</td>\n",
       "      <td>Mrs</td>\n",
       "    </tr>\n",
       "    <tr>\n",
       "      <th>2</th>\n",
       "      <td>3</td>\n",
       "      <td>1</td>\n",
       "      <td>3</td>\n",
       "      <td>Heikkinen, Miss. Laina</td>\n",
       "      <td>female</td>\n",
       "      <td>26.0</td>\n",
       "      <td>0</td>\n",
       "      <td>0</td>\n",
       "      <td>STON/O2. 3101282</td>\n",
       "      <td>2.070022</td>\n",
       "      <td>NaN</td>\n",
       "      <td>S</td>\n",
       "      <td>1</td>\n",
       "      <td>Miss</td>\n",
       "    </tr>\n",
       "    <tr>\n",
       "      <th>3</th>\n",
       "      <td>4</td>\n",
       "      <td>1</td>\n",
       "      <td>1</td>\n",
       "      <td>Futrelle, Mrs. Jacques Heath (Lily May Peel)</td>\n",
       "      <td>female</td>\n",
       "      <td>35.0</td>\n",
       "      <td>1</td>\n",
       "      <td>0</td>\n",
       "      <td>113803</td>\n",
       "      <td>3.972177</td>\n",
       "      <td>C123</td>\n",
       "      <td>S</td>\n",
       "      <td>2</td>\n",
       "      <td>Mrs</td>\n",
       "    </tr>\n",
       "    <tr>\n",
       "      <th>8</th>\n",
       "      <td>9</td>\n",
       "      <td>1</td>\n",
       "      <td>3</td>\n",
       "      <td>Johnson, Mrs. Oscar W (Elisabeth Vilhelmina Berg)</td>\n",
       "      <td>female</td>\n",
       "      <td>27.0</td>\n",
       "      <td>0</td>\n",
       "      <td>2</td>\n",
       "      <td>347742</td>\n",
       "      <td>2.409941</td>\n",
       "      <td>NaN</td>\n",
       "      <td>S</td>\n",
       "      <td>3</td>\n",
       "      <td>Mrs</td>\n",
       "    </tr>\n",
       "    <tr>\n",
       "      <th>9</th>\n",
       "      <td>10</td>\n",
       "      <td>1</td>\n",
       "      <td>2</td>\n",
       "      <td>Nasser, Mrs. Nicholas (Adele Achem)</td>\n",
       "      <td>female</td>\n",
       "      <td>14.0</td>\n",
       "      <td>1</td>\n",
       "      <td>0</td>\n",
       "      <td>237736</td>\n",
       "      <td>3.403555</td>\n",
       "      <td>NaN</td>\n",
       "      <td>C</td>\n",
       "      <td>2</td>\n",
       "      <td>Mrs</td>\n",
       "    </tr>\n",
       "    <tr>\n",
       "      <th>...</th>\n",
       "      <td>...</td>\n",
       "      <td>...</td>\n",
       "      <td>...</td>\n",
       "      <td>...</td>\n",
       "      <td>...</td>\n",
       "      <td>...</td>\n",
       "      <td>...</td>\n",
       "      <td>...</td>\n",
       "      <td>...</td>\n",
       "      <td>...</td>\n",
       "      <td>...</td>\n",
       "      <td>...</td>\n",
       "      <td>...</td>\n",
       "      <td>...</td>\n",
       "    </tr>\n",
       "    <tr>\n",
       "      <th>875</th>\n",
       "      <td>876</td>\n",
       "      <td>1</td>\n",
       "      <td>3</td>\n",
       "      <td>Najib, Miss. Adele Kiamie \"Jane\"</td>\n",
       "      <td>female</td>\n",
       "      <td>15.0</td>\n",
       "      <td>0</td>\n",
       "      <td>0</td>\n",
       "      <td>2667</td>\n",
       "      <td>1.977547</td>\n",
       "      <td>NaN</td>\n",
       "      <td>C</td>\n",
       "      <td>1</td>\n",
       "      <td>Miss</td>\n",
       "    </tr>\n",
       "    <tr>\n",
       "      <th>879</th>\n",
       "      <td>880</td>\n",
       "      <td>1</td>\n",
       "      <td>1</td>\n",
       "      <td>Potter, Mrs. Thomas Jr (Lily Alexenia Wilson)</td>\n",
       "      <td>female</td>\n",
       "      <td>56.0</td>\n",
       "      <td>0</td>\n",
       "      <td>1</td>\n",
       "      <td>11767</td>\n",
       "      <td>4.420746</td>\n",
       "      <td>C50</td>\n",
       "      <td>C</td>\n",
       "      <td>2</td>\n",
       "      <td>Mrs</td>\n",
       "    </tr>\n",
       "    <tr>\n",
       "      <th>880</th>\n",
       "      <td>881</td>\n",
       "      <td>1</td>\n",
       "      <td>2</td>\n",
       "      <td>Shelley, Mrs. William (Imanita Parrish Hall)</td>\n",
       "      <td>female</td>\n",
       "      <td>25.0</td>\n",
       "      <td>0</td>\n",
       "      <td>1</td>\n",
       "      <td>230433</td>\n",
       "      <td>3.258097</td>\n",
       "      <td>NaN</td>\n",
       "      <td>S</td>\n",
       "      <td>2</td>\n",
       "      <td>Mrs</td>\n",
       "    </tr>\n",
       "    <tr>\n",
       "      <th>887</th>\n",
       "      <td>888</td>\n",
       "      <td>1</td>\n",
       "      <td>1</td>\n",
       "      <td>Graham, Miss. Margaret Edith</td>\n",
       "      <td>female</td>\n",
       "      <td>19.0</td>\n",
       "      <td>0</td>\n",
       "      <td>0</td>\n",
       "      <td>112053</td>\n",
       "      <td>3.401197</td>\n",
       "      <td>B42</td>\n",
       "      <td>S</td>\n",
       "      <td>1</td>\n",
       "      <td>Miss</td>\n",
       "    </tr>\n",
       "    <tr>\n",
       "      <th>889</th>\n",
       "      <td>890</td>\n",
       "      <td>1</td>\n",
       "      <td>1</td>\n",
       "      <td>Behr, Mr. Karl Howell</td>\n",
       "      <td>male</td>\n",
       "      <td>26.0</td>\n",
       "      <td>0</td>\n",
       "      <td>0</td>\n",
       "      <td>111369</td>\n",
       "      <td>3.401197</td>\n",
       "      <td>C148</td>\n",
       "      <td>C</td>\n",
       "      <td>1</td>\n",
       "      <td>Mr</td>\n",
       "    </tr>\n",
       "  </tbody>\n",
       "</table>\n",
       "<p>342 rows × 14 columns</p>\n",
       "</div>"
      ],
      "text/plain": [
       "     PassengerId  Survived  Pclass  \\\n",
       "1              2         1       1   \n",
       "2              3         1       3   \n",
       "3              4         1       1   \n",
       "8              9         1       3   \n",
       "9             10         1       2   \n",
       "..           ...       ...     ...   \n",
       "875          876         1       3   \n",
       "879          880         1       1   \n",
       "880          881         1       2   \n",
       "887          888         1       1   \n",
       "889          890         1       1   \n",
       "\n",
       "                                                  Name     Sex   Age  SibSp  \\\n",
       "1    Cumings, Mrs. John Bradley (Florence Briggs Th...  female  38.0      1   \n",
       "2                               Heikkinen, Miss. Laina  female  26.0      0   \n",
       "3         Futrelle, Mrs. Jacques Heath (Lily May Peel)  female  35.0      1   \n",
       "8    Johnson, Mrs. Oscar W (Elisabeth Vilhelmina Berg)  female  27.0      0   \n",
       "9                  Nasser, Mrs. Nicholas (Adele Achem)  female  14.0      1   \n",
       "..                                                 ...     ...   ...    ...   \n",
       "875                   Najib, Miss. Adele Kiamie \"Jane\"  female  15.0      0   \n",
       "879      Potter, Mrs. Thomas Jr (Lily Alexenia Wilson)  female  56.0      0   \n",
       "880       Shelley, Mrs. William (Imanita Parrish Hall)  female  25.0      0   \n",
       "887                       Graham, Miss. Margaret Edith  female  19.0      0   \n",
       "889                              Behr, Mr. Karl Howell    male  26.0      0   \n",
       "\n",
       "     Parch            Ticket      Fare Cabin Embarked  FamilySize Initial  \n",
       "1        0          PC 17599  4.266662   C85        C           2     Mrs  \n",
       "2        0  STON/O2. 3101282  2.070022   NaN        S           1    Miss  \n",
       "3        0            113803  3.972177  C123        S           2     Mrs  \n",
       "8        2            347742  2.409941   NaN        S           3     Mrs  \n",
       "9        0            237736  3.403555   NaN        C           2     Mrs  \n",
       "..     ...               ...       ...   ...      ...         ...     ...  \n",
       "875      0              2667  1.977547   NaN        C           1    Miss  \n",
       "879      1             11767  4.420746   C50        C           2     Mrs  \n",
       "880      1            230433  3.258097   NaN        S           2     Mrs  \n",
       "887      0            112053  3.401197   B42        S           1    Miss  \n",
       "889      0            111369  3.401197  C148        C           1      Mr  \n",
       "\n",
       "[342 rows x 14 columns]"
      ]
     },
     "execution_count": 14,
     "metadata": {},
     "output_type": "execute_result"
    }
   ],
   "source": [
    "df_train.loc[df_train['Survived'] == 1]"
   ]
  },
  {
   "cell_type": "code",
   "execution_count": 15,
   "id": "010fd4ca",
   "metadata": {
    "execution": {
     "iopub.execute_input": "2022-02-05T13:57:18.665570Z",
     "iopub.status.busy": "2022-02-05T13:57:18.664913Z",
     "iopub.status.idle": "2022-02-05T13:57:18.677110Z",
     "shell.execute_reply": "2022-02-05T13:57:18.676562Z",
     "shell.execute_reply.started": "2022-02-05T13:53:48.308974Z"
    },
    "papermill": {
     "duration": 0.066933,
     "end_time": "2022-02-05T13:57:18.677258",
     "exception": false,
     "start_time": "2022-02-05T13:57:18.610325",
     "status": "completed"
    },
    "tags": []
   },
   "outputs": [],
   "source": [
    "df_train.loc[(df_train['Age'].isnull()) & (df_train['Initial'] == 'Mr'), 'Age'] = 30\n",
    "df_train.loc[(df_train['Age'].isnull()) & (df_train['Initial'] == 'Mrs'), 'Age'] = 37\n",
    "df_train.loc[(df_train['Age'].isnull()) & (df_train['Initial'] == 'Master'), 'Age'] = 5\n",
    "df_train.loc[(df_train['Age'].isnull()) & (df_train['Initial'] == 'Miss'), 'Age'] = 22\n",
    "df_train.loc[(df_train['Age'].isnull()) & (df_train['Initial'] == 'Other'), 'Age'] = 45\n",
    "\n",
    "df_test.loc[(df_test['Age'].isnull()) & (df_test['Initial'] == 'Mr'), 'Age'] = 30\n",
    "df_test.loc[(df_test['Age'].isnull()) & (df_test['Initial'] == 'Mrs'), 'Age'] = 37\n",
    "df_test.loc[(df_test['Age'].isnull()) & (df_test['Initial'] == 'Master'), 'Age'] = 5\n",
    "df_test.loc[(df_test['Age'].isnull()) & (df_test['Initial'] == 'Miss'), 'Age'] = 22\n",
    "df_test.loc[(df_test['Age'].isnull()) & (df_test['Initial'] == 'Other'), 'Age'] = 45"
   ]
  },
  {
   "cell_type": "code",
   "execution_count": 16,
   "id": "06ae623b",
   "metadata": {
    "execution": {
     "iopub.execute_input": "2022-02-05T13:57:18.771880Z",
     "iopub.status.busy": "2022-02-05T13:57:18.770867Z",
     "iopub.status.idle": "2022-02-05T13:57:18.777425Z",
     "shell.execute_reply": "2022-02-05T13:57:18.777906Z",
     "shell.execute_reply.started": "2022-02-05T13:53:48.334308Z"
    },
    "papermill": {
     "duration": 0.05693,
     "end_time": "2022-02-05T13:57:18.778079",
     "exception": false,
     "start_time": "2022-02-05T13:57:18.721149",
     "status": "completed"
    },
    "tags": []
   },
   "outputs": [
    {
     "data": {
      "text/plain": [
       "0      22.0\n",
       "4      35.0\n",
       "5      30.0\n",
       "6      54.0\n",
       "12     20.0\n",
       "       ... \n",
       "881    33.0\n",
       "883    28.0\n",
       "884    25.0\n",
       "889    26.0\n",
       "890    32.0\n",
       "Name: Age, Length: 529, dtype: float64"
      ]
     },
     "execution_count": 16,
     "metadata": {},
     "output_type": "execute_result"
    }
   ],
   "source": [
    "df_train.loc[(df_train['Initial'] == 'Mr'), 'Age']"
   ]
  },
  {
   "cell_type": "code",
   "execution_count": 17,
   "id": "a5b2a934",
   "metadata": {
    "execution": {
     "iopub.execute_input": "2022-02-05T13:57:18.871561Z",
     "iopub.status.busy": "2022-02-05T13:57:18.870867Z",
     "iopub.status.idle": "2022-02-05T13:57:18.872872Z",
     "shell.execute_reply": "2022-02-05T13:57:18.872365Z",
     "shell.execute_reply.started": "2022-02-05T13:53:48.345909Z"
    },
    "papermill": {
     "duration": 0.051392,
     "end_time": "2022-02-05T13:57:18.873012",
     "exception": false,
     "start_time": "2022-02-05T13:57:18.821620",
     "status": "completed"
    },
    "tags": []
   },
   "outputs": [],
   "source": [
    "df_train['Embarked'].fillna('S', inplace=True)"
   ]
  },
  {
   "cell_type": "code",
   "execution_count": 18,
   "id": "c496c330",
   "metadata": {
    "execution": {
     "iopub.execute_input": "2022-02-05T13:57:18.965695Z",
     "iopub.status.busy": "2022-02-05T13:57:18.964688Z",
     "iopub.status.idle": "2022-02-05T13:57:18.970823Z",
     "shell.execute_reply": "2022-02-05T13:57:18.971333Z",
     "shell.execute_reply.started": "2022-02-05T13:53:48.360158Z"
    },
    "papermill": {
     "duration": 0.053518,
     "end_time": "2022-02-05T13:57:18.971495",
     "exception": false,
     "start_time": "2022-02-05T13:57:18.917977",
     "status": "completed"
    },
    "tags": []
   },
   "outputs": [
    {
     "data": {
      "text/plain": [
       "0"
      ]
     },
     "execution_count": 18,
     "metadata": {},
     "output_type": "execute_result"
    }
   ],
   "source": [
    "df_train['Embarked'].isnull().sum()"
   ]
  },
  {
   "cell_type": "code",
   "execution_count": 19,
   "id": "e0641979",
   "metadata": {
    "execution": {
     "iopub.execute_input": "2022-02-05T13:57:19.063188Z",
     "iopub.status.busy": "2022-02-05T13:57:19.062233Z",
     "iopub.status.idle": "2022-02-05T13:57:19.076910Z",
     "shell.execute_reply": "2022-02-05T13:57:19.077439Z",
     "shell.execute_reply.started": "2022-02-05T13:53:48.375927Z"
    },
    "papermill": {
     "duration": 0.061986,
     "end_time": "2022-02-05T13:57:19.077608",
     "exception": false,
     "start_time": "2022-02-05T13:57:19.015622",
     "status": "completed"
    },
    "tags": []
   },
   "outputs": [],
   "source": [
    "df_train['Age_cat'] = 0\n",
    "df_train.loc[df_train['Age'] < 10, 'Age_cat'] = 0\n",
    "df_train.loc[(10 <= df_train['Age']) & (df_train['Age'] < 20), 'Age_cat'] = 1\n",
    "df_train.loc[(20 <= df_train['Age']) & (df_train['Age'] < 30), 'Age_cat'] = 2\n",
    "df_train.loc[(30 <= df_train['Age']) & (df_train['Age'] < 40), 'Age_cat'] = 3\n",
    "df_train.loc[(40 <= df_train['Age']) & (df_train['Age'] < 50), 'Age_cat'] = 4\n",
    "df_train.loc[(50 <= df_train['Age']) & (df_train['Age'] < 60), 'Age_cat'] = 5\n",
    "df_train.loc[(60 <= df_train['Age']) & (df_train['Age'] < 70), 'Age_cat'] = 6\n",
    "df_train.loc[70 <= df_train['Age'], 'Age_cat'] = 7"
   ]
  },
  {
   "cell_type": "code",
   "execution_count": 20,
   "id": "c80644d8",
   "metadata": {
    "execution": {
     "iopub.execute_input": "2022-02-05T13:57:19.170123Z",
     "iopub.status.busy": "2022-02-05T13:57:19.169121Z",
     "iopub.status.idle": "2022-02-05T13:57:19.184090Z",
     "shell.execute_reply": "2022-02-05T13:57:19.184617Z",
     "shell.execute_reply.started": "2022-02-05T13:53:48.395886Z"
    },
    "papermill": {
     "duration": 0.06252,
     "end_time": "2022-02-05T13:57:19.184803",
     "exception": false,
     "start_time": "2022-02-05T13:57:19.122283",
     "status": "completed"
    },
    "tags": []
   },
   "outputs": [],
   "source": [
    "df_test['Age_cat'] = 0\n",
    "df_test.loc[df_test['Age'] < 10, 'Age_cat'] = 0\n",
    "df_test.loc[(10 <= df_test['Age']) & (df_test['Age'] < 20), 'Age_cat'] = 1\n",
    "df_test.loc[(20 <= df_test['Age']) & (df_test['Age'] < 30), 'Age_cat'] = 2\n",
    "df_test.loc[(30 <= df_test['Age']) & (df_test['Age'] < 40), 'Age_cat'] = 3\n",
    "df_test.loc[(40 <= df_test['Age']) & (df_test['Age'] < 50), 'Age_cat'] = 4\n",
    "df_test.loc[(50 <= df_test['Age']) & (df_test['Age'] < 60), 'Age_cat'] = 5\n",
    "df_test.loc[(60 <= df_test['Age']) & (df_test['Age'] < 70), 'Age_cat'] = 6\n",
    "df_test.loc[70 <= df_test['Age'], 'Age_cat'] = 7"
   ]
  },
  {
   "cell_type": "code",
   "execution_count": 21,
   "id": "7c693956",
   "metadata": {
    "execution": {
     "iopub.execute_input": "2022-02-05T13:57:19.279785Z",
     "iopub.status.busy": "2022-02-05T13:57:19.278726Z",
     "iopub.status.idle": "2022-02-05T13:57:19.280652Z",
     "shell.execute_reply": "2022-02-05T13:57:19.281236Z",
     "shell.execute_reply.started": "2022-02-05T13:53:48.418227Z"
    },
    "papermill": {
     "duration": 0.052249,
     "end_time": "2022-02-05T13:57:19.281403",
     "exception": false,
     "start_time": "2022-02-05T13:57:19.229154",
     "status": "completed"
    },
    "tags": []
   },
   "outputs": [],
   "source": [
    "def category_age(x):\n",
    "    if x < 10:\n",
    "        return 0\n",
    "    elif x < 20:\n",
    "        return 1\n",
    "    elif x < 30:\n",
    "        return 2\n",
    "    elif x < 40:\n",
    "        return 3\n",
    "    elif x < 50:\n",
    "        return 4\n",
    "    elif x < 60:\n",
    "        return 5\n",
    "    elif x < 70:\n",
    "        return 6\n",
    "    else:\n",
    "        return 7 "
   ]
  },
  {
   "cell_type": "code",
   "execution_count": 22,
   "id": "741be5fd",
   "metadata": {
    "execution": {
     "iopub.execute_input": "2022-02-05T13:57:19.372599Z",
     "iopub.status.busy": "2022-02-05T13:57:19.371640Z",
     "iopub.status.idle": "2022-02-05T13:57:19.377368Z",
     "shell.execute_reply": "2022-02-05T13:57:19.377922Z",
     "shell.execute_reply.started": "2022-02-05T13:53:48.434433Z"
    },
    "papermill": {
     "duration": 0.052906,
     "end_time": "2022-02-05T13:57:19.378088",
     "exception": false,
     "start_time": "2022-02-05T13:57:19.325182",
     "status": "completed"
    },
    "tags": []
   },
   "outputs": [],
   "source": [
    "df_train['Age_cat_2'] = df_train['Age'].apply(category_age)"
   ]
  },
  {
   "cell_type": "code",
   "execution_count": 23,
   "id": "77f8ab18",
   "metadata": {
    "execution": {
     "iopub.execute_input": "2022-02-05T13:57:19.469495Z",
     "iopub.status.busy": "2022-02-05T13:57:19.468509Z",
     "iopub.status.idle": "2022-02-05T13:57:19.474994Z",
     "shell.execute_reply": "2022-02-05T13:57:19.475502Z",
     "shell.execute_reply.started": "2022-02-05T13:53:48.450108Z"
    },
    "papermill": {
     "duration": 0.053798,
     "end_time": "2022-02-05T13:57:19.475679",
     "exception": false,
     "start_time": "2022-02-05T13:57:19.421881",
     "status": "completed"
    },
    "tags": []
   },
   "outputs": [
    {
     "data": {
      "text/plain": [
       "True"
      ]
     },
     "execution_count": 23,
     "metadata": {},
     "output_type": "execute_result"
    }
   ],
   "source": [
    "(df_train['Age_cat'] == df_train['Age_cat_2']).all()"
   ]
  },
  {
   "cell_type": "code",
   "execution_count": 24,
   "id": "4cb0c182",
   "metadata": {
    "execution": {
     "iopub.execute_input": "2022-02-05T13:57:19.568612Z",
     "iopub.status.busy": "2022-02-05T13:57:19.567638Z",
     "iopub.status.idle": "2022-02-05T13:57:19.574489Z",
     "shell.execute_reply": "2022-02-05T13:57:19.575051Z",
     "shell.execute_reply.started": "2022-02-05T13:53:48.461525Z"
    },
    "papermill": {
     "duration": 0.054375,
     "end_time": "2022-02-05T13:57:19.575218",
     "exception": false,
     "start_time": "2022-02-05T13:57:19.520843",
     "status": "completed"
    },
    "tags": []
   },
   "outputs": [],
   "source": [
    "df_train.drop(['Age', 'Age_cat_2'], axis=1, inplace=True)\n",
    "df_test.drop(['Age'], axis=1, inplace=True)"
   ]
  },
  {
   "cell_type": "code",
   "execution_count": 25,
   "id": "2c3be969",
   "metadata": {
    "execution": {
     "iopub.execute_input": "2022-02-05T13:57:19.668878Z",
     "iopub.status.busy": "2022-02-05T13:57:19.667863Z",
     "iopub.status.idle": "2022-02-05T13:57:19.672002Z",
     "shell.execute_reply": "2022-02-05T13:57:19.672514Z",
     "shell.execute_reply.started": "2022-02-05T13:53:48.479885Z"
    },
    "papermill": {
     "duration": 0.053322,
     "end_time": "2022-02-05T13:57:19.672694",
     "exception": false,
     "start_time": "2022-02-05T13:57:19.619372",
     "status": "completed"
    },
    "tags": []
   },
   "outputs": [
    {
     "data": {
      "text/plain": [
       "array(['Mr', 'Mrs', 'Miss', 'Master', 'Other'], dtype=object)"
      ]
     },
     "execution_count": 25,
     "metadata": {},
     "output_type": "execute_result"
    }
   ],
   "source": [
    "df_train.Initial.unique()"
   ]
  },
  {
   "cell_type": "code",
   "execution_count": 26,
   "id": "cf43355c",
   "metadata": {
    "execution": {
     "iopub.execute_input": "2022-02-05T13:57:19.766258Z",
     "iopub.status.busy": "2022-02-05T13:57:19.765282Z",
     "iopub.status.idle": "2022-02-05T13:57:19.773685Z",
     "shell.execute_reply": "2022-02-05T13:57:19.774238Z",
     "shell.execute_reply.started": "2022-02-05T13:53:48.492506Z"
    },
    "papermill": {
     "duration": 0.057223,
     "end_time": "2022-02-05T13:57:19.774415",
     "exception": false,
     "start_time": "2022-02-05T13:57:19.717192",
     "status": "completed"
    },
    "tags": []
   },
   "outputs": [],
   "source": [
    "df_train['Initial'] = df_train['Initial'].map({'Master':0, 'Miss':1, 'Mr':2, 'Mrs':3, 'Other':4})\n",
    "df_test['Initial'] = df_test['Initial'].map({'Master':0, 'Miss':1, 'Mr':2, 'Mrs':3, 'Other':4})"
   ]
  },
  {
   "cell_type": "code",
   "execution_count": 27,
   "id": "dbc5e2e2",
   "metadata": {
    "execution": {
     "iopub.execute_input": "2022-02-05T13:57:19.869543Z",
     "iopub.status.busy": "2022-02-05T13:57:19.868586Z",
     "iopub.status.idle": "2022-02-05T13:57:19.874806Z",
     "shell.execute_reply": "2022-02-05T13:57:19.875343Z",
     "shell.execute_reply.started": "2022-02-05T13:53:48.508301Z"
    },
    "papermill": {
     "duration": 0.054057,
     "end_time": "2022-02-05T13:57:19.875509",
     "exception": false,
     "start_time": "2022-02-05T13:57:19.821452",
     "status": "completed"
    },
    "tags": []
   },
   "outputs": [
    {
     "data": {
      "text/plain": [
       "array(['S', 'C', 'Q'], dtype=object)"
      ]
     },
     "execution_count": 27,
     "metadata": {},
     "output_type": "execute_result"
    }
   ],
   "source": [
    "df_train.Embarked.unique()"
   ]
  },
  {
   "cell_type": "code",
   "execution_count": 28,
   "id": "7a3c876f",
   "metadata": {
    "execution": {
     "iopub.execute_input": "2022-02-05T13:57:19.969739Z",
     "iopub.status.busy": "2022-02-05T13:57:19.968754Z",
     "iopub.status.idle": "2022-02-05T13:57:19.975932Z",
     "shell.execute_reply": "2022-02-05T13:57:19.976441Z",
     "shell.execute_reply.started": "2022-02-05T13:53:48.521992Z"
    },
    "papermill": {
     "duration": 0.056347,
     "end_time": "2022-02-05T13:57:19.976609",
     "exception": false,
     "start_time": "2022-02-05T13:57:19.920262",
     "status": "completed"
    },
    "tags": []
   },
   "outputs": [],
   "source": [
    "df_train['Embarked'] = df_train['Embarked'].map({'C':0,'Q':1,'S':2})\n",
    "df_test['Embarked'] = df_test['Embarked'].map({'C':0,'Q':1,'S':2})"
   ]
  },
  {
   "cell_type": "code",
   "execution_count": 29,
   "id": "403af12c",
   "metadata": {
    "execution": {
     "iopub.execute_input": "2022-02-05T13:57:20.070278Z",
     "iopub.status.busy": "2022-02-05T13:57:20.069280Z",
     "iopub.status.idle": "2022-02-05T13:57:20.076489Z",
     "shell.execute_reply": "2022-02-05T13:57:20.077048Z",
     "shell.execute_reply.started": "2022-02-05T13:53:48.534133Z"
    },
    "papermill": {
     "duration": 0.055391,
     "end_time": "2022-02-05T13:57:20.077218",
     "exception": false,
     "start_time": "2022-02-05T13:57:20.021827",
     "status": "completed"
    },
    "tags": []
   },
   "outputs": [],
   "source": [
    "df_train['Sex'] = df_train['Sex'].map({'female':0,'male':1})\n",
    "df_test['Sex'] = df_test['Sex'].map({'female':0,'male':1})"
   ]
  },
  {
   "cell_type": "code",
   "execution_count": 30,
   "id": "6849f697",
   "metadata": {
    "execution": {
     "iopub.execute_input": "2022-02-05T13:57:20.171536Z",
     "iopub.status.busy": "2022-02-05T13:57:20.170597Z",
     "iopub.status.idle": "2022-02-05T13:57:20.187837Z",
     "shell.execute_reply": "2022-02-05T13:57:20.187281Z",
     "shell.execute_reply.started": "2022-02-05T13:53:48.546004Z"
    },
    "papermill": {
     "duration": 0.065857,
     "end_time": "2022-02-05T13:57:20.187986",
     "exception": false,
     "start_time": "2022-02-05T13:57:20.122129",
     "status": "completed"
    },
    "tags": []
   },
   "outputs": [],
   "source": [
    "df_train = pd.get_dummies(df_train, columns=['Initial'], prefix='Initial')\n",
    "df_test = pd.get_dummies(df_test, columns=['Initial'], prefix='Initial')"
   ]
  },
  {
   "cell_type": "code",
   "execution_count": 31,
   "id": "db613b34",
   "metadata": {
    "execution": {
     "iopub.execute_input": "2022-02-05T13:57:20.280363Z",
     "iopub.status.busy": "2022-02-05T13:57:20.279743Z",
     "iopub.status.idle": "2022-02-05T13:57:20.291994Z",
     "shell.execute_reply": "2022-02-05T13:57:20.292482Z",
     "shell.execute_reply.started": "2022-02-05T13:53:48.567327Z"
    },
    "papermill": {
     "duration": 0.059856,
     "end_time": "2022-02-05T13:57:20.292645",
     "exception": false,
     "start_time": "2022-02-05T13:57:20.232789",
     "status": "completed"
    },
    "tags": []
   },
   "outputs": [],
   "source": [
    "df_train = pd.get_dummies(df_train, columns=['Embarked'], prefix = 'Embarked')\n",
    "df_test = pd.get_dummies(df_test, columns=['Embarked'], prefix = 'Embarked')"
   ]
  },
  {
   "cell_type": "code",
   "execution_count": 32,
   "id": "e50666d4",
   "metadata": {
    "execution": {
     "iopub.execute_input": "2022-02-05T13:57:20.385824Z",
     "iopub.status.busy": "2022-02-05T13:57:20.385194Z",
     "iopub.status.idle": "2022-02-05T13:57:20.392290Z",
     "shell.execute_reply": "2022-02-05T13:57:20.392800Z",
     "shell.execute_reply.started": "2022-02-05T13:53:48.585434Z"
    },
    "papermill": {
     "duration": 0.055018,
     "end_time": "2022-02-05T13:57:20.392974",
     "exception": false,
     "start_time": "2022-02-05T13:57:20.337956",
     "status": "completed"
    },
    "tags": []
   },
   "outputs": [],
   "source": [
    "df_train.drop(['PassengerId', 'Name', 'SibSp', 'Parch', 'Ticket','Cabin'], axis=1, inplace=True)\n",
    "df_test.drop(['PassengerId', 'Name', 'SibSp', 'Parch', 'Ticket','Cabin'], axis=1, inplace=True)"
   ]
  },
  {
   "cell_type": "code",
   "execution_count": 33,
   "id": "5c258a74",
   "metadata": {
    "execution": {
     "iopub.execute_input": "2022-02-05T13:57:20.486036Z",
     "iopub.status.busy": "2022-02-05T13:57:20.485393Z",
     "iopub.status.idle": "2022-02-05T13:57:20.887033Z",
     "shell.execute_reply": "2022-02-05T13:57:20.887581Z",
     "shell.execute_reply.started": "2022-02-05T13:53:48.598286Z"
    },
    "papermill": {
     "duration": 0.449856,
     "end_time": "2022-02-05T13:57:20.887798",
     "exception": false,
     "start_time": "2022-02-05T13:57:20.437942",
     "status": "completed"
    },
    "tags": []
   },
   "outputs": [],
   "source": [
    "from sklearn.ensemble import RandomForestClassifier\n",
    "from sklearn import metrics\n",
    "from sklearn.model_selection import train_test_split"
   ]
  },
  {
   "cell_type": "code",
   "execution_count": 34,
   "id": "a387d3be",
   "metadata": {
    "execution": {
     "iopub.execute_input": "2022-02-05T13:57:20.981386Z",
     "iopub.status.busy": "2022-02-05T13:57:20.980701Z",
     "iopub.status.idle": "2022-02-05T13:57:20.986059Z",
     "shell.execute_reply": "2022-02-05T13:57:20.986585Z",
     "shell.execute_reply.started": "2022-02-05T13:53:48.610004Z"
    },
    "papermill": {
     "duration": 0.053333,
     "end_time": "2022-02-05T13:57:20.986781",
     "exception": false,
     "start_time": "2022-02-05T13:57:20.933448",
     "status": "completed"
    },
    "tags": []
   },
   "outputs": [],
   "source": [
    "X_train = df_train.drop('Survived', axis=1).values\n",
    "target_label = df_train['Survived'].values\n",
    "X_test = df_test.values"
   ]
  },
  {
   "cell_type": "code",
   "execution_count": 35,
   "id": "0288f688",
   "metadata": {
    "execution": {
     "iopub.execute_input": "2022-02-05T13:57:21.081311Z",
     "iopub.status.busy": "2022-02-05T13:57:21.080644Z",
     "iopub.status.idle": "2022-02-05T13:57:21.086725Z",
     "shell.execute_reply": "2022-02-05T13:57:21.087335Z",
     "shell.execute_reply.started": "2022-02-05T13:53:48.626077Z"
    },
    "papermill": {
     "duration": 0.055491,
     "end_time": "2022-02-05T13:57:21.087522",
     "exception": false,
     "start_time": "2022-02-05T13:57:21.032031",
     "status": "completed"
    },
    "tags": []
   },
   "outputs": [],
   "source": [
    "X_tr, X_vid, y_tr, y_vid = train_test_split(X_train, target_label, test_size=0.3, random_state=2018)"
   ]
  },
  {
   "cell_type": "code",
   "execution_count": 36,
   "id": "a8c78355",
   "metadata": {
    "execution": {
     "iopub.execute_input": "2022-02-05T13:57:21.180528Z",
     "iopub.status.busy": "2022-02-05T13:57:21.179870Z",
     "iopub.status.idle": "2022-02-05T13:57:21.405200Z",
     "shell.execute_reply": "2022-02-05T13:57:21.404498Z",
     "shell.execute_reply.started": "2022-02-05T13:53:48.639433Z"
    },
    "papermill": {
     "duration": 0.272807,
     "end_time": "2022-02-05T13:57:21.405399",
     "exception": false,
     "start_time": "2022-02-05T13:57:21.132592",
     "status": "completed"
    },
    "tags": []
   },
   "outputs": [
    {
     "data": {
      "text/plain": [
       "RandomForestClassifier()"
      ]
     },
     "execution_count": 36,
     "metadata": {},
     "output_type": "execute_result"
    }
   ],
   "source": [
    "model = RandomForestClassifier()\n",
    "model.fit(X_tr, y_tr)"
   ]
  },
  {
   "cell_type": "code",
   "execution_count": 37,
   "id": "35dae917",
   "metadata": {
    "execution": {
     "iopub.execute_input": "2022-02-05T13:57:21.502239Z",
     "iopub.status.busy": "2022-02-05T13:57:21.501561Z",
     "iopub.status.idle": "2022-02-05T13:57:21.517585Z",
     "shell.execute_reply": "2022-02-05T13:57:21.518145Z",
     "shell.execute_reply.started": "2022-02-05T13:53:48.872599Z"
    },
    "papermill": {
     "duration": 0.067388,
     "end_time": "2022-02-05T13:57:21.518801",
     "exception": false,
     "start_time": "2022-02-05T13:57:21.451413",
     "status": "completed"
    },
    "tags": []
   },
   "outputs": [],
   "source": [
    "prediction = model.predict(X_vid)"
   ]
  },
  {
   "cell_type": "code",
   "execution_count": 38,
   "id": "401ea598",
   "metadata": {
    "execution": {
     "iopub.execute_input": "2022-02-05T13:57:21.614764Z",
     "iopub.status.busy": "2022-02-05T13:57:21.614038Z",
     "iopub.status.idle": "2022-02-05T13:57:21.617138Z",
     "shell.execute_reply": "2022-02-05T13:57:21.617642Z",
     "shell.execute_reply.started": "2022-02-05T13:53:48.894552Z"
    },
    "papermill": {
     "duration": 0.053782,
     "end_time": "2022-02-05T13:57:21.617825",
     "exception": false,
     "start_time": "2022-02-05T13:57:21.564043",
     "status": "completed"
    },
    "tags": []
   },
   "outputs": [
    {
     "name": "stdout",
     "output_type": "stream",
     "text": [
      "총 268명 중 82.462687% 정확도로 생존 맞춤\n"
     ]
    }
   ],
   "source": [
    "print('총 {}명 중 {:2f}% 정확도로 생존 맞춤'.format(y_vid.shape[0], 100 * metrics.accuracy_score(prediction, y_vid)))"
   ]
  },
  {
   "cell_type": "code",
   "execution_count": 39,
   "id": "38883479",
   "metadata": {
    "execution": {
     "iopub.execute_input": "2022-02-05T13:57:21.715304Z",
     "iopub.status.busy": "2022-02-05T13:57:21.714618Z",
     "iopub.status.idle": "2022-02-05T13:57:21.717606Z",
     "shell.execute_reply": "2022-02-05T13:57:21.718089Z",
     "shell.execute_reply.started": "2022-02-05T13:53:48.902738Z"
    },
    "papermill": {
     "duration": 0.054435,
     "end_time": "2022-02-05T13:57:21.718245",
     "exception": false,
     "start_time": "2022-02-05T13:57:21.663810",
     "status": "completed"
    },
    "tags": []
   },
   "outputs": [
    {
     "data": {
      "text/plain": [
       "0.8246268656716418"
      ]
     },
     "execution_count": 39,
     "metadata": {},
     "output_type": "execute_result"
    }
   ],
   "source": [
    "(prediction == y_vid).sum() / prediction.shape[0]"
   ]
  },
  {
   "cell_type": "code",
   "execution_count": 40,
   "id": "245479ac",
   "metadata": {
    "execution": {
     "iopub.execute_input": "2022-02-05T13:57:21.813508Z",
     "iopub.status.busy": "2022-02-05T13:57:21.812887Z",
     "iopub.status.idle": "2022-02-05T13:57:21.827275Z",
     "shell.execute_reply": "2022-02-05T13:57:21.826650Z",
     "shell.execute_reply.started": "2022-02-05T13:53:48.918436Z"
    },
    "papermill": {
     "duration": 0.0635,
     "end_time": "2022-02-05T13:57:21.827407",
     "exception": false,
     "start_time": "2022-02-05T13:57:21.763907",
     "status": "completed"
    },
    "tags": []
   },
   "outputs": [
    {
     "data": {
      "text/plain": [
       "array([0.09804917, 0.11024793, 0.32692013, 0.09903017, 0.11821897,\n",
       "       0.01154784, 0.03523355, 0.12984508, 0.01969754, 0.00515483,\n",
       "       0.01535399, 0.01285372, 0.01784709])"
      ]
     },
     "execution_count": 40,
     "metadata": {},
     "output_type": "execute_result"
    }
   ],
   "source": [
    "model.feature_importances_"
   ]
  },
  {
   "cell_type": "code",
   "execution_count": 41,
   "id": "6d833956",
   "metadata": {
    "execution": {
     "iopub.execute_input": "2022-02-05T13:57:21.924832Z",
     "iopub.status.busy": "2022-02-05T13:57:21.923993Z",
     "iopub.status.idle": "2022-02-05T13:57:21.937002Z",
     "shell.execute_reply": "2022-02-05T13:57:21.937443Z",
     "shell.execute_reply.started": "2022-02-05T13:53:48.943378Z"
    },
    "papermill": {
     "duration": 0.062913,
     "end_time": "2022-02-05T13:57:21.937606",
     "exception": false,
     "start_time": "2022-02-05T13:57:21.874693",
     "status": "completed"
    },
    "tags": []
   },
   "outputs": [
    {
     "data": {
      "text/html": [
       "<div>\n",
       "<style scoped>\n",
       "    .dataframe tbody tr th:only-of-type {\n",
       "        vertical-align: middle;\n",
       "    }\n",
       "\n",
       "    .dataframe tbody tr th {\n",
       "        vertical-align: top;\n",
       "    }\n",
       "\n",
       "    .dataframe thead th {\n",
       "        text-align: right;\n",
       "    }\n",
       "</style>\n",
       "<table border=\"1\" class=\"dataframe\">\n",
       "  <thead>\n",
       "    <tr style=\"text-align: right;\">\n",
       "      <th></th>\n",
       "      <th>Survived</th>\n",
       "      <th>Pclass</th>\n",
       "      <th>Sex</th>\n",
       "      <th>Fare</th>\n",
       "      <th>FamilySize</th>\n",
       "      <th>Age_cat</th>\n",
       "      <th>Initial_0</th>\n",
       "      <th>Initial_1</th>\n",
       "      <th>Initial_2</th>\n",
       "      <th>Initial_3</th>\n",
       "      <th>Initial_4</th>\n",
       "      <th>Embarked_0</th>\n",
       "      <th>Embarked_1</th>\n",
       "      <th>Embarked_2</th>\n",
       "    </tr>\n",
       "  </thead>\n",
       "  <tbody>\n",
       "    <tr>\n",
       "      <th>0</th>\n",
       "      <td>0</td>\n",
       "      <td>3</td>\n",
       "      <td>1</td>\n",
       "      <td>1.981001</td>\n",
       "      <td>2</td>\n",
       "      <td>2</td>\n",
       "      <td>0</td>\n",
       "      <td>0</td>\n",
       "      <td>1</td>\n",
       "      <td>0</td>\n",
       "      <td>0</td>\n",
       "      <td>0</td>\n",
       "      <td>0</td>\n",
       "      <td>1</td>\n",
       "    </tr>\n",
       "    <tr>\n",
       "      <th>1</th>\n",
       "      <td>1</td>\n",
       "      <td>1</td>\n",
       "      <td>0</td>\n",
       "      <td>4.266662</td>\n",
       "      <td>2</td>\n",
       "      <td>3</td>\n",
       "      <td>0</td>\n",
       "      <td>0</td>\n",
       "      <td>0</td>\n",
       "      <td>1</td>\n",
       "      <td>0</td>\n",
       "      <td>1</td>\n",
       "      <td>0</td>\n",
       "      <td>0</td>\n",
       "    </tr>\n",
       "    <tr>\n",
       "      <th>2</th>\n",
       "      <td>1</td>\n",
       "      <td>3</td>\n",
       "      <td>0</td>\n",
       "      <td>2.070022</td>\n",
       "      <td>1</td>\n",
       "      <td>2</td>\n",
       "      <td>0</td>\n",
       "      <td>1</td>\n",
       "      <td>0</td>\n",
       "      <td>0</td>\n",
       "      <td>0</td>\n",
       "      <td>0</td>\n",
       "      <td>0</td>\n",
       "      <td>1</td>\n",
       "    </tr>\n",
       "    <tr>\n",
       "      <th>3</th>\n",
       "      <td>1</td>\n",
       "      <td>1</td>\n",
       "      <td>0</td>\n",
       "      <td>3.972177</td>\n",
       "      <td>2</td>\n",
       "      <td>3</td>\n",
       "      <td>0</td>\n",
       "      <td>0</td>\n",
       "      <td>0</td>\n",
       "      <td>1</td>\n",
       "      <td>0</td>\n",
       "      <td>0</td>\n",
       "      <td>0</td>\n",
       "      <td>1</td>\n",
       "    </tr>\n",
       "    <tr>\n",
       "      <th>4</th>\n",
       "      <td>0</td>\n",
       "      <td>3</td>\n",
       "      <td>1</td>\n",
       "      <td>2.085672</td>\n",
       "      <td>1</td>\n",
       "      <td>3</td>\n",
       "      <td>0</td>\n",
       "      <td>0</td>\n",
       "      <td>1</td>\n",
       "      <td>0</td>\n",
       "      <td>0</td>\n",
       "      <td>0</td>\n",
       "      <td>0</td>\n",
       "      <td>1</td>\n",
       "    </tr>\n",
       "  </tbody>\n",
       "</table>\n",
       "</div>"
      ],
      "text/plain": [
       "   Survived  Pclass  Sex      Fare  FamilySize  Age_cat  Initial_0  Initial_1  \\\n",
       "0         0       3    1  1.981001           2        2          0          0   \n",
       "1         1       1    0  4.266662           2        3          0          0   \n",
       "2         1       3    0  2.070022           1        2          0          1   \n",
       "3         1       1    0  3.972177           2        3          0          0   \n",
       "4         0       3    1  2.085672           1        3          0          0   \n",
       "\n",
       "   Initial_2  Initial_3  Initial_4  Embarked_0  Embarked_1  Embarked_2  \n",
       "0          1          0          0           0           0           1  \n",
       "1          0          1          0           1           0           0  \n",
       "2          0          0          0           0           0           1  \n",
       "3          0          1          0           0           0           1  \n",
       "4          1          0          0           0           0           1  "
      ]
     },
     "execution_count": 41,
     "metadata": {},
     "output_type": "execute_result"
    }
   ],
   "source": [
    "df_train.head()"
   ]
  },
  {
   "cell_type": "code",
   "execution_count": 42,
   "id": "b0d9bfc9",
   "metadata": {
    "execution": {
     "iopub.execute_input": "2022-02-05T13:57:22.035924Z",
     "iopub.status.busy": "2022-02-05T13:57:22.035269Z",
     "iopub.status.idle": "2022-02-05T13:57:22.037551Z",
     "shell.execute_reply": "2022-02-05T13:57:22.038037Z",
     "shell.execute_reply.started": "2022-02-05T13:53:48.959959Z"
    },
    "papermill": {
     "duration": 0.053964,
     "end_time": "2022-02-05T13:57:22.038201",
     "exception": false,
     "start_time": "2022-02-05T13:57:21.984237",
     "status": "completed"
    },
    "tags": []
   },
   "outputs": [],
   "source": [
    "from pandas import Series"
   ]
  },
  {
   "cell_type": "code",
   "execution_count": 43,
   "id": "4cd65441",
   "metadata": {
    "execution": {
     "iopub.execute_input": "2022-02-05T13:57:22.135919Z",
     "iopub.status.busy": "2022-02-05T13:57:22.135226Z",
     "iopub.status.idle": "2022-02-05T13:57:22.148534Z",
     "shell.execute_reply": "2022-02-05T13:57:22.149078Z",
     "shell.execute_reply.started": "2022-02-05T13:53:48.972048Z"
    },
    "papermill": {
     "duration": 0.064414,
     "end_time": "2022-02-05T13:57:22.149253",
     "exception": false,
     "start_time": "2022-02-05T13:57:22.084839",
     "status": "completed"
    },
    "tags": []
   },
   "outputs": [],
   "source": [
    "feature_importance = model.feature_importances_\n",
    "Series_feat_imp = Series(feature_importance, index=df_test.columns)"
   ]
  },
  {
   "cell_type": "code",
   "execution_count": 44,
   "id": "53e22b38",
   "metadata": {
    "execution": {
     "iopub.execute_input": "2022-02-05T13:57:22.247020Z",
     "iopub.status.busy": "2022-02-05T13:57:22.246350Z",
     "iopub.status.idle": "2022-02-05T13:57:22.252327Z",
     "shell.execute_reply": "2022-02-05T13:57:22.252834Z",
     "shell.execute_reply.started": "2022-02-05T13:53:48.994643Z"
    },
    "papermill": {
     "duration": 0.056156,
     "end_time": "2022-02-05T13:57:22.253004",
     "exception": false,
     "start_time": "2022-02-05T13:57:22.196848",
     "status": "completed"
    },
    "tags": []
   },
   "outputs": [
    {
     "data": {
      "text/plain": [
       "Pclass        0.098049\n",
       "Sex           0.110248\n",
       "Fare          0.326920\n",
       "FamilySize    0.099030\n",
       "Age_cat       0.118219\n",
       "Initial_0     0.011548\n",
       "Initial_1     0.035234\n",
       "Initial_2     0.129845\n",
       "Initial_3     0.019698\n",
       "Initial_4     0.005155\n",
       "Embarked_0    0.015354\n",
       "Embarked_1    0.012854\n",
       "Embarked_2    0.017847\n",
       "dtype: float64"
      ]
     },
     "execution_count": 44,
     "metadata": {},
     "output_type": "execute_result"
    }
   ],
   "source": [
    "Series_feat_imp"
   ]
  },
  {
   "cell_type": "code",
   "execution_count": 45,
   "id": "f47bbab7",
   "metadata": {
    "execution": {
     "iopub.execute_input": "2022-02-05T13:57:22.350069Z",
     "iopub.status.busy": "2022-02-05T13:57:22.349403Z",
     "iopub.status.idle": "2022-02-05T13:57:22.702819Z",
     "shell.execute_reply": "2022-02-05T13:57:22.702160Z",
     "shell.execute_reply.started": "2022-02-05T13:53:49.003735Z"
    },
    "papermill": {
     "duration": 0.402977,
     "end_time": "2022-02-05T13:57:22.702964",
     "exception": false,
     "start_time": "2022-02-05T13:57:22.299987",
     "status": "completed"
    },
    "tags": []
   },
   "outputs": [
    {
     "data": {
      "image/png": "[encoded data removed]",
      "text/plain": [
       "<Figure size 576x576 with 1 Axes>"
      ]
     },
     "metadata": {
      "needs_background": "light"
     },
     "output_type": "display_data"
    }
   ],
   "source": [
    "plt.figure(figsize=(8,8))\n",
    "Series_feat_imp.sort_values(ascending=True).plot.barh()\n",
    "plt.xlabel('Feature importance')\n",
    "plt.ylabel('Feature')\n",
    "plt.show()"
   ]
  },
  {
   "cell_type": "code",
   "execution_count": 46,
   "id": "ba8755e2",
   "metadata": {
    "execution": {
     "iopub.execute_input": "2022-02-05T13:57:22.813301Z",
     "iopub.status.busy": "2022-02-05T13:57:22.811349Z",
     "iopub.status.idle": "2022-02-05T13:57:22.823817Z",
     "shell.execute_reply": "2022-02-05T13:57:22.824412Z",
     "shell.execute_reply.started": "2022-02-05T13:55:23.426282Z"
    },
    "papermill": {
     "duration": 0.066616,
     "end_time": "2022-02-05T13:57:22.824584",
     "exception": false,
     "start_time": "2022-02-05T13:57:22.757968",
     "status": "completed"
    },
    "tags": []
   },
   "outputs": [],
   "source": [
    "submission = pd.read_csv('../input/titanic/gender_submission.csv')"
   ]
  },
  {
   "cell_type": "code",
   "execution_count": 47,
   "id": "a1acbb6e",
   "metadata": {
    "execution": {
     "iopub.execute_input": "2022-02-05T13:57:22.928415Z",
     "iopub.status.busy": "2022-02-05T13:57:22.927708Z",
     "iopub.status.idle": "2022-02-05T13:57:22.935533Z",
     "shell.execute_reply": "2022-02-05T13:57:22.936066Z",
     "shell.execute_reply.started": "2022-02-05T13:55:26.110713Z"
    },
    "papermill": {
     "duration": 0.060906,
     "end_time": "2022-02-05T13:57:22.936243",
     "exception": false,
     "start_time": "2022-02-05T13:57:22.875337",
     "status": "completed"
    },
    "tags": []
   },
   "outputs": [
    {
     "data": {
      "text/html": [
       "<div>\n",
       "<style scoped>\n",
       "    .dataframe tbody tr th:only-of-type {\n",
       "        vertical-align: middle;\n",
       "    }\n",
       "\n",
       "    .dataframe tbody tr th {\n",
       "        vertical-align: top;\n",
       "    }\n",
       "\n",
       "    .dataframe thead th {\n",
       "        text-align: right;\n",
       "    }\n",
       "</style>\n",
       "<table border=\"1\" class=\"dataframe\">\n",
       "  <thead>\n",
       "    <tr style=\"text-align: right;\">\n",
       "      <th></th>\n",
       "      <th>PassengerId</th>\n",
       "      <th>Survived</th>\n",
       "    </tr>\n",
       "  </thead>\n",
       "  <tbody>\n",
       "    <tr>\n",
       "      <th>0</th>\n",
       "      <td>892</td>\n",
       "      <td>0</td>\n",
       "    </tr>\n",
       "    <tr>\n",
       "      <th>1</th>\n",
       "      <td>893</td>\n",
       "      <td>1</td>\n",
       "    </tr>\n",
       "    <tr>\n",
       "      <th>2</th>\n",
       "      <td>894</td>\n",
       "      <td>0</td>\n",
       "    </tr>\n",
       "    <tr>\n",
       "      <th>3</th>\n",
       "      <td>895</td>\n",
       "      <td>0</td>\n",
       "    </tr>\n",
       "    <tr>\n",
       "      <th>4</th>\n",
       "      <td>896</td>\n",
       "      <td>1</td>\n",
       "    </tr>\n",
       "  </tbody>\n",
       "</table>\n",
       "</div>"
      ],
      "text/plain": [
       "   PassengerId  Survived\n",
       "0          892         0\n",
       "1          893         1\n",
       "2          894         0\n",
       "3          895         0\n",
       "4          896         1"
      ]
     },
     "execution_count": 47,
     "metadata": {},
     "output_type": "execute_result"
    }
   ],
   "source": [
    "submission.head()"
   ]
  },
  {
   "cell_type": "code",
   "execution_count": 48,
   "id": "09cff3dd",
   "metadata": {
    "execution": {
     "iopub.execute_input": "2022-02-05T13:57:23.038799Z",
     "iopub.status.busy": "2022-02-05T13:57:23.038086Z",
     "iopub.status.idle": "2022-02-05T13:57:23.056806Z",
     "shell.execute_reply": "2022-02-05T13:57:23.057365Z",
     "shell.execute_reply.started": "2022-02-05T13:55:41.474892Z"
    },
    "papermill": {
     "duration": 0.071468,
     "end_time": "2022-02-05T13:57:23.057542",
     "exception": false,
     "start_time": "2022-02-05T13:57:22.986074",
     "status": "completed"
    },
    "tags": []
   },
   "outputs": [],
   "source": [
    "prediction = model.predict(X_test)"
   ]
  },
  {
   "cell_type": "code",
   "execution_count": 49,
   "id": "059d89f6",
   "metadata": {
    "execution": {
     "iopub.execute_input": "2022-02-05T13:57:23.159739Z",
     "iopub.status.busy": "2022-02-05T13:57:23.159047Z",
     "iopub.status.idle": "2022-02-05T13:57:23.163357Z",
     "shell.execute_reply": "2022-02-05T13:57:23.162853Z",
     "shell.execute_reply.started": "2022-02-05T13:56:01.912285Z"
    },
    "papermill": {
     "duration": 0.056217,
     "end_time": "2022-02-05T13:57:23.163500",
     "exception": false,
     "start_time": "2022-02-05T13:57:23.107283",
     "status": "completed"
    },
    "tags": []
   },
   "outputs": [],
   "source": [
    "submission['Survived'] = prediction"
   ]
  },
  {
   "cell_type": "code",
   "execution_count": 50,
   "id": "25380732",
   "metadata": {
    "execution": {
     "iopub.execute_input": "2022-02-05T13:57:23.266591Z",
     "iopub.status.busy": "2022-02-05T13:57:23.265908Z",
     "iopub.status.idle": "2022-02-05T13:57:23.271496Z",
     "shell.execute_reply": "2022-02-05T13:57:23.272141Z",
     "shell.execute_reply.started": "2022-02-05T13:56:31.294084Z"
    },
    "papermill": {
     "duration": 0.059676,
     "end_time": "2022-02-05T13:57:23.272320",
     "exception": false,
     "start_time": "2022-02-05T13:57:23.212644",
     "status": "completed"
    },
    "tags": []
   },
   "outputs": [],
   "source": [
    "submission.to_csv('./my_first_submission.csv', index=False)"
   ]
  },
  {
   "cell_type": "code",
   "execution_count": null,
   "id": "71422ae5",
   "metadata": {
    "papermill": {
     "duration": 0.048655,
     "end_time": "2022-02-05T13:57:23.370368",
     "exception": false,
     "start_time": "2022-02-05T13:57:23.321713",
     "status": "completed"
    },
    "tags": []
   },
   "outputs": [],
   "source": []
  }
 ],
 "metadata": {
  "kernelspec": {
   "display_name": "Python 3",
   "language": "python",
   "name": "python3"
  },
  "language_info": {
   "codemirror_mode": {
    "name": "ipython",
    "version": 3
   },
   "file_extension": ".py",
   "mimetype": "text/x-python",
   "name": "python",
   "nbconvert_exporter": "python",
   "pygments_lexer": "ipython3",
   "version": "3.7.12"
  },
  "papermill": {
   "default_parameters": {},
   "duration": 18.341503,
   "end_time": "2022-02-05T13:57:24.129693",
   "environment_variables": {},
   "exception": null,
   "input_path": "__notebook__.ipynb",
   "output_path": "__notebook__.ipynb",
   "parameters": {},
   "start_time": "2022-02-05T13:57:05.788190",
   "version": "2.3.3"
  }
 },
 "nbformat": 4,
 "nbformat_minor": 5
}
