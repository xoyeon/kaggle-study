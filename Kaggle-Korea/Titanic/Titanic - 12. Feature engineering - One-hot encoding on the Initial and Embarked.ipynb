{
 "cells": [
  {
   "cell_type": "code",
   "execution_count": 1,
   "id": "75d64d42",
   "metadata": {
    "execution": {
     "iopub.execute_input": "2022-02-03T12:17:40.112632Z",
     "iopub.status.busy": "2022-02-03T12:17:40.111771Z",
     "iopub.status.idle": "2022-02-03T12:17:40.123119Z",
     "shell.execute_reply": "2022-02-03T12:17:40.122279Z",
     "shell.execute_reply.started": "2022-02-03T12:16:07.285472Z"
    },
    "papermill": {
     "duration": 0.05215,
     "end_time": "2022-02-03T12:17:40.123322",
     "exception": false,
     "start_time": "2022-02-03T12:17:40.071172",
     "status": "completed"
    },
    "tags": []
   },
   "outputs": [
    {
     "name": "stdout",
     "output_type": "stream",
     "text": [
      "/kaggle/input/titanic/train.csv\n",
      "/kaggle/input/titanic/test.csv\n",
      "/kaggle/input/titanic/gender_submission.csv\n"
     ]
    }
   ],
   "source": [
    "import os\n",
    "for dirname, _, filenames in os.walk('/kaggle/input'):\n",
    "    for filename in filenames:\n",
    "        print(os.path.join(dirname, filename))"
   ]
  },
  {
   "cell_type": "code",
   "execution_count": 2,
   "id": "fa83cf2a",
   "metadata": {
    "_cell_guid": "b1076dfc-b9ad-4769-8c92-a6c4dae69d19",
    "_uuid": "8f2839f25d086af736a60e9eeb907d3b93b6e0e5",
    "execution": {
     "iopub.execute_input": "2022-02-03T12:17:40.186509Z",
     "iopub.status.busy": "2022-02-03T12:17:40.185740Z",
     "iopub.status.idle": "2022-02-03T12:17:41.265133Z",
     "shell.execute_reply": "2022-02-03T12:17:41.263839Z",
     "shell.execute_reply.started": "2022-02-03T12:16:07.298104Z"
    },
    "papermill": {
     "duration": 1.114127,
     "end_time": "2022-02-03T12:17:41.265341",
     "exception": false,
     "start_time": "2022-02-03T12:17:40.151214",
     "status": "completed"
    },
    "tags": []
   },
   "outputs": [],
   "source": [
    "import numpy as np\n",
    "import pandas as pd\n",
    "import matplotlib.pyplot as plt\n",
    "import seaborn as sns\n",
    "\n",
    "plt.style.use('seaborn')\n",
    "sns.set(font_scale=2.5)\n",
    "\n",
    "import missingno as msno\n",
    "\n",
    "#ignore warnings\n",
    "import warnings\n",
    "warnings.filterwarnings('ignore')\n",
    "\n",
    "%matplotlib inline"
   ]
  },
  {
   "cell_type": "code",
   "execution_count": 3,
   "id": "dc73363c",
   "metadata": {
    "execution": {
     "iopub.execute_input": "2022-02-03T12:17:41.327478Z",
     "iopub.status.busy": "2022-02-03T12:17:41.326690Z",
     "iopub.status.idle": "2022-02-03T12:17:41.363012Z",
     "shell.execute_reply": "2022-02-03T12:17:41.362306Z",
     "shell.execute_reply.started": "2022-02-03T12:16:07.309806Z"
    },
    "papermill": {
     "duration": 0.069651,
     "end_time": "2022-02-03T12:17:41.363198",
     "exception": false,
     "start_time": "2022-02-03T12:17:41.293547",
     "status": "completed"
    },
    "tags": []
   },
   "outputs": [],
   "source": [
    "df_train = pd.read_csv('/kaggle/input/titanic/train.csv')\n",
    "df_test = pd.read_csv('/kaggle/input/titanic/test.csv')"
   ]
  },
  {
   "cell_type": "code",
   "execution_count": 4,
   "id": "49d9fcde",
   "metadata": {
    "execution": {
     "iopub.execute_input": "2022-02-03T12:17:41.440267Z",
     "iopub.status.busy": "2022-02-03T12:17:41.439528Z",
     "iopub.status.idle": "2022-02-03T12:17:41.451320Z",
     "shell.execute_reply": "2022-02-03T12:17:41.451850Z",
     "shell.execute_reply.started": "2022-02-03T12:16:07.336350Z"
    },
    "papermill": {
     "duration": 0.061743,
     "end_time": "2022-02-03T12:17:41.452059",
     "exception": false,
     "start_time": "2022-02-03T12:17:41.390316",
     "status": "completed"
    },
    "tags": []
   },
   "outputs": [
    {
     "data": {
      "text/html": [
       "<div>\n",
       "<style scoped>\n",
       "    .dataframe tbody tr th:only-of-type {\n",
       "        vertical-align: middle;\n",
       "    }\n",
       "\n",
       "    .dataframe tbody tr th {\n",
       "        vertical-align: top;\n",
       "    }\n",
       "\n",
       "    .dataframe thead th {\n",
       "        text-align: right;\n",
       "    }\n",
       "</style>\n",
       "<table border=\"1\" class=\"dataframe\">\n",
       "  <thead>\n",
       "    <tr style=\"text-align: right;\">\n",
       "      <th></th>\n",
       "      <th>Survived</th>\n",
       "    </tr>\n",
       "    <tr>\n",
       "      <th>Pclass</th>\n",
       "      <th></th>\n",
       "    </tr>\n",
       "  </thead>\n",
       "  <tbody>\n",
       "    <tr>\n",
       "      <th>1</th>\n",
       "      <td>216</td>\n",
       "    </tr>\n",
       "    <tr>\n",
       "      <th>2</th>\n",
       "      <td>184</td>\n",
       "    </tr>\n",
       "    <tr>\n",
       "      <th>3</th>\n",
       "      <td>491</td>\n",
       "    </tr>\n",
       "  </tbody>\n",
       "</table>\n",
       "</div>"
      ],
      "text/plain": [
       "        Survived\n",
       "Pclass          \n",
       "1            216\n",
       "2            184\n",
       "3            491"
      ]
     },
     "execution_count": 4,
     "metadata": {},
     "output_type": "execute_result"
    }
   ],
   "source": [
    "df_train[['Pclass', 'Survived']].groupby(['Pclass'], as_index=True).count()"
   ]
  },
  {
   "cell_type": "code",
   "execution_count": 5,
   "id": "ecf7a12a",
   "metadata": {
    "execution": {
     "iopub.execute_input": "2022-02-03T12:17:41.517993Z",
     "iopub.status.busy": "2022-02-03T12:17:41.517286Z",
     "iopub.status.idle": "2022-02-03T12:17:41.609254Z",
     "shell.execute_reply": "2022-02-03T12:17:41.608255Z",
     "shell.execute_reply.started": "2022-02-03T12:16:07.352497Z"
    },
    "papermill": {
     "duration": 0.12895,
     "end_time": "2022-02-03T12:17:41.609402",
     "exception": false,
     "start_time": "2022-02-03T12:17:41.480452",
     "status": "completed"
    },
    "tags": []
   },
   "outputs": [],
   "source": [
    "change_age_range_survival_ratio = []\n",
    "\n",
    "for i in range(1, 80):\n",
    "    change_age_range_survival_ratio.append(df_train[df_train['Age'] < i]['Survived'].sum() / len(df_train[df_train['Age'] < i]['Survived']))"
   ]
  },
  {
   "cell_type": "code",
   "execution_count": 6,
   "id": "653f5cbe",
   "metadata": {
    "execution": {
     "iopub.execute_input": "2022-02-03T12:17:41.680885Z",
     "iopub.status.busy": "2022-02-03T12:17:41.680202Z",
     "iopub.status.idle": "2022-02-03T12:17:41.684299Z",
     "shell.execute_reply": "2022-02-03T12:17:41.683574Z",
     "shell.execute_reply.started": "2022-02-03T12:16:07.455919Z"
    },
    "papermill": {
     "duration": 0.048298,
     "end_time": "2022-02-03T12:17:41.684459",
     "exception": false,
     "start_time": "2022-02-03T12:17:41.636161",
     "status": "completed"
    },
    "tags": []
   },
   "outputs": [
    {
     "data": {
      "text/html": [
       "<div>\n",
       "<style scoped>\n",
       "    .dataframe tbody tr th:only-of-type {\n",
       "        vertical-align: middle;\n",
       "    }\n",
       "\n",
       "    .dataframe tbody tr th {\n",
       "        vertical-align: top;\n",
       "    }\n",
       "\n",
       "    .dataframe thead th {\n",
       "        text-align: right;\n",
       "    }\n",
       "</style>\n",
       "<table border=\"1\" class=\"dataframe\">\n",
       "  <thead>\n",
       "    <tr style=\"text-align: right;\">\n",
       "      <th></th>\n",
       "      <th>Survived</th>\n",
       "    </tr>\n",
       "    <tr>\n",
       "      <th>Embarked</th>\n",
       "      <th></th>\n",
       "    </tr>\n",
       "  </thead>\n",
       "  <tbody>\n",
       "    <tr>\n",
       "      <th>C</th>\n",
       "      <td>0.553571</td>\n",
       "    </tr>\n",
       "    <tr>\n",
       "      <th>Q</th>\n",
       "      <td>0.389610</td>\n",
       "    </tr>\n",
       "    <tr>\n",
       "      <th>S</th>\n",
       "      <td>0.336957</td>\n",
       "    </tr>\n",
       "  </tbody>\n",
       "</table>\n",
       "</div>"
      ],
      "text/plain": [
       "          Survived\n",
       "Embarked          \n",
       "C         0.553571\n",
       "Q         0.389610\n",
       "S         0.336957"
      ]
     },
     "execution_count": 6,
     "metadata": {},
     "output_type": "execute_result"
    }
   ],
   "source": [
    "df_train[['Embarked', 'Survived']].groupby(['Embarked'], as_index=True).mean().sort_values(by='Survived', ascending=False)"
   ]
  },
  {
   "cell_type": "code",
   "execution_count": 7,
   "id": "ba1fe68d",
   "metadata": {
    "execution": {
     "iopub.execute_input": "2022-02-03T12:17:41.745842Z",
     "iopub.status.busy": "2022-02-03T12:17:41.744823Z",
     "iopub.status.idle": "2022-02-03T12:17:41.751326Z",
     "shell.execute_reply": "2022-02-03T12:17:41.751919Z",
     "shell.execute_reply.started": "2022-02-03T12:16:07.472426Z"
    },
    "papermill": {
     "duration": 0.039874,
     "end_time": "2022-02-03T12:17:41.752130",
     "exception": false,
     "start_time": "2022-02-03T12:17:41.712256",
     "status": "completed"
    },
    "tags": []
   },
   "outputs": [],
   "source": [
    "df_train['FamilySize'] = df_train['SibSp'] + df_train['Parch'] + 1 # 자기 자신"
   ]
  },
  {
   "cell_type": "code",
   "execution_count": 8,
   "id": "fa61181e",
   "metadata": {
    "execution": {
     "iopub.execute_input": "2022-02-03T12:17:41.817410Z",
     "iopub.status.busy": "2022-02-03T12:17:41.816022Z",
     "iopub.status.idle": "2022-02-03T12:17:41.826312Z",
     "shell.execute_reply": "2022-02-03T12:17:41.826833Z",
     "shell.execute_reply.started": "2022-02-03T12:16:07.484095Z"
    },
    "papermill": {
     "duration": 0.046196,
     "end_time": "2022-02-03T12:17:41.827081",
     "exception": false,
     "start_time": "2022-02-03T12:17:41.780885",
     "status": "completed"
    },
    "tags": []
   },
   "outputs": [],
   "source": [
    "df_train['Fare'] = df_train['Fare'].map(lambda i : np.log(i) if i>0 else 0)"
   ]
  },
  {
   "cell_type": "code",
   "execution_count": 9,
   "id": "0e93f314",
   "metadata": {
    "execution": {
     "iopub.execute_input": "2022-02-03T12:17:41.887434Z",
     "iopub.status.busy": "2022-02-03T12:17:41.886309Z",
     "iopub.status.idle": "2022-02-03T12:17:41.900664Z",
     "shell.execute_reply": "2022-02-03T12:17:41.901197Z",
     "shell.execute_reply.started": "2022-02-03T12:16:07.501416Z"
    },
    "papermill": {
     "duration": 0.0463,
     "end_time": "2022-02-03T12:17:41.901417",
     "exception": false,
     "start_time": "2022-02-03T12:17:41.855117",
     "status": "completed"
    },
    "tags": []
   },
   "outputs": [],
   "source": [
    "df_train['Initial'] = df_train['Name'].str.extract('([A-Za-z]+)\\.')\n",
    "df_test['Initial'] = df_test['Name'].str.extract('([A-Za-z]+)\\.')"
   ]
  },
  {
   "cell_type": "code",
   "execution_count": 10,
   "id": "cbede4ab",
   "metadata": {
    "execution": {
     "iopub.execute_input": "2022-02-03T12:17:41.964400Z",
     "iopub.status.busy": "2022-02-03T12:17:41.963406Z",
     "iopub.status.idle": "2022-02-03T12:17:41.976312Z",
     "shell.execute_reply": "2022-02-03T12:17:41.976827Z",
     "shell.execute_reply.started": "2022-02-03T12:16:07.526293Z"
    },
    "papermill": {
     "duration": 0.046368,
     "end_time": "2022-02-03T12:17:41.977056",
     "exception": false,
     "start_time": "2022-02-03T12:17:41.930688",
     "status": "completed"
    },
    "tags": []
   },
   "outputs": [],
   "source": [
    "df_train['Initial'].replace(['Mlle','Mme','Ms','Dr','Major','Lady','Countess','Jonkheer','Col','Rev','Capt','Sir','Don','Dona'],\n",
    "                            ['Miss','Miss','Miss','Mr','Mr','Mrs','Mrs','Other','Other','Other','Mr','Mr','Mr','Mr'],inplace=True)\n",
    "df_test['Initial'].replace(['Mlle','Mme','Ms','Dr','Major','Lady','Countess','Jonkheer','Col','Rev','Capt','Sir','Don','Dona'],\n",
    "                            ['Miss','Miss','Miss','Mr','Mr','Mrs','Mrs','Other','Other','Other','Mr','Mr','Mr','Mr'],inplace=True)"
   ]
  },
  {
   "cell_type": "code",
   "execution_count": 11,
   "id": "79a9610a",
   "metadata": {
    "execution": {
     "iopub.execute_input": "2022-02-03T12:17:42.038177Z",
     "iopub.status.busy": "2022-02-03T12:17:42.037190Z",
     "iopub.status.idle": "2022-02-03T12:17:42.045959Z",
     "shell.execute_reply": "2022-02-03T12:17:42.046440Z",
     "shell.execute_reply.started": "2022-02-03T12:16:07.540782Z"
    },
    "papermill": {
     "duration": 0.041603,
     "end_time": "2022-02-03T12:17:42.046648",
     "exception": false,
     "start_time": "2022-02-03T12:17:42.005045",
     "status": "completed"
    },
    "tags": []
   },
   "outputs": [],
   "source": [
    "df_all = pd.concat([df_train, df_test])"
   ]
  },
  {
   "cell_type": "code",
   "execution_count": 12,
   "id": "2547872f",
   "metadata": {
    "execution": {
     "iopub.execute_input": "2022-02-03T12:17:42.108525Z",
     "iopub.status.busy": "2022-02-03T12:17:42.107517Z",
     "iopub.status.idle": "2022-02-03T12:17:42.138367Z",
     "shell.execute_reply": "2022-02-03T12:17:42.138917Z",
     "shell.execute_reply.started": "2022-02-03T12:16:07.553164Z"
    },
    "papermill": {
     "duration": 0.064964,
     "end_time": "2022-02-03T12:17:42.139119",
     "exception": false,
     "start_time": "2022-02-03T12:17:42.074155",
     "status": "completed"
    },
    "tags": []
   },
   "outputs": [
    {
     "data": {
      "text/html": [
       "<div>\n",
       "<style scoped>\n",
       "    .dataframe tbody tr th:only-of-type {\n",
       "        vertical-align: middle;\n",
       "    }\n",
       "\n",
       "    .dataframe tbody tr th {\n",
       "        vertical-align: top;\n",
       "    }\n",
       "\n",
       "    .dataframe thead th {\n",
       "        text-align: right;\n",
       "    }\n",
       "</style>\n",
       "<table border=\"1\" class=\"dataframe\">\n",
       "  <thead>\n",
       "    <tr style=\"text-align: right;\">\n",
       "      <th></th>\n",
       "      <th>PassengerId</th>\n",
       "      <th>Survived</th>\n",
       "      <th>Pclass</th>\n",
       "      <th>Name</th>\n",
       "      <th>Sex</th>\n",
       "      <th>Age</th>\n",
       "      <th>SibSp</th>\n",
       "      <th>Parch</th>\n",
       "      <th>Ticket</th>\n",
       "      <th>Fare</th>\n",
       "      <th>Cabin</th>\n",
       "      <th>Embarked</th>\n",
       "      <th>FamilySize</th>\n",
       "      <th>Initial</th>\n",
       "    </tr>\n",
       "  </thead>\n",
       "  <tbody>\n",
       "    <tr>\n",
       "      <th>0</th>\n",
       "      <td>1</td>\n",
       "      <td>0.0</td>\n",
       "      <td>3</td>\n",
       "      <td>Braund, Mr. Owen Harris</td>\n",
       "      <td>male</td>\n",
       "      <td>22.0</td>\n",
       "      <td>1</td>\n",
       "      <td>0</td>\n",
       "      <td>A/5 21171</td>\n",
       "      <td>1.981001</td>\n",
       "      <td>NaN</td>\n",
       "      <td>S</td>\n",
       "      <td>2.0</td>\n",
       "      <td>Mr</td>\n",
       "    </tr>\n",
       "    <tr>\n",
       "      <th>1</th>\n",
       "      <td>2</td>\n",
       "      <td>1.0</td>\n",
       "      <td>1</td>\n",
       "      <td>Cumings, Mrs. John Bradley (Florence Briggs Th...</td>\n",
       "      <td>female</td>\n",
       "      <td>38.0</td>\n",
       "      <td>1</td>\n",
       "      <td>0</td>\n",
       "      <td>PC 17599</td>\n",
       "      <td>4.266662</td>\n",
       "      <td>C85</td>\n",
       "      <td>C</td>\n",
       "      <td>2.0</td>\n",
       "      <td>Mrs</td>\n",
       "    </tr>\n",
       "    <tr>\n",
       "      <th>2</th>\n",
       "      <td>3</td>\n",
       "      <td>1.0</td>\n",
       "      <td>3</td>\n",
       "      <td>Heikkinen, Miss. Laina</td>\n",
       "      <td>female</td>\n",
       "      <td>26.0</td>\n",
       "      <td>0</td>\n",
       "      <td>0</td>\n",
       "      <td>STON/O2. 3101282</td>\n",
       "      <td>2.070022</td>\n",
       "      <td>NaN</td>\n",
       "      <td>S</td>\n",
       "      <td>1.0</td>\n",
       "      <td>Miss</td>\n",
       "    </tr>\n",
       "    <tr>\n",
       "      <th>3</th>\n",
       "      <td>4</td>\n",
       "      <td>1.0</td>\n",
       "      <td>1</td>\n",
       "      <td>Futrelle, Mrs. Jacques Heath (Lily May Peel)</td>\n",
       "      <td>female</td>\n",
       "      <td>35.0</td>\n",
       "      <td>1</td>\n",
       "      <td>0</td>\n",
       "      <td>113803</td>\n",
       "      <td>3.972177</td>\n",
       "      <td>C123</td>\n",
       "      <td>S</td>\n",
       "      <td>2.0</td>\n",
       "      <td>Mrs</td>\n",
       "    </tr>\n",
       "    <tr>\n",
       "      <th>4</th>\n",
       "      <td>5</td>\n",
       "      <td>0.0</td>\n",
       "      <td>3</td>\n",
       "      <td>Allen, Mr. William Henry</td>\n",
       "      <td>male</td>\n",
       "      <td>35.0</td>\n",
       "      <td>0</td>\n",
       "      <td>0</td>\n",
       "      <td>373450</td>\n",
       "      <td>2.085672</td>\n",
       "      <td>NaN</td>\n",
       "      <td>S</td>\n",
       "      <td>1.0</td>\n",
       "      <td>Mr</td>\n",
       "    </tr>\n",
       "    <tr>\n",
       "      <th>...</th>\n",
       "      <td>...</td>\n",
       "      <td>...</td>\n",
       "      <td>...</td>\n",
       "      <td>...</td>\n",
       "      <td>...</td>\n",
       "      <td>...</td>\n",
       "      <td>...</td>\n",
       "      <td>...</td>\n",
       "      <td>...</td>\n",
       "      <td>...</td>\n",
       "      <td>...</td>\n",
       "      <td>...</td>\n",
       "      <td>...</td>\n",
       "      <td>...</td>\n",
       "    </tr>\n",
       "    <tr>\n",
       "      <th>1304</th>\n",
       "      <td>1305</td>\n",
       "      <td>NaN</td>\n",
       "      <td>3</td>\n",
       "      <td>Spector, Mr. Woolf</td>\n",
       "      <td>male</td>\n",
       "      <td>NaN</td>\n",
       "      <td>0</td>\n",
       "      <td>0</td>\n",
       "      <td>A.5. 3236</td>\n",
       "      <td>8.050000</td>\n",
       "      <td>NaN</td>\n",
       "      <td>S</td>\n",
       "      <td>NaN</td>\n",
       "      <td>Mr</td>\n",
       "    </tr>\n",
       "    <tr>\n",
       "      <th>1305</th>\n",
       "      <td>1306</td>\n",
       "      <td>NaN</td>\n",
       "      <td>1</td>\n",
       "      <td>Oliva y Ocana, Dona. Fermina</td>\n",
       "      <td>female</td>\n",
       "      <td>39.0</td>\n",
       "      <td>0</td>\n",
       "      <td>0</td>\n",
       "      <td>PC 17758</td>\n",
       "      <td>108.900000</td>\n",
       "      <td>C105</td>\n",
       "      <td>C</td>\n",
       "      <td>NaN</td>\n",
       "      <td>Mr</td>\n",
       "    </tr>\n",
       "    <tr>\n",
       "      <th>1306</th>\n",
       "      <td>1307</td>\n",
       "      <td>NaN</td>\n",
       "      <td>3</td>\n",
       "      <td>Saether, Mr. Simon Sivertsen</td>\n",
       "      <td>male</td>\n",
       "      <td>38.5</td>\n",
       "      <td>0</td>\n",
       "      <td>0</td>\n",
       "      <td>SOTON/O.Q. 3101262</td>\n",
       "      <td>7.250000</td>\n",
       "      <td>NaN</td>\n",
       "      <td>S</td>\n",
       "      <td>NaN</td>\n",
       "      <td>Mr</td>\n",
       "    </tr>\n",
       "    <tr>\n",
       "      <th>1307</th>\n",
       "      <td>1308</td>\n",
       "      <td>NaN</td>\n",
       "      <td>3</td>\n",
       "      <td>Ware, Mr. Frederick</td>\n",
       "      <td>male</td>\n",
       "      <td>NaN</td>\n",
       "      <td>0</td>\n",
       "      <td>0</td>\n",
       "      <td>359309</td>\n",
       "      <td>8.050000</td>\n",
       "      <td>NaN</td>\n",
       "      <td>S</td>\n",
       "      <td>NaN</td>\n",
       "      <td>Mr</td>\n",
       "    </tr>\n",
       "    <tr>\n",
       "      <th>1308</th>\n",
       "      <td>1309</td>\n",
       "      <td>NaN</td>\n",
       "      <td>3</td>\n",
       "      <td>Peter, Master. Michael J</td>\n",
       "      <td>male</td>\n",
       "      <td>NaN</td>\n",
       "      <td>1</td>\n",
       "      <td>1</td>\n",
       "      <td>2668</td>\n",
       "      <td>22.358300</td>\n",
       "      <td>NaN</td>\n",
       "      <td>C</td>\n",
       "      <td>NaN</td>\n",
       "      <td>Master</td>\n",
       "    </tr>\n",
       "  </tbody>\n",
       "</table>\n",
       "<p>1309 rows × 14 columns</p>\n",
       "</div>"
      ],
      "text/plain": [
       "      PassengerId  Survived  Pclass  \\\n",
       "0               1       0.0       3   \n",
       "1               2       1.0       1   \n",
       "2               3       1.0       3   \n",
       "3               4       1.0       1   \n",
       "4               5       0.0       3   \n",
       "...           ...       ...     ...   \n",
       "1304         1305       NaN       3   \n",
       "1305         1306       NaN       1   \n",
       "1306         1307       NaN       3   \n",
       "1307         1308       NaN       3   \n",
       "1308         1309       NaN       3   \n",
       "\n",
       "                                                   Name     Sex   Age  SibSp  \\\n",
       "0                               Braund, Mr. Owen Harris    male  22.0      1   \n",
       "1     Cumings, Mrs. John Bradley (Florence Briggs Th...  female  38.0      1   \n",
       "2                                Heikkinen, Miss. Laina  female  26.0      0   \n",
       "3          Futrelle, Mrs. Jacques Heath (Lily May Peel)  female  35.0      1   \n",
       "4                              Allen, Mr. William Henry    male  35.0      0   \n",
       "...                                                 ...     ...   ...    ...   \n",
       "1304                                 Spector, Mr. Woolf    male   NaN      0   \n",
       "1305                       Oliva y Ocana, Dona. Fermina  female  39.0      0   \n",
       "1306                       Saether, Mr. Simon Sivertsen    male  38.5      0   \n",
       "1307                                Ware, Mr. Frederick    male   NaN      0   \n",
       "1308                           Peter, Master. Michael J    male   NaN      1   \n",
       "\n",
       "      Parch              Ticket        Fare Cabin Embarked  FamilySize Initial  \n",
       "0         0           A/5 21171    1.981001   NaN        S         2.0      Mr  \n",
       "1         0            PC 17599    4.266662   C85        C         2.0     Mrs  \n",
       "2         0    STON/O2. 3101282    2.070022   NaN        S         1.0    Miss  \n",
       "3         0              113803    3.972177  C123        S         2.0     Mrs  \n",
       "4         0              373450    2.085672   NaN        S         1.0      Mr  \n",
       "...     ...                 ...         ...   ...      ...         ...     ...  \n",
       "1304      0           A.5. 3236    8.050000   NaN        S         NaN      Mr  \n",
       "1305      0            PC 17758  108.900000  C105        C         NaN      Mr  \n",
       "1306      0  SOTON/O.Q. 3101262    7.250000   NaN        S         NaN      Mr  \n",
       "1307      0              359309    8.050000   NaN        S         NaN      Mr  \n",
       "1308      1                2668   22.358300   NaN        C         NaN  Master  \n",
       "\n",
       "[1309 rows x 14 columns]"
      ]
     },
     "execution_count": 12,
     "metadata": {},
     "output_type": "execute_result"
    }
   ],
   "source": [
    "df_all.reset_index(drop=True)"
   ]
  },
  {
   "cell_type": "code",
   "execution_count": 13,
   "id": "781f7e8f",
   "metadata": {
    "execution": {
     "iopub.execute_input": "2022-02-03T12:17:42.207522Z",
     "iopub.status.busy": "2022-02-03T12:17:42.206171Z",
     "iopub.status.idle": "2022-02-03T12:17:42.223481Z",
     "shell.execute_reply": "2022-02-03T12:17:42.224022Z",
     "shell.execute_reply.started": "2022-02-03T12:16:07.595019Z"
    },
    "papermill": {
     "duration": 0.054092,
     "end_time": "2022-02-03T12:17:42.224226",
     "exception": false,
     "start_time": "2022-02-03T12:17:42.170134",
     "status": "completed"
    },
    "tags": []
   },
   "outputs": [
    {
     "data": {
      "text/html": [
       "<div>\n",
       "<style scoped>\n",
       "    .dataframe tbody tr th:only-of-type {\n",
       "        vertical-align: middle;\n",
       "    }\n",
       "\n",
       "    .dataframe tbody tr th {\n",
       "        vertical-align: top;\n",
       "    }\n",
       "\n",
       "    .dataframe thead th {\n",
       "        text-align: right;\n",
       "    }\n",
       "</style>\n",
       "<table border=\"1\" class=\"dataframe\">\n",
       "  <thead>\n",
       "    <tr style=\"text-align: right;\">\n",
       "      <th></th>\n",
       "      <th>PassengerId</th>\n",
       "      <th>Survived</th>\n",
       "      <th>Pclass</th>\n",
       "      <th>Age</th>\n",
       "      <th>SibSp</th>\n",
       "      <th>Parch</th>\n",
       "      <th>Fare</th>\n",
       "      <th>FamilySize</th>\n",
       "    </tr>\n",
       "    <tr>\n",
       "      <th>Initial</th>\n",
       "      <th></th>\n",
       "      <th></th>\n",
       "      <th></th>\n",
       "      <th></th>\n",
       "      <th></th>\n",
       "      <th></th>\n",
       "      <th></th>\n",
       "      <th></th>\n",
       "    </tr>\n",
       "  </thead>\n",
       "  <tbody>\n",
       "    <tr>\n",
       "      <th>Master</th>\n",
       "      <td>658.852459</td>\n",
       "      <td>0.575000</td>\n",
       "      <td>2.655738</td>\n",
       "      <td>5.482642</td>\n",
       "      <td>2.049180</td>\n",
       "      <td>1.377049</td>\n",
       "      <td>15.442677</td>\n",
       "      <td>4.675000</td>\n",
       "    </tr>\n",
       "    <tr>\n",
       "      <th>Miss</th>\n",
       "      <td>616.992453</td>\n",
       "      <td>0.704301</td>\n",
       "      <td>2.332075</td>\n",
       "      <td>21.834533</td>\n",
       "      <td>0.652830</td>\n",
       "      <td>0.494340</td>\n",
       "      <td>14.021188</td>\n",
       "      <td>2.236559</td>\n",
       "    </tr>\n",
       "    <tr>\n",
       "      <th>Mr</th>\n",
       "      <td>658.831388</td>\n",
       "      <td>0.162571</td>\n",
       "      <td>2.359274</td>\n",
       "      <td>32.556397</td>\n",
       "      <td>0.286641</td>\n",
       "      <td>0.159533</td>\n",
       "      <td>10.003941</td>\n",
       "      <td>1.444234</td>\n",
       "    </tr>\n",
       "    <tr>\n",
       "      <th>Mrs</th>\n",
       "      <td>685.673367</td>\n",
       "      <td>0.795276</td>\n",
       "      <td>1.929648</td>\n",
       "      <td>37.034884</td>\n",
       "      <td>0.658291</td>\n",
       "      <td>0.824121</td>\n",
       "      <td>23.896996</td>\n",
       "      <td>2.511811</td>\n",
       "    </tr>\n",
       "    <tr>\n",
       "      <th>Other</th>\n",
       "      <td>714.923077</td>\n",
       "      <td>0.111111</td>\n",
       "      <td>1.615385</td>\n",
       "      <td>44.923077</td>\n",
       "      <td>0.230769</td>\n",
       "      <td>0.153846</td>\n",
       "      <td>24.523034</td>\n",
       "      <td>1.222222</td>\n",
       "    </tr>\n",
       "  </tbody>\n",
       "</table>\n",
       "</div>"
      ],
      "text/plain": [
       "         PassengerId  Survived    Pclass        Age     SibSp     Parch  \\\n",
       "Initial                                                                   \n",
       "Master    658.852459  0.575000  2.655738   5.482642  2.049180  1.377049   \n",
       "Miss      616.992453  0.704301  2.332075  21.834533  0.652830  0.494340   \n",
       "Mr        658.831388  0.162571  2.359274  32.556397  0.286641  0.159533   \n",
       "Mrs       685.673367  0.795276  1.929648  37.034884  0.658291  0.824121   \n",
       "Other     714.923077  0.111111  1.615385  44.923077  0.230769  0.153846   \n",
       "\n",
       "              Fare  FamilySize  \n",
       "Initial                         \n",
       "Master   15.442677    4.675000  \n",
       "Miss     14.021188    2.236559  \n",
       "Mr       10.003941    1.444234  \n",
       "Mrs      23.896996    2.511811  \n",
       "Other    24.523034    1.222222  "
      ]
     },
     "execution_count": 13,
     "metadata": {},
     "output_type": "execute_result"
    }
   ],
   "source": [
    "df_all.groupby('Initial').mean()"
   ]
  },
  {
   "cell_type": "code",
   "execution_count": 14,
   "id": "2d62a90d",
   "metadata": {
    "execution": {
     "iopub.execute_input": "2022-02-03T12:17:42.288826Z",
     "iopub.status.busy": "2022-02-03T12:17:42.287792Z",
     "iopub.status.idle": "2022-02-03T12:17:42.315239Z",
     "shell.execute_reply": "2022-02-03T12:17:42.315890Z",
     "shell.execute_reply.started": "2022-02-03T12:16:07.620605Z"
    },
    "papermill": {
     "duration": 0.060616,
     "end_time": "2022-02-03T12:17:42.316106",
     "exception": false,
     "start_time": "2022-02-03T12:17:42.255490",
     "status": "completed"
    },
    "tags": []
   },
   "outputs": [
    {
     "data": {
      "text/html": [
       "<div>\n",
       "<style scoped>\n",
       "    .dataframe tbody tr th:only-of-type {\n",
       "        vertical-align: middle;\n",
       "    }\n",
       "\n",
       "    .dataframe tbody tr th {\n",
       "        vertical-align: top;\n",
       "    }\n",
       "\n",
       "    .dataframe thead th {\n",
       "        text-align: right;\n",
       "    }\n",
       "</style>\n",
       "<table border=\"1\" class=\"dataframe\">\n",
       "  <thead>\n",
       "    <tr style=\"text-align: right;\">\n",
       "      <th></th>\n",
       "      <th>PassengerId</th>\n",
       "      <th>Survived</th>\n",
       "      <th>Pclass</th>\n",
       "      <th>Name</th>\n",
       "      <th>Sex</th>\n",
       "      <th>Age</th>\n",
       "      <th>SibSp</th>\n",
       "      <th>Parch</th>\n",
       "      <th>Ticket</th>\n",
       "      <th>Fare</th>\n",
       "      <th>Cabin</th>\n",
       "      <th>Embarked</th>\n",
       "      <th>FamilySize</th>\n",
       "      <th>Initial</th>\n",
       "    </tr>\n",
       "  </thead>\n",
       "  <tbody>\n",
       "    <tr>\n",
       "      <th>1</th>\n",
       "      <td>2</td>\n",
       "      <td>1</td>\n",
       "      <td>1</td>\n",
       "      <td>Cumings, Mrs. John Bradley (Florence Briggs Th...</td>\n",
       "      <td>female</td>\n",
       "      <td>38.0</td>\n",
       "      <td>1</td>\n",
       "      <td>0</td>\n",
       "      <td>PC 17599</td>\n",
       "      <td>4.266662</td>\n",
       "      <td>C85</td>\n",
       "      <td>C</td>\n",
       "      <td>2</td>\n",
       "      <td>Mrs</td>\n",
       "    </tr>\n",
       "    <tr>\n",
       "      <th>2</th>\n",
       "      <td>3</td>\n",
       "      <td>1</td>\n",
       "      <td>3</td>\n",
       "      <td>Heikkinen, Miss. Laina</td>\n",
       "      <td>female</td>\n",
       "      <td>26.0</td>\n",
       "      <td>0</td>\n",
       "      <td>0</td>\n",
       "      <td>STON/O2. 3101282</td>\n",
       "      <td>2.070022</td>\n",
       "      <td>NaN</td>\n",
       "      <td>S</td>\n",
       "      <td>1</td>\n",
       "      <td>Miss</td>\n",
       "    </tr>\n",
       "    <tr>\n",
       "      <th>3</th>\n",
       "      <td>4</td>\n",
       "      <td>1</td>\n",
       "      <td>1</td>\n",
       "      <td>Futrelle, Mrs. Jacques Heath (Lily May Peel)</td>\n",
       "      <td>female</td>\n",
       "      <td>35.0</td>\n",
       "      <td>1</td>\n",
       "      <td>0</td>\n",
       "      <td>113803</td>\n",
       "      <td>3.972177</td>\n",
       "      <td>C123</td>\n",
       "      <td>S</td>\n",
       "      <td>2</td>\n",
       "      <td>Mrs</td>\n",
       "    </tr>\n",
       "    <tr>\n",
       "      <th>8</th>\n",
       "      <td>9</td>\n",
       "      <td>1</td>\n",
       "      <td>3</td>\n",
       "      <td>Johnson, Mrs. Oscar W (Elisabeth Vilhelmina Berg)</td>\n",
       "      <td>female</td>\n",
       "      <td>27.0</td>\n",
       "      <td>0</td>\n",
       "      <td>2</td>\n",
       "      <td>347742</td>\n",
       "      <td>2.409941</td>\n",
       "      <td>NaN</td>\n",
       "      <td>S</td>\n",
       "      <td>3</td>\n",
       "      <td>Mrs</td>\n",
       "    </tr>\n",
       "    <tr>\n",
       "      <th>9</th>\n",
       "      <td>10</td>\n",
       "      <td>1</td>\n",
       "      <td>2</td>\n",
       "      <td>Nasser, Mrs. Nicholas (Adele Achem)</td>\n",
       "      <td>female</td>\n",
       "      <td>14.0</td>\n",
       "      <td>1</td>\n",
       "      <td>0</td>\n",
       "      <td>237736</td>\n",
       "      <td>3.403555</td>\n",
       "      <td>NaN</td>\n",
       "      <td>C</td>\n",
       "      <td>2</td>\n",
       "      <td>Mrs</td>\n",
       "    </tr>\n",
       "    <tr>\n",
       "      <th>...</th>\n",
       "      <td>...</td>\n",
       "      <td>...</td>\n",
       "      <td>...</td>\n",
       "      <td>...</td>\n",
       "      <td>...</td>\n",
       "      <td>...</td>\n",
       "      <td>...</td>\n",
       "      <td>...</td>\n",
       "      <td>...</td>\n",
       "      <td>...</td>\n",
       "      <td>...</td>\n",
       "      <td>...</td>\n",
       "      <td>...</td>\n",
       "      <td>...</td>\n",
       "    </tr>\n",
       "    <tr>\n",
       "      <th>875</th>\n",
       "      <td>876</td>\n",
       "      <td>1</td>\n",
       "      <td>3</td>\n",
       "      <td>Najib, Miss. Adele Kiamie \"Jane\"</td>\n",
       "      <td>female</td>\n",
       "      <td>15.0</td>\n",
       "      <td>0</td>\n",
       "      <td>0</td>\n",
       "      <td>2667</td>\n",
       "      <td>1.977547</td>\n",
       "      <td>NaN</td>\n",
       "      <td>C</td>\n",
       "      <td>1</td>\n",
       "      <td>Miss</td>\n",
       "    </tr>\n",
       "    <tr>\n",
       "      <th>879</th>\n",
       "      <td>880</td>\n",
       "      <td>1</td>\n",
       "      <td>1</td>\n",
       "      <td>Potter, Mrs. Thomas Jr (Lily Alexenia Wilson)</td>\n",
       "      <td>female</td>\n",
       "      <td>56.0</td>\n",
       "      <td>0</td>\n",
       "      <td>1</td>\n",
       "      <td>11767</td>\n",
       "      <td>4.420746</td>\n",
       "      <td>C50</td>\n",
       "      <td>C</td>\n",
       "      <td>2</td>\n",
       "      <td>Mrs</td>\n",
       "    </tr>\n",
       "    <tr>\n",
       "      <th>880</th>\n",
       "      <td>881</td>\n",
       "      <td>1</td>\n",
       "      <td>2</td>\n",
       "      <td>Shelley, Mrs. William (Imanita Parrish Hall)</td>\n",
       "      <td>female</td>\n",
       "      <td>25.0</td>\n",
       "      <td>0</td>\n",
       "      <td>1</td>\n",
       "      <td>230433</td>\n",
       "      <td>3.258097</td>\n",
       "      <td>NaN</td>\n",
       "      <td>S</td>\n",
       "      <td>2</td>\n",
       "      <td>Mrs</td>\n",
       "    </tr>\n",
       "    <tr>\n",
       "      <th>887</th>\n",
       "      <td>888</td>\n",
       "      <td>1</td>\n",
       "      <td>1</td>\n",
       "      <td>Graham, Miss. Margaret Edith</td>\n",
       "      <td>female</td>\n",
       "      <td>19.0</td>\n",
       "      <td>0</td>\n",
       "      <td>0</td>\n",
       "      <td>112053</td>\n",
       "      <td>3.401197</td>\n",
       "      <td>B42</td>\n",
       "      <td>S</td>\n",
       "      <td>1</td>\n",
       "      <td>Miss</td>\n",
       "    </tr>\n",
       "    <tr>\n",
       "      <th>889</th>\n",
       "      <td>890</td>\n",
       "      <td>1</td>\n",
       "      <td>1</td>\n",
       "      <td>Behr, Mr. Karl Howell</td>\n",
       "      <td>male</td>\n",
       "      <td>26.0</td>\n",
       "      <td>0</td>\n",
       "      <td>0</td>\n",
       "      <td>111369</td>\n",
       "      <td>3.401197</td>\n",
       "      <td>C148</td>\n",
       "      <td>C</td>\n",
       "      <td>1</td>\n",
       "      <td>Mr</td>\n",
       "    </tr>\n",
       "  </tbody>\n",
       "</table>\n",
       "<p>342 rows × 14 columns</p>\n",
       "</div>"
      ],
      "text/plain": [
       "     PassengerId  Survived  Pclass  \\\n",
       "1              2         1       1   \n",
       "2              3         1       3   \n",
       "3              4         1       1   \n",
       "8              9         1       3   \n",
       "9             10         1       2   \n",
       "..           ...       ...     ...   \n",
       "875          876         1       3   \n",
       "879          880         1       1   \n",
       "880          881         1       2   \n",
       "887          888         1       1   \n",
       "889          890         1       1   \n",
       "\n",
       "                                                  Name     Sex   Age  SibSp  \\\n",
       "1    Cumings, Mrs. John Bradley (Florence Briggs Th...  female  38.0      1   \n",
       "2                               Heikkinen, Miss. Laina  female  26.0      0   \n",
       "3         Futrelle, Mrs. Jacques Heath (Lily May Peel)  female  35.0      1   \n",
       "8    Johnson, Mrs. Oscar W (Elisabeth Vilhelmina Berg)  female  27.0      0   \n",
       "9                  Nasser, Mrs. Nicholas (Adele Achem)  female  14.0      1   \n",
       "..                                                 ...     ...   ...    ...   \n",
       "875                   Najib, Miss. Adele Kiamie \"Jane\"  female  15.0      0   \n",
       "879      Potter, Mrs. Thomas Jr (Lily Alexenia Wilson)  female  56.0      0   \n",
       "880       Shelley, Mrs. William (Imanita Parrish Hall)  female  25.0      0   \n",
       "887                       Graham, Miss. Margaret Edith  female  19.0      0   \n",
       "889                              Behr, Mr. Karl Howell    male  26.0      0   \n",
       "\n",
       "     Parch            Ticket      Fare Cabin Embarked  FamilySize Initial  \n",
       "1        0          PC 17599  4.266662   C85        C           2     Mrs  \n",
       "2        0  STON/O2. 3101282  2.070022   NaN        S           1    Miss  \n",
       "3        0            113803  3.972177  C123        S           2     Mrs  \n",
       "8        2            347742  2.409941   NaN        S           3     Mrs  \n",
       "9        0            237736  3.403555   NaN        C           2     Mrs  \n",
       "..     ...               ...       ...   ...      ...         ...     ...  \n",
       "875      0              2667  1.977547   NaN        C           1    Miss  \n",
       "879      1             11767  4.420746   C50        C           2     Mrs  \n",
       "880      1            230433  3.258097   NaN        S           2     Mrs  \n",
       "887      0            112053  3.401197   B42        S           1    Miss  \n",
       "889      0            111369  3.401197  C148        C           1      Mr  \n",
       "\n",
       "[342 rows x 14 columns]"
      ]
     },
     "execution_count": 14,
     "metadata": {},
     "output_type": "execute_result"
    }
   ],
   "source": [
    "df_train.loc[df_train['Survived'] == 1]"
   ]
  },
  {
   "cell_type": "code",
   "execution_count": 15,
   "id": "2c0cfdbe",
   "metadata": {
    "execution": {
     "iopub.execute_input": "2022-02-03T12:17:42.383248Z",
     "iopub.status.busy": "2022-02-03T12:17:42.382239Z",
     "iopub.status.idle": "2022-02-03T12:17:42.404547Z",
     "shell.execute_reply": "2022-02-03T12:17:42.405064Z",
     "shell.execute_reply.started": "2022-02-03T12:16:07.651650Z"
    },
    "papermill": {
     "duration": 0.056735,
     "end_time": "2022-02-03T12:17:42.405280",
     "exception": false,
     "start_time": "2022-02-03T12:17:42.348545",
     "status": "completed"
    },
    "tags": []
   },
   "outputs": [],
   "source": [
    "df_train.loc[(df_train['Age'].isnull()) & (df_train['Initial'] == 'Mr'), 'Age'] = 30\n",
    "df_train.loc[(df_train['Age'].isnull()) & (df_train['Initial'] == 'Mrs'), 'Age'] = 37\n",
    "df_train.loc[(df_train['Age'].isnull()) & (df_train['Initial'] == 'Master'), 'Age'] = 5\n",
    "df_train.loc[(df_train['Age'].isnull()) & (df_train['Initial'] == 'Miss'), 'Age'] = 22\n",
    "df_train.loc[(df_train['Age'].isnull()) & (df_train['Initial'] == 'Other'), 'Age'] = 45\n",
    "\n",
    "df_test.loc[(df_test['Age'].isnull()) & (df_test['Initial'] == 'Mr'), 'Age'] = 30\n",
    "df_test.loc[(df_test['Age'].isnull()) & (df_test['Initial'] == 'Mrs'), 'Age'] = 37\n",
    "df_test.loc[(df_test['Age'].isnull()) & (df_test['Initial'] == 'Master'), 'Age'] = 5\n",
    "df_test.loc[(df_test['Age'].isnull()) & (df_test['Initial'] == 'Miss'), 'Age'] = 22\n",
    "df_test.loc[(df_test['Age'].isnull()) & (df_test['Initial'] == 'Other'), 'Age'] = 45"
   ]
  },
  {
   "cell_type": "code",
   "execution_count": 16,
   "id": "9cd80ce0",
   "metadata": {
    "execution": {
     "iopub.execute_input": "2022-02-03T12:17:42.468799Z",
     "iopub.status.busy": "2022-02-03T12:17:42.467869Z",
     "iopub.status.idle": "2022-02-03T12:17:42.476778Z",
     "shell.execute_reply": "2022-02-03T12:17:42.477225Z",
     "shell.execute_reply.started": "2022-02-03T12:16:07.676934Z"
    },
    "papermill": {
     "duration": 0.042385,
     "end_time": "2022-02-03T12:17:42.477409",
     "exception": false,
     "start_time": "2022-02-03T12:17:42.435024",
     "status": "completed"
    },
    "tags": []
   },
   "outputs": [
    {
     "data": {
      "text/plain": [
       "0      22.0\n",
       "4      35.0\n",
       "5      30.0\n",
       "6      54.0\n",
       "12     20.0\n",
       "       ... \n",
       "881    33.0\n",
       "883    28.0\n",
       "884    25.0\n",
       "889    26.0\n",
       "890    32.0\n",
       "Name: Age, Length: 529, dtype: float64"
      ]
     },
     "execution_count": 16,
     "metadata": {},
     "output_type": "execute_result"
    }
   ],
   "source": [
    "df_train.loc[(df_train['Initial'] == 'Mr'), 'Age']"
   ]
  },
  {
   "cell_type": "code",
   "execution_count": 17,
   "id": "a8c95703",
   "metadata": {
    "execution": {
     "iopub.execute_input": "2022-02-03T12:17:42.541265Z",
     "iopub.status.busy": "2022-02-03T12:17:42.540451Z",
     "iopub.status.idle": "2022-02-03T12:17:42.542960Z",
     "shell.execute_reply": "2022-02-03T12:17:42.543407Z",
     "shell.execute_reply.started": "2022-02-03T12:16:07.695178Z"
    },
    "papermill": {
     "duration": 0.037087,
     "end_time": "2022-02-03T12:17:42.543580",
     "exception": false,
     "start_time": "2022-02-03T12:17:42.506493",
     "status": "completed"
    },
    "tags": []
   },
   "outputs": [],
   "source": [
    "df_train['Embarked'].fillna('S', inplace=True)"
   ]
  },
  {
   "cell_type": "code",
   "execution_count": 18,
   "id": "5c91fc5a",
   "metadata": {
    "execution": {
     "iopub.execute_input": "2022-02-03T12:17:42.608727Z",
     "iopub.status.busy": "2022-02-03T12:17:42.608000Z",
     "iopub.status.idle": "2022-02-03T12:17:42.610950Z",
     "shell.execute_reply": "2022-02-03T12:17:42.611428Z",
     "shell.execute_reply.started": "2022-02-03T12:16:07.703171Z"
    },
    "papermill": {
     "duration": 0.0387,
     "end_time": "2022-02-03T12:17:42.611591",
     "exception": false,
     "start_time": "2022-02-03T12:17:42.572891",
     "status": "completed"
    },
    "tags": []
   },
   "outputs": [
    {
     "data": {
      "text/plain": [
       "0"
      ]
     },
     "execution_count": 18,
     "metadata": {},
     "output_type": "execute_result"
    }
   ],
   "source": [
    "df_train['Embarked'].isnull().sum()"
   ]
  },
  {
   "cell_type": "code",
   "execution_count": 19,
   "id": "b0c591af",
   "metadata": {
    "execution": {
     "iopub.execute_input": "2022-02-03T12:17:42.674553Z",
     "iopub.status.busy": "2022-02-03T12:17:42.673613Z",
     "iopub.status.idle": "2022-02-03T12:17:42.688306Z",
     "shell.execute_reply": "2022-02-03T12:17:42.688821Z",
     "shell.execute_reply.started": "2022-02-03T12:16:07.715519Z"
    },
    "papermill": {
     "duration": 0.047948,
     "end_time": "2022-02-03T12:17:42.689001",
     "exception": false,
     "start_time": "2022-02-03T12:17:42.641053",
     "status": "completed"
    },
    "tags": []
   },
   "outputs": [],
   "source": [
    "df_train['Age_cat'] = 0\n",
    "df_train.loc[df_train['Age'] < 10, 'Age_cat'] = 0\n",
    "df_train.loc[(10 <= df_train['Age']) & (df_train['Age'] < 20), 'Age_cat'] = 1\n",
    "df_train.loc[(20 <= df_train['Age']) & (df_train['Age'] < 30), 'Age_cat'] = 2\n",
    "df_train.loc[(30 <= df_train['Age']) & (df_train['Age'] < 40), 'Age_cat'] = 3\n",
    "df_train.loc[(40 <= df_train['Age']) & (df_train['Age'] < 50), 'Age_cat'] = 4\n",
    "df_train.loc[(50 <= df_train['Age']) & (df_train['Age'] < 60), 'Age_cat'] = 5\n",
    "df_train.loc[(60 <= df_train['Age']) & (df_train['Age'] < 70), 'Age_cat'] = 6\n",
    "df_train.loc[70 <= df_train['Age'], 'Age_cat'] = 7"
   ]
  },
  {
   "cell_type": "code",
   "execution_count": 20,
   "id": "70c45608",
   "metadata": {
    "execution": {
     "iopub.execute_input": "2022-02-03T12:17:42.751962Z",
     "iopub.status.busy": "2022-02-03T12:17:42.750996Z",
     "iopub.status.idle": "2022-02-03T12:17:42.766111Z",
     "shell.execute_reply": "2022-02-03T12:17:42.766571Z",
     "shell.execute_reply.started": "2022-02-03T12:16:07.737030Z"
    },
    "papermill": {
     "duration": 0.048354,
     "end_time": "2022-02-03T12:17:42.766783",
     "exception": false,
     "start_time": "2022-02-03T12:17:42.718429",
     "status": "completed"
    },
    "tags": []
   },
   "outputs": [],
   "source": [
    "df_test['Age_cat'] = 0\n",
    "df_test.loc[df_test['Age'] < 10, 'Age_cat'] = 0\n",
    "df_test.loc[(10 <= df_test['Age']) & (df_test['Age'] < 20), 'Age_cat'] = 1\n",
    "df_test.loc[(20 <= df_test['Age']) & (df_test['Age'] < 30), 'Age_cat'] = 2\n",
    "df_test.loc[(30 <= df_test['Age']) & (df_test['Age'] < 40), 'Age_cat'] = 3\n",
    "df_test.loc[(40 <= df_test['Age']) & (df_test['Age'] < 50), 'Age_cat'] = 4\n",
    "df_test.loc[(50 <= df_test['Age']) & (df_test['Age'] < 60), 'Age_cat'] = 5\n",
    "df_test.loc[(60 <= df_test['Age']) & (df_test['Age'] < 70), 'Age_cat'] = 6\n",
    "df_test.loc[70 <= df_test['Age'], 'Age_cat'] = 7"
   ]
  },
  {
   "cell_type": "code",
   "execution_count": 21,
   "id": "1c544b09",
   "metadata": {
    "execution": {
     "iopub.execute_input": "2022-02-03T12:17:42.830313Z",
     "iopub.status.busy": "2022-02-03T12:17:42.829359Z",
     "iopub.status.idle": "2022-02-03T12:17:42.834407Z",
     "shell.execute_reply": "2022-02-03T12:17:42.834884Z",
     "shell.execute_reply.started": "2022-02-03T12:16:07.757242Z"
    },
    "papermill": {
     "duration": 0.038594,
     "end_time": "2022-02-03T12:17:42.835055",
     "exception": false,
     "start_time": "2022-02-03T12:17:42.796461",
     "status": "completed"
    },
    "tags": []
   },
   "outputs": [],
   "source": [
    "def category_age(x):\n",
    "    if x < 10:\n",
    "        return 0\n",
    "    elif x < 20:\n",
    "        return 1\n",
    "    elif x < 30:\n",
    "        return 2\n",
    "    elif x < 40:\n",
    "        return 3\n",
    "    elif x < 50:\n",
    "        return 4\n",
    "    elif x < 60:\n",
    "        return 5\n",
    "    elif x < 70:\n",
    "        return 6\n",
    "    else:\n",
    "        return 7 "
   ]
  },
  {
   "cell_type": "code",
   "execution_count": 22,
   "id": "8946236e",
   "metadata": {
    "execution": {
     "iopub.execute_input": "2022-02-03T12:17:42.897815Z",
     "iopub.status.busy": "2022-02-03T12:17:42.896900Z",
     "iopub.status.idle": "2022-02-03T12:17:42.902399Z",
     "shell.execute_reply": "2022-02-03T12:17:42.902858Z",
     "shell.execute_reply.started": "2022-02-03T12:16:07.774338Z"
    },
    "papermill": {
     "duration": 0.03853,
     "end_time": "2022-02-03T12:17:42.903029",
     "exception": false,
     "start_time": "2022-02-03T12:17:42.864499",
     "status": "completed"
    },
    "tags": []
   },
   "outputs": [],
   "source": [
    "df_train['Age_cat_2'] = df_train['Age'].apply(category_age)"
   ]
  },
  {
   "cell_type": "code",
   "execution_count": 23,
   "id": "eefb6f94",
   "metadata": {
    "execution": {
     "iopub.execute_input": "2022-02-03T12:17:42.965873Z",
     "iopub.status.busy": "2022-02-03T12:17:42.964951Z",
     "iopub.status.idle": "2022-02-03T12:17:42.972288Z",
     "shell.execute_reply": "2022-02-03T12:17:42.971794Z",
     "shell.execute_reply.started": "2022-02-03T12:16:07.788886Z"
    },
    "papermill": {
     "duration": 0.039881,
     "end_time": "2022-02-03T12:17:42.972450",
     "exception": false,
     "start_time": "2022-02-03T12:17:42.932569",
     "status": "completed"
    },
    "tags": []
   },
   "outputs": [
    {
     "data": {
      "text/plain": [
       "True"
      ]
     },
     "execution_count": 23,
     "metadata": {},
     "output_type": "execute_result"
    }
   ],
   "source": [
    "(df_train['Age_cat'] == df_train['Age_cat_2']).all()"
   ]
  },
  {
   "cell_type": "code",
   "execution_count": 24,
   "id": "0108b68d",
   "metadata": {
    "execution": {
     "iopub.execute_input": "2022-02-03T12:17:43.040210Z",
     "iopub.status.busy": "2022-02-03T12:17:43.039197Z",
     "iopub.status.idle": "2022-02-03T12:17:43.044672Z",
     "shell.execute_reply": "2022-02-03T12:17:43.045219Z",
     "shell.execute_reply.started": "2022-02-03T12:16:07.804912Z"
    },
    "papermill": {
     "duration": 0.042932,
     "end_time": "2022-02-03T12:17:43.045395",
     "exception": false,
     "start_time": "2022-02-03T12:17:43.002463",
     "status": "completed"
    },
    "tags": []
   },
   "outputs": [],
   "source": [
    "df_train.drop(['Age', 'Age_cat_2'], axis=1, inplace=True)\n",
    "df_test.drop(['Age'], axis=1, inplace=True)"
   ]
  },
  {
   "cell_type": "code",
   "execution_count": 25,
   "id": "e49416a4",
   "metadata": {
    "execution": {
     "iopub.execute_input": "2022-02-03T12:17:43.109818Z",
     "iopub.status.busy": "2022-02-03T12:17:43.108899Z",
     "iopub.status.idle": "2022-02-03T12:17:43.114747Z",
     "shell.execute_reply": "2022-02-03T12:17:43.115193Z",
     "shell.execute_reply.started": "2022-02-03T12:16:07.818535Z"
    },
    "papermill": {
     "duration": 0.039275,
     "end_time": "2022-02-03T12:17:43.115374",
     "exception": false,
     "start_time": "2022-02-03T12:17:43.076099",
     "status": "completed"
    },
    "tags": []
   },
   "outputs": [
    {
     "data": {
      "text/plain": [
       "array(['Mr', 'Mrs', 'Miss', 'Master', 'Other'], dtype=object)"
      ]
     },
     "execution_count": 25,
     "metadata": {},
     "output_type": "execute_result"
    }
   ],
   "source": [
    "df_train.Initial.unique()"
   ]
  },
  {
   "cell_type": "code",
   "execution_count": 26,
   "id": "c67ddf7a",
   "metadata": {
    "execution": {
     "iopub.execute_input": "2022-02-03T12:17:43.180104Z",
     "iopub.status.busy": "2022-02-03T12:17:43.179167Z",
     "iopub.status.idle": "2022-02-03T12:17:43.186662Z",
     "shell.execute_reply": "2022-02-03T12:17:43.187427Z",
     "shell.execute_reply.started": "2022-02-03T12:16:07.829734Z"
    },
    "papermill": {
     "duration": 0.041803,
     "end_time": "2022-02-03T12:17:43.187636",
     "exception": false,
     "start_time": "2022-02-03T12:17:43.145833",
     "status": "completed"
    },
    "tags": []
   },
   "outputs": [],
   "source": [
    "df_train['Initial'] = df_train['Initial'].map({'Master':0, 'Miss':1, 'Mr':2, 'Mrs':3, 'Other':4})\n",
    "df_test['Initial'] = df_test['Initial'].map({'Master':0, 'Miss':1, 'Mr':2, 'Mrs':3, 'Other':4})"
   ]
  },
  {
   "cell_type": "code",
   "execution_count": 27,
   "id": "c8c0f489",
   "metadata": {
    "execution": {
     "iopub.execute_input": "2022-02-03T12:17:43.251942Z",
     "iopub.status.busy": "2022-02-03T12:17:43.251017Z",
     "iopub.status.idle": "2022-02-03T12:17:43.256809Z",
     "shell.execute_reply": "2022-02-03T12:17:43.257247Z",
     "shell.execute_reply.started": "2022-02-03T12:16:07.847488Z"
    },
    "papermill": {
     "duration": 0.03959,
     "end_time": "2022-02-03T12:17:43.257415",
     "exception": false,
     "start_time": "2022-02-03T12:17:43.217825",
     "status": "completed"
    },
    "tags": []
   },
   "outputs": [
    {
     "data": {
      "text/plain": [
       "array(['S', 'C', 'Q'], dtype=object)"
      ]
     },
     "execution_count": 27,
     "metadata": {},
     "output_type": "execute_result"
    }
   ],
   "source": [
    "df_train.Embarked.unique()"
   ]
  },
  {
   "cell_type": "code",
   "execution_count": 28,
   "id": "e214345f",
   "metadata": {
    "execution": {
     "iopub.execute_input": "2022-02-03T12:17:43.322361Z",
     "iopub.status.busy": "2022-02-03T12:17:43.321423Z",
     "iopub.status.idle": "2022-02-03T12:17:43.328878Z",
     "shell.execute_reply": "2022-02-03T12:17:43.329338Z",
     "shell.execute_reply.started": "2022-02-03T12:16:07.858319Z"
    },
    "papermill": {
     "duration": 0.041658,
     "end_time": "2022-02-03T12:17:43.329514",
     "exception": false,
     "start_time": "2022-02-03T12:17:43.287856",
     "status": "completed"
    },
    "tags": []
   },
   "outputs": [],
   "source": [
    "df_train['Embarked'] = df_train['Embarked'].map({'C':0,'Q':1,'S':2})\n",
    "df_test['Embarked'] = df_test['Embarked'].map({'C':0,'Q':1,'S':2})"
   ]
  },
  {
   "cell_type": "code",
   "execution_count": 29,
   "id": "06dc835d",
   "metadata": {
    "execution": {
     "iopub.execute_input": "2022-02-03T12:17:43.394346Z",
     "iopub.status.busy": "2022-02-03T12:17:43.393415Z",
     "iopub.status.idle": "2022-02-03T12:17:43.400235Z",
     "shell.execute_reply": "2022-02-03T12:17:43.400694Z",
     "shell.execute_reply.started": "2022-02-03T12:16:07.873138Z"
    },
    "papermill": {
     "duration": 0.040839,
     "end_time": "2022-02-03T12:17:43.400892",
     "exception": false,
     "start_time": "2022-02-03T12:17:43.360053",
     "status": "completed"
    },
    "tags": []
   },
   "outputs": [],
   "source": [
    "df_train['Sex'] = df_train['Sex'].map({'female':0,'male':1})\n",
    "df_test['Sex'] = df_test['Sex'].map({'female':0,'male':1})"
   ]
  },
  {
   "cell_type": "code",
   "execution_count": 30,
   "id": "2d0abc4c",
   "metadata": {
    "execution": {
     "iopub.execute_input": "2022-02-03T12:17:43.466194Z",
     "iopub.status.busy": "2022-02-03T12:17:43.465203Z",
     "iopub.status.idle": "2022-02-03T12:17:43.481811Z",
     "shell.execute_reply": "2022-02-03T12:17:43.482298Z",
     "shell.execute_reply.started": "2022-02-03T12:16:07.890043Z"
    },
    "papermill": {
     "duration": 0.050506,
     "end_time": "2022-02-03T12:17:43.482476",
     "exception": false,
     "start_time": "2022-02-03T12:17:43.431970",
     "status": "completed"
    },
    "tags": []
   },
   "outputs": [],
   "source": [
    "df_train = pd.get_dummies(df_train, columns=['Initial'], prefix='Initial')\n",
    "df_test = pd.get_dummies(df_test, columns=['Initial'], prefix='Initial')"
   ]
  },
  {
   "cell_type": "code",
   "execution_count": 31,
   "id": "09486039",
   "metadata": {
    "execution": {
     "iopub.execute_input": "2022-02-03T12:17:43.547733Z",
     "iopub.status.busy": "2022-02-03T12:17:43.546777Z",
     "iopub.status.idle": "2022-02-03T12:17:43.559328Z",
     "shell.execute_reply": "2022-02-03T12:17:43.559861Z",
     "shell.execute_reply.started": "2022-02-03T12:16:07.911686Z"
    },
    "papermill": {
     "duration": 0.046773,
     "end_time": "2022-02-03T12:17:43.560076",
     "exception": false,
     "start_time": "2022-02-03T12:17:43.513303",
     "status": "completed"
    },
    "tags": []
   },
   "outputs": [],
   "source": [
    "df_train = pd.get_dummies(df_train, columns=['Embarked'], prefix = 'Embarked')\n",
    "df_test = pd.get_dummies(df_test, columns=['Embarked'], prefix = 'Embarked')"
   ]
  },
  {
   "cell_type": "code",
   "execution_count": 32,
   "id": "55526922",
   "metadata": {
    "execution": {
     "iopub.execute_input": "2022-02-03T12:17:43.630477Z",
     "iopub.status.busy": "2022-02-03T12:17:43.629734Z",
     "iopub.status.idle": "2022-02-03T12:17:43.633553Z",
     "shell.execute_reply": "2022-02-03T12:17:43.634192Z",
     "shell.execute_reply.started": "2022-02-03T12:16:07.932543Z"
    },
    "papermill": {
     "duration": 0.042007,
     "end_time": "2022-02-03T12:17:43.634390",
     "exception": false,
     "start_time": "2022-02-03T12:17:43.592383",
     "status": "completed"
    },
    "tags": []
   },
   "outputs": [],
   "source": [
    "df_train.drop(['PassengerId', 'Name', 'SibSp', 'Parch', 'Ticket','Cabin'], axis=1, inplace=True)\n",
    "df_test.drop(['PassengerId', 'Name', 'SibSp', 'Parch', 'Ticket','Cabin'], axis=1, inplace=True)"
   ]
  }
 ],
 "metadata": {
  "kernelspec": {
   "display_name": "Python 3",
   "language": "python",
   "name": "python3"
  },
  "language_info": {
   "codemirror_mode": {
    "name": "ipython",
    "version": 3
   },
   "file_extension": ".py",
   "mimetype": "text/x-python",
   "name": "python",
   "nbconvert_exporter": "python",
   "pygments_lexer": "ipython3",
   "version": "3.7.12"
  },
  "papermill": {
   "default_parameters": {},
   "duration": 14.699332,
   "end_time": "2022-02-03T12:17:44.379526",
   "environment_variables": {},
   "exception": null,
   "input_path": "__notebook__.ipynb",
   "output_path": "__notebook__.ipynb",
   "parameters": {},
   "start_time": "2022-02-03T12:17:29.680194",
   "version": "2.3.3"
  }
 },
 "nbformat": 4,
 "nbformat_minor": 5
}
