{
 "cells": [
  {
   "cell_type": "code",
   "execution_count": 1,
   "id": "6df3a46d",
   "metadata": {
    "execution": {
     "iopub.execute_input": "2022-02-03T07:21:56.468439Z",
     "iopub.status.busy": "2022-02-03T07:21:56.467203Z",
     "iopub.status.idle": "2022-02-03T07:21:56.482385Z",
     "shell.execute_reply": "2022-02-03T07:21:56.483245Z",
     "shell.execute_reply.started": "2022-02-03T07:20:19.080056Z"
    },
    "papermill": {
     "duration": 0.045949,
     "end_time": "2022-02-03T07:21:56.483655",
     "exception": false,
     "start_time": "2022-02-03T07:21:56.437706",
     "status": "completed"
    },
    "tags": []
   },
   "outputs": [
    {
     "name": "stdout",
     "output_type": "stream",
     "text": [
      "/kaggle/input/titanic/train.csv\n",
      "/kaggle/input/titanic/test.csv\n",
      "/kaggle/input/titanic/gender_submission.csv\n"
     ]
    }
   ],
   "source": [
    "import os\n",
    "for dirname, _, filenames in os.walk('/kaggle/input'):\n",
    "    for filename in filenames:\n",
    "        print(os.path.join(dirname, filename))"
   ]
  },
  {
   "cell_type": "code",
   "execution_count": 2,
   "id": "3993bdd0",
   "metadata": {
    "_cell_guid": "b1076dfc-b9ad-4769-8c92-a6c4dae69d19",
    "_uuid": "8f2839f25d086af736a60e9eeb907d3b93b6e0e5",
    "execution": {
     "iopub.execute_input": "2022-02-03T07:21:56.540106Z",
     "iopub.status.busy": "2022-02-03T07:21:56.539438Z",
     "iopub.status.idle": "2022-02-03T07:21:57.715048Z",
     "shell.execute_reply": "2022-02-03T07:21:57.715628Z",
     "shell.execute_reply.started": "2022-02-03T07:20:19.098387Z"
    },
    "papermill": {
     "duration": 1.204854,
     "end_time": "2022-02-03T07:21:57.715821",
     "exception": false,
     "start_time": "2022-02-03T07:21:56.510967",
     "status": "completed"
    },
    "tags": []
   },
   "outputs": [],
   "source": [
    "import numpy as np\n",
    "import pandas as pd\n",
    "import matplotlib.pyplot as plt\n",
    "import seaborn as sns\n",
    "\n",
    "plt.style.use('seaborn')\n",
    "sns.set(font_scale=2.5)\n",
    "\n",
    "import missingno as msno\n",
    "\n",
    "#ignore warnings\n",
    "import warnings\n",
    "warnings.filterwarnings('ignore')\n",
    "\n",
    "%matplotlib inline"
   ]
  },
  {
   "cell_type": "code",
   "execution_count": 3,
   "id": "f5b45249",
   "metadata": {
    "execution": {
     "iopub.execute_input": "2022-02-03T07:21:57.772507Z",
     "iopub.status.busy": "2022-02-03T07:21:57.771695Z",
     "iopub.status.idle": "2022-02-03T07:21:57.807913Z",
     "shell.execute_reply": "2022-02-03T07:21:57.807348Z",
     "shell.execute_reply.started": "2022-02-03T07:20:19.565882Z"
    },
    "papermill": {
     "duration": 0.065589,
     "end_time": "2022-02-03T07:21:57.808068",
     "exception": false,
     "start_time": "2022-02-03T07:21:57.742479",
     "status": "completed"
    },
    "tags": []
   },
   "outputs": [],
   "source": [
    "df_train = pd.read_csv('/kaggle/input/titanic/train.csv')\n",
    "df_test = pd.read_csv('/kaggle/input/titanic/test.csv')"
   ]
  },
  {
   "cell_type": "markdown",
   "id": "043aecdd",
   "metadata": {
    "papermill": {
     "duration": 0.02375,
     "end_time": "2022-02-03T07:21:57.856246",
     "exception": false,
     "start_time": "2022-02-03T07:21:57.832496",
     "status": "completed"
    },
    "tags": []
   },
   "source": [
    "Fill Null in Embarked"
   ]
  },
  {
   "cell_type": "code",
   "execution_count": 4,
   "id": "b49d2810",
   "metadata": {
    "execution": {
     "iopub.execute_input": "2022-02-03T07:21:57.914111Z",
     "iopub.status.busy": "2022-02-03T07:21:57.913025Z",
     "iopub.status.idle": "2022-02-03T07:21:57.921886Z",
     "shell.execute_reply": "2022-02-03T07:21:57.921339Z",
     "shell.execute_reply.started": "2022-02-03T07:20:19.585476Z"
    },
    "papermill": {
     "duration": 0.041977,
     "end_time": "2022-02-03T07:21:57.922036",
     "exception": false,
     "start_time": "2022-02-03T07:21:57.880059",
     "status": "completed"
    },
    "tags": []
   },
   "outputs": [
    {
     "data": {
      "text/plain": [
       "2"
      ]
     },
     "execution_count": 4,
     "metadata": {},
     "output_type": "execute_result"
    }
   ],
   "source": [
    "df_train['Embarked'].isnull().sum()"
   ]
  },
  {
   "cell_type": "code",
   "execution_count": 5,
   "id": "4ae8dc68",
   "metadata": {
    "execution": {
     "iopub.execute_input": "2022-02-03T07:21:57.976658Z",
     "iopub.status.busy": "2022-02-03T07:21:57.975910Z",
     "iopub.status.idle": "2022-02-03T07:21:57.978540Z",
     "shell.execute_reply": "2022-02-03T07:21:57.979024Z",
     "shell.execute_reply.started": "2022-02-03T07:20:19.595438Z"
    },
    "papermill": {
     "duration": 0.032478,
     "end_time": "2022-02-03T07:21:57.979219",
     "exception": false,
     "start_time": "2022-02-03T07:21:57.946741",
     "status": "completed"
    },
    "tags": []
   },
   "outputs": [
    {
     "data": {
      "text/plain": [
       "(891, 12)"
      ]
     },
     "execution_count": 5,
     "metadata": {},
     "output_type": "execute_result"
    }
   ],
   "source": [
    "df_train.shape"
   ]
  },
  {
   "cell_type": "code",
   "execution_count": 6,
   "id": "dcf7bbc5",
   "metadata": {
    "execution": {
     "iopub.execute_input": "2022-02-03T07:21:58.032834Z",
     "iopub.status.busy": "2022-02-03T07:21:58.031796Z",
     "iopub.status.idle": "2022-02-03T07:21:58.038258Z",
     "shell.execute_reply": "2022-02-03T07:21:58.037655Z",
     "shell.execute_reply.started": "2022-02-03T07:20:19.608122Z"
    },
    "papermill": {
     "duration": 0.033877,
     "end_time": "2022-02-03T07:21:58.038406",
     "exception": false,
     "start_time": "2022-02-03T07:21:58.004529",
     "status": "completed"
    },
    "tags": []
   },
   "outputs": [],
   "source": [
    "df_train['Embarked'].fillna('S', inplace=True)"
   ]
  },
  {
   "cell_type": "code",
   "execution_count": 7,
   "id": "7aa80c61",
   "metadata": {
    "execution": {
     "iopub.execute_input": "2022-02-03T07:21:58.095671Z",
     "iopub.status.busy": "2022-02-03T07:21:58.094891Z",
     "iopub.status.idle": "2022-02-03T07:21:58.098850Z",
     "shell.execute_reply": "2022-02-03T07:21:58.098324Z",
     "shell.execute_reply.started": "2022-02-03T07:20:19.620135Z"
    },
    "papermill": {
     "duration": 0.035917,
     "end_time": "2022-02-03T07:21:58.098991",
     "exception": false,
     "start_time": "2022-02-03T07:21:58.063074",
     "status": "completed"
    },
    "tags": []
   },
   "outputs": [
    {
     "data": {
      "text/plain": [
       "0"
      ]
     },
     "execution_count": 7,
     "metadata": {},
     "output_type": "execute_result"
    }
   ],
   "source": [
    "df_train['Embarked'].isnull().sum()"
   ]
  },
  {
   "cell_type": "markdown",
   "id": "6973b2ee",
   "metadata": {
    "papermill": {
     "duration": 0.024776,
     "end_time": "2022-02-03T07:21:58.148702",
     "exception": false,
     "start_time": "2022-02-03T07:21:58.123926",
     "status": "completed"
    },
    "tags": []
   },
   "source": [
    "Categorize Age"
   ]
  },
  {
   "cell_type": "code",
   "execution_count": 8,
   "id": "24794fd4",
   "metadata": {
    "execution": {
     "iopub.execute_input": "2022-02-03T07:21:58.202689Z",
     "iopub.status.busy": "2022-02-03T07:21:58.201961Z",
     "iopub.status.idle": "2022-02-03T07:21:58.217412Z",
     "shell.execute_reply": "2022-02-03T07:21:58.216665Z",
     "shell.execute_reply.started": "2022-02-03T07:20:19.633231Z"
    },
    "papermill": {
     "duration": 0.043968,
     "end_time": "2022-02-03T07:21:58.217567",
     "exception": false,
     "start_time": "2022-02-03T07:21:58.173599",
     "status": "completed"
    },
    "tags": []
   },
   "outputs": [],
   "source": [
    "df_train['Initial'] = df_train['Name'].str.extract('([A-Za-z]+)\\.')\n",
    "df_test['Initial'] = df_test['Name'].str.extract('([A-Za-z]+)\\.')"
   ]
  },
  {
   "cell_type": "code",
   "execution_count": 9,
   "id": "8874cee4",
   "metadata": {
    "execution": {
     "iopub.execute_input": "2022-02-03T07:21:58.279644Z",
     "iopub.status.busy": "2022-02-03T07:21:58.278583Z",
     "iopub.status.idle": "2022-02-03T07:21:58.286107Z",
     "shell.execute_reply": "2022-02-03T07:21:58.285429Z",
     "shell.execute_reply.started": "2022-02-03T07:20:19.651637Z"
    },
    "papermill": {
     "duration": 0.042973,
     "end_time": "2022-02-03T07:21:58.286264",
     "exception": false,
     "start_time": "2022-02-03T07:21:58.243291",
     "status": "completed"
    },
    "tags": []
   },
   "outputs": [],
   "source": [
    "df_train['Initial'].replace(['Mlle','Mme','Ms','Dr','Major','Lady','Countess','Jonkheer','Col','Rev','Capt','Sir','Don','Dona'],\n",
    "                            ['Miss','Miss','Miss','Mr','Mr','Mrs','Mrs','Other','Other','Other','Mr','Mr','Mr','Mr'],inplace=True)\n",
    "df_test['Initial'].replace(['Mlle','Mme','Ms','Dr','Major','Lady','Countess','Jonkheer','Col','Rev','Capt','Sir','Don','Dona'],\n",
    "                            ['Miss','Miss','Miss','Mr','Mr','Mrs','Mrs','Other','Other','Other','Mr','Mr','Mr','Mr'],inplace=True)"
   ]
  },
  {
   "cell_type": "code",
   "execution_count": 10,
   "id": "4e612784",
   "metadata": {
    "execution": {
     "iopub.execute_input": "2022-02-03T07:21:58.344925Z",
     "iopub.status.busy": "2022-02-03T07:21:58.344097Z",
     "iopub.status.idle": "2022-02-03T07:21:58.368755Z",
     "shell.execute_reply": "2022-02-03T07:21:58.369225Z",
     "shell.execute_reply.started": "2022-02-03T07:20:19.672277Z"
    },
    "papermill": {
     "duration": 0.058258,
     "end_time": "2022-02-03T07:21:58.369404",
     "exception": false,
     "start_time": "2022-02-03T07:21:58.311146",
     "status": "completed"
    },
    "tags": []
   },
   "outputs": [
    {
     "data": {
      "text/html": [
       "<div>\n",
       "<style scoped>\n",
       "    .dataframe tbody tr th:only-of-type {\n",
       "        vertical-align: middle;\n",
       "    }\n",
       "\n",
       "    .dataframe tbody tr th {\n",
       "        vertical-align: top;\n",
       "    }\n",
       "\n",
       "    .dataframe thead th {\n",
       "        text-align: right;\n",
       "    }\n",
       "</style>\n",
       "<table border=\"1\" class=\"dataframe\">\n",
       "  <thead>\n",
       "    <tr style=\"text-align: right;\">\n",
       "      <th></th>\n",
       "      <th>PassengerId</th>\n",
       "      <th>Survived</th>\n",
       "      <th>Pclass</th>\n",
       "      <th>Age</th>\n",
       "      <th>SibSp</th>\n",
       "      <th>Parch</th>\n",
       "      <th>Fare</th>\n",
       "    </tr>\n",
       "    <tr>\n",
       "      <th>Initial</th>\n",
       "      <th></th>\n",
       "      <th></th>\n",
       "      <th></th>\n",
       "      <th></th>\n",
       "      <th></th>\n",
       "      <th></th>\n",
       "      <th></th>\n",
       "    </tr>\n",
       "  </thead>\n",
       "  <tbody>\n",
       "    <tr>\n",
       "      <th>Master</th>\n",
       "      <td>414.975000</td>\n",
       "      <td>0.575000</td>\n",
       "      <td>2.625000</td>\n",
       "      <td>4.574167</td>\n",
       "      <td>2.300000</td>\n",
       "      <td>1.375000</td>\n",
       "      <td>34.703125</td>\n",
       "    </tr>\n",
       "    <tr>\n",
       "      <th>Miss</th>\n",
       "      <td>411.741935</td>\n",
       "      <td>0.704301</td>\n",
       "      <td>2.284946</td>\n",
       "      <td>21.860000</td>\n",
       "      <td>0.698925</td>\n",
       "      <td>0.537634</td>\n",
       "      <td>43.937188</td>\n",
       "    </tr>\n",
       "    <tr>\n",
       "      <th>Mr</th>\n",
       "      <td>455.880907</td>\n",
       "      <td>0.162571</td>\n",
       "      <td>2.381853</td>\n",
       "      <td>32.739609</td>\n",
       "      <td>0.293006</td>\n",
       "      <td>0.151229</td>\n",
       "      <td>24.939822</td>\n",
       "    </tr>\n",
       "    <tr>\n",
       "      <th>Mrs</th>\n",
       "      <td>456.393701</td>\n",
       "      <td>0.795276</td>\n",
       "      <td>1.984252</td>\n",
       "      <td>35.981818</td>\n",
       "      <td>0.692913</td>\n",
       "      <td>0.818898</td>\n",
       "      <td>45.420603</td>\n",
       "    </tr>\n",
       "    <tr>\n",
       "      <th>Other</th>\n",
       "      <td>564.444444</td>\n",
       "      <td>0.111111</td>\n",
       "      <td>1.666667</td>\n",
       "      <td>45.888889</td>\n",
       "      <td>0.111111</td>\n",
       "      <td>0.111111</td>\n",
       "      <td>19.102778</td>\n",
       "    </tr>\n",
       "  </tbody>\n",
       "</table>\n",
       "</div>"
      ],
      "text/plain": [
       "         PassengerId  Survived    Pclass        Age     SibSp     Parch  \\\n",
       "Initial                                                                   \n",
       "Master    414.975000  0.575000  2.625000   4.574167  2.300000  1.375000   \n",
       "Miss      411.741935  0.704301  2.284946  21.860000  0.698925  0.537634   \n",
       "Mr        455.880907  0.162571  2.381853  32.739609  0.293006  0.151229   \n",
       "Mrs       456.393701  0.795276  1.984252  35.981818  0.692913  0.818898   \n",
       "Other     564.444444  0.111111  1.666667  45.888889  0.111111  0.111111   \n",
       "\n",
       "              Fare  \n",
       "Initial             \n",
       "Master   34.703125  \n",
       "Miss     43.937188  \n",
       "Mr       24.939822  \n",
       "Mrs      45.420603  \n",
       "Other    19.102778  "
      ]
     },
     "execution_count": 10,
     "metadata": {},
     "output_type": "execute_result"
    }
   ],
   "source": [
    "df_train.groupby('Initial').mean()"
   ]
  },
  {
   "cell_type": "code",
   "execution_count": 11,
   "id": "97654ffb",
   "metadata": {
    "execution": {
     "iopub.execute_input": "2022-02-03T07:21:58.426774Z",
     "iopub.status.busy": "2022-02-03T07:21:58.426076Z",
     "iopub.status.idle": "2022-02-03T07:21:58.693590Z",
     "shell.execute_reply": "2022-02-03T07:21:58.692511Z",
     "shell.execute_reply.started": "2022-02-03T07:20:19.700632Z"
    },
    "papermill": {
     "duration": 0.29893,
     "end_time": "2022-02-03T07:21:58.693747",
     "exception": false,
     "start_time": "2022-02-03T07:21:58.394817",
     "status": "completed"
    },
    "tags": []
   },
   "outputs": [
    {
     "data": {
      "text/plain": [
       "<AxesSubplot:xlabel='Initial'>"
      ]
     },
     "execution_count": 11,
     "metadata": {},
     "output_type": "execute_result"
    },
    {
     "data": {
      "image/png": "[encoded data removed]",
      "text/plain": [
       "<Figure size 432x288 with 1 Axes>"
      ]
     },
     "metadata": {
      "needs_background": "light"
     },
     "output_type": "display_data"
    }
   ],
   "source": [
    "df_train.groupby('Initial')['Survived'].mean().plot.bar()"
   ]
  },
  {
   "cell_type": "code",
   "execution_count": 12,
   "id": "56127b38",
   "metadata": {
    "execution": {
     "iopub.execute_input": "2022-02-03T07:21:58.757772Z",
     "iopub.status.busy": "2022-02-03T07:21:58.756812Z",
     "iopub.status.idle": "2022-02-03T07:21:58.759672Z",
     "shell.execute_reply": "2022-02-03T07:21:58.760183Z",
     "shell.execute_reply.started": "2022-02-03T07:20:19.926799Z"
    },
    "papermill": {
     "duration": 0.039844,
     "end_time": "2022-02-03T07:21:58.760354",
     "exception": false,
     "start_time": "2022-02-03T07:21:58.720510",
     "status": "completed"
    },
    "tags": []
   },
   "outputs": [],
   "source": [
    "df_all = pd.concat([df_train, df_test])"
   ]
  },
  {
   "cell_type": "code",
   "execution_count": 13,
   "id": "0bb02401",
   "metadata": {
    "execution": {
     "iopub.execute_input": "2022-02-03T07:21:58.818236Z",
     "iopub.status.busy": "2022-02-03T07:21:58.817534Z",
     "iopub.status.idle": "2022-02-03T07:21:58.842271Z",
     "shell.execute_reply": "2022-02-03T07:21:58.842742Z",
     "shell.execute_reply.started": "2022-02-03T07:20:19.942074Z"
    },
    "papermill": {
     "duration": 0.055843,
     "end_time": "2022-02-03T07:21:58.842925",
     "exception": false,
     "start_time": "2022-02-03T07:21:58.787082",
     "status": "completed"
    },
    "tags": []
   },
   "outputs": [
    {
     "data": {
      "text/html": [
       "<div>\n",
       "<style scoped>\n",
       "    .dataframe tbody tr th:only-of-type {\n",
       "        vertical-align: middle;\n",
       "    }\n",
       "\n",
       "    .dataframe tbody tr th {\n",
       "        vertical-align: top;\n",
       "    }\n",
       "\n",
       "    .dataframe thead th {\n",
       "        text-align: right;\n",
       "    }\n",
       "</style>\n",
       "<table border=\"1\" class=\"dataframe\">\n",
       "  <thead>\n",
       "    <tr style=\"text-align: right;\">\n",
       "      <th></th>\n",
       "      <th>PassengerId</th>\n",
       "      <th>Survived</th>\n",
       "      <th>Pclass</th>\n",
       "      <th>Name</th>\n",
       "      <th>Sex</th>\n",
       "      <th>Age</th>\n",
       "      <th>SibSp</th>\n",
       "      <th>Parch</th>\n",
       "      <th>Ticket</th>\n",
       "      <th>Fare</th>\n",
       "      <th>Cabin</th>\n",
       "      <th>Embarked</th>\n",
       "      <th>Initial</th>\n",
       "    </tr>\n",
       "  </thead>\n",
       "  <tbody>\n",
       "    <tr>\n",
       "      <th>0</th>\n",
       "      <td>1</td>\n",
       "      <td>0.0</td>\n",
       "      <td>3</td>\n",
       "      <td>Braund, Mr. Owen Harris</td>\n",
       "      <td>male</td>\n",
       "      <td>22.0</td>\n",
       "      <td>1</td>\n",
       "      <td>0</td>\n",
       "      <td>A/5 21171</td>\n",
       "      <td>7.2500</td>\n",
       "      <td>NaN</td>\n",
       "      <td>S</td>\n",
       "      <td>Mr</td>\n",
       "    </tr>\n",
       "    <tr>\n",
       "      <th>1</th>\n",
       "      <td>2</td>\n",
       "      <td>1.0</td>\n",
       "      <td>1</td>\n",
       "      <td>Cumings, Mrs. John Bradley (Florence Briggs Th...</td>\n",
       "      <td>female</td>\n",
       "      <td>38.0</td>\n",
       "      <td>1</td>\n",
       "      <td>0</td>\n",
       "      <td>PC 17599</td>\n",
       "      <td>71.2833</td>\n",
       "      <td>C85</td>\n",
       "      <td>C</td>\n",
       "      <td>Mrs</td>\n",
       "    </tr>\n",
       "    <tr>\n",
       "      <th>2</th>\n",
       "      <td>3</td>\n",
       "      <td>1.0</td>\n",
       "      <td>3</td>\n",
       "      <td>Heikkinen, Miss. Laina</td>\n",
       "      <td>female</td>\n",
       "      <td>26.0</td>\n",
       "      <td>0</td>\n",
       "      <td>0</td>\n",
       "      <td>STON/O2. 3101282</td>\n",
       "      <td>7.9250</td>\n",
       "      <td>NaN</td>\n",
       "      <td>S</td>\n",
       "      <td>Miss</td>\n",
       "    </tr>\n",
       "    <tr>\n",
       "      <th>3</th>\n",
       "      <td>4</td>\n",
       "      <td>1.0</td>\n",
       "      <td>1</td>\n",
       "      <td>Futrelle, Mrs. Jacques Heath (Lily May Peel)</td>\n",
       "      <td>female</td>\n",
       "      <td>35.0</td>\n",
       "      <td>1</td>\n",
       "      <td>0</td>\n",
       "      <td>113803</td>\n",
       "      <td>53.1000</td>\n",
       "      <td>C123</td>\n",
       "      <td>S</td>\n",
       "      <td>Mrs</td>\n",
       "    </tr>\n",
       "    <tr>\n",
       "      <th>4</th>\n",
       "      <td>5</td>\n",
       "      <td>0.0</td>\n",
       "      <td>3</td>\n",
       "      <td>Allen, Mr. William Henry</td>\n",
       "      <td>male</td>\n",
       "      <td>35.0</td>\n",
       "      <td>0</td>\n",
       "      <td>0</td>\n",
       "      <td>373450</td>\n",
       "      <td>8.0500</td>\n",
       "      <td>NaN</td>\n",
       "      <td>S</td>\n",
       "      <td>Mr</td>\n",
       "    </tr>\n",
       "    <tr>\n",
       "      <th>...</th>\n",
       "      <td>...</td>\n",
       "      <td>...</td>\n",
       "      <td>...</td>\n",
       "      <td>...</td>\n",
       "      <td>...</td>\n",
       "      <td>...</td>\n",
       "      <td>...</td>\n",
       "      <td>...</td>\n",
       "      <td>...</td>\n",
       "      <td>...</td>\n",
       "      <td>...</td>\n",
       "      <td>...</td>\n",
       "      <td>...</td>\n",
       "    </tr>\n",
       "    <tr>\n",
       "      <th>1304</th>\n",
       "      <td>1305</td>\n",
       "      <td>NaN</td>\n",
       "      <td>3</td>\n",
       "      <td>Spector, Mr. Woolf</td>\n",
       "      <td>male</td>\n",
       "      <td>NaN</td>\n",
       "      <td>0</td>\n",
       "      <td>0</td>\n",
       "      <td>A.5. 3236</td>\n",
       "      <td>8.0500</td>\n",
       "      <td>NaN</td>\n",
       "      <td>S</td>\n",
       "      <td>Mr</td>\n",
       "    </tr>\n",
       "    <tr>\n",
       "      <th>1305</th>\n",
       "      <td>1306</td>\n",
       "      <td>NaN</td>\n",
       "      <td>1</td>\n",
       "      <td>Oliva y Ocana, Dona. Fermina</td>\n",
       "      <td>female</td>\n",
       "      <td>39.0</td>\n",
       "      <td>0</td>\n",
       "      <td>0</td>\n",
       "      <td>PC 17758</td>\n",
       "      <td>108.9000</td>\n",
       "      <td>C105</td>\n",
       "      <td>C</td>\n",
       "      <td>Mr</td>\n",
       "    </tr>\n",
       "    <tr>\n",
       "      <th>1306</th>\n",
       "      <td>1307</td>\n",
       "      <td>NaN</td>\n",
       "      <td>3</td>\n",
       "      <td>Saether, Mr. Simon Sivertsen</td>\n",
       "      <td>male</td>\n",
       "      <td>38.5</td>\n",
       "      <td>0</td>\n",
       "      <td>0</td>\n",
       "      <td>SOTON/O.Q. 3101262</td>\n",
       "      <td>7.2500</td>\n",
       "      <td>NaN</td>\n",
       "      <td>S</td>\n",
       "      <td>Mr</td>\n",
       "    </tr>\n",
       "    <tr>\n",
       "      <th>1307</th>\n",
       "      <td>1308</td>\n",
       "      <td>NaN</td>\n",
       "      <td>3</td>\n",
       "      <td>Ware, Mr. Frederick</td>\n",
       "      <td>male</td>\n",
       "      <td>NaN</td>\n",
       "      <td>0</td>\n",
       "      <td>0</td>\n",
       "      <td>359309</td>\n",
       "      <td>8.0500</td>\n",
       "      <td>NaN</td>\n",
       "      <td>S</td>\n",
       "      <td>Mr</td>\n",
       "    </tr>\n",
       "    <tr>\n",
       "      <th>1308</th>\n",
       "      <td>1309</td>\n",
       "      <td>NaN</td>\n",
       "      <td>3</td>\n",
       "      <td>Peter, Master. Michael J</td>\n",
       "      <td>male</td>\n",
       "      <td>NaN</td>\n",
       "      <td>1</td>\n",
       "      <td>1</td>\n",
       "      <td>2668</td>\n",
       "      <td>22.3583</td>\n",
       "      <td>NaN</td>\n",
       "      <td>C</td>\n",
       "      <td>Master</td>\n",
       "    </tr>\n",
       "  </tbody>\n",
       "</table>\n",
       "<p>1309 rows × 13 columns</p>\n",
       "</div>"
      ],
      "text/plain": [
       "      PassengerId  Survived  Pclass  \\\n",
       "0               1       0.0       3   \n",
       "1               2       1.0       1   \n",
       "2               3       1.0       3   \n",
       "3               4       1.0       1   \n",
       "4               5       0.0       3   \n",
       "...           ...       ...     ...   \n",
       "1304         1305       NaN       3   \n",
       "1305         1306       NaN       1   \n",
       "1306         1307       NaN       3   \n",
       "1307         1308       NaN       3   \n",
       "1308         1309       NaN       3   \n",
       "\n",
       "                                                   Name     Sex   Age  SibSp  \\\n",
       "0                               Braund, Mr. Owen Harris    male  22.0      1   \n",
       "1     Cumings, Mrs. John Bradley (Florence Briggs Th...  female  38.0      1   \n",
       "2                                Heikkinen, Miss. Laina  female  26.0      0   \n",
       "3          Futrelle, Mrs. Jacques Heath (Lily May Peel)  female  35.0      1   \n",
       "4                              Allen, Mr. William Henry    male  35.0      0   \n",
       "...                                                 ...     ...   ...    ...   \n",
       "1304                                 Spector, Mr. Woolf    male   NaN      0   \n",
       "1305                       Oliva y Ocana, Dona. Fermina  female  39.0      0   \n",
       "1306                       Saether, Mr. Simon Sivertsen    male  38.5      0   \n",
       "1307                                Ware, Mr. Frederick    male   NaN      0   \n",
       "1308                           Peter, Master. Michael J    male   NaN      1   \n",
       "\n",
       "      Parch              Ticket      Fare Cabin Embarked Initial  \n",
       "0         0           A/5 21171    7.2500   NaN        S      Mr  \n",
       "1         0            PC 17599   71.2833   C85        C     Mrs  \n",
       "2         0    STON/O2. 3101282    7.9250   NaN        S    Miss  \n",
       "3         0              113803   53.1000  C123        S     Mrs  \n",
       "4         0              373450    8.0500   NaN        S      Mr  \n",
       "...     ...                 ...       ...   ...      ...     ...  \n",
       "1304      0           A.5. 3236    8.0500   NaN        S      Mr  \n",
       "1305      0            PC 17758  108.9000  C105        C      Mr  \n",
       "1306      0  SOTON/O.Q. 3101262    7.2500   NaN        S      Mr  \n",
       "1307      0              359309    8.0500   NaN        S      Mr  \n",
       "1308      1                2668   22.3583   NaN        C  Master  \n",
       "\n",
       "[1309 rows x 13 columns]"
      ]
     },
     "execution_count": 13,
     "metadata": {},
     "output_type": "execute_result"
    }
   ],
   "source": [
    "df_all.reset_index(drop=True)"
   ]
  },
  {
   "cell_type": "code",
   "execution_count": 14,
   "id": "92c0bbd9",
   "metadata": {
    "execution": {
     "iopub.execute_input": "2022-02-03T07:21:58.902333Z",
     "iopub.status.busy": "2022-02-03T07:21:58.901621Z",
     "iopub.status.idle": "2022-02-03T07:21:58.917347Z",
     "shell.execute_reply": "2022-02-03T07:21:58.917894Z",
     "shell.execute_reply.started": "2022-02-03T07:20:19.972951Z"
    },
    "papermill": {
     "duration": 0.047303,
     "end_time": "2022-02-03T07:21:58.918095",
     "exception": false,
     "start_time": "2022-02-03T07:21:58.870792",
     "status": "completed"
    },
    "tags": []
   },
   "outputs": [
    {
     "data": {
      "text/html": [
       "<div>\n",
       "<style scoped>\n",
       "    .dataframe tbody tr th:only-of-type {\n",
       "        vertical-align: middle;\n",
       "    }\n",
       "\n",
       "    .dataframe tbody tr th {\n",
       "        vertical-align: top;\n",
       "    }\n",
       "\n",
       "    .dataframe thead th {\n",
       "        text-align: right;\n",
       "    }\n",
       "</style>\n",
       "<table border=\"1\" class=\"dataframe\">\n",
       "  <thead>\n",
       "    <tr style=\"text-align: right;\">\n",
       "      <th></th>\n",
       "      <th>PassengerId</th>\n",
       "      <th>Survived</th>\n",
       "      <th>Pclass</th>\n",
       "      <th>Age</th>\n",
       "      <th>SibSp</th>\n",
       "      <th>Parch</th>\n",
       "      <th>Fare</th>\n",
       "    </tr>\n",
       "    <tr>\n",
       "      <th>Initial</th>\n",
       "      <th></th>\n",
       "      <th></th>\n",
       "      <th></th>\n",
       "      <th></th>\n",
       "      <th></th>\n",
       "      <th></th>\n",
       "      <th></th>\n",
       "    </tr>\n",
       "  </thead>\n",
       "  <tbody>\n",
       "    <tr>\n",
       "      <th>Master</th>\n",
       "      <td>658.852459</td>\n",
       "      <td>0.575000</td>\n",
       "      <td>2.655738</td>\n",
       "      <td>5.482642</td>\n",
       "      <td>2.049180</td>\n",
       "      <td>1.377049</td>\n",
       "      <td>36.008195</td>\n",
       "    </tr>\n",
       "    <tr>\n",
       "      <th>Miss</th>\n",
       "      <td>616.992453</td>\n",
       "      <td>0.704301</td>\n",
       "      <td>2.332075</td>\n",
       "      <td>21.834533</td>\n",
       "      <td>0.652830</td>\n",
       "      <td>0.494340</td>\n",
       "      <td>42.667628</td>\n",
       "    </tr>\n",
       "    <tr>\n",
       "      <th>Mr</th>\n",
       "      <td>658.831388</td>\n",
       "      <td>0.162571</td>\n",
       "      <td>2.359274</td>\n",
       "      <td>32.556397</td>\n",
       "      <td>0.286641</td>\n",
       "      <td>0.159533</td>\n",
       "      <td>25.316303</td>\n",
       "    </tr>\n",
       "    <tr>\n",
       "      <th>Mrs</th>\n",
       "      <td>685.673367</td>\n",
       "      <td>0.795276</td>\n",
       "      <td>1.929648</td>\n",
       "      <td>37.034884</td>\n",
       "      <td>0.658291</td>\n",
       "      <td>0.824121</td>\n",
       "      <td>50.686244</td>\n",
       "    </tr>\n",
       "    <tr>\n",
       "      <th>Other</th>\n",
       "      <td>714.923077</td>\n",
       "      <td>0.111111</td>\n",
       "      <td>1.615385</td>\n",
       "      <td>44.923077</td>\n",
       "      <td>0.230769</td>\n",
       "      <td>0.153846</td>\n",
       "      <td>35.919231</td>\n",
       "    </tr>\n",
       "  </tbody>\n",
       "</table>\n",
       "</div>"
      ],
      "text/plain": [
       "         PassengerId  Survived    Pclass        Age     SibSp     Parch  \\\n",
       "Initial                                                                   \n",
       "Master    658.852459  0.575000  2.655738   5.482642  2.049180  1.377049   \n",
       "Miss      616.992453  0.704301  2.332075  21.834533  0.652830  0.494340   \n",
       "Mr        658.831388  0.162571  2.359274  32.556397  0.286641  0.159533   \n",
       "Mrs       685.673367  0.795276  1.929648  37.034884  0.658291  0.824121   \n",
       "Other     714.923077  0.111111  1.615385  44.923077  0.230769  0.153846   \n",
       "\n",
       "              Fare  \n",
       "Initial             \n",
       "Master   36.008195  \n",
       "Miss     42.667628  \n",
       "Mr       25.316303  \n",
       "Mrs      50.686244  \n",
       "Other    35.919231  "
      ]
     },
     "execution_count": 14,
     "metadata": {},
     "output_type": "execute_result"
    }
   ],
   "source": [
    "df_all.groupby('Initial').mean()"
   ]
  },
  {
   "cell_type": "code",
   "execution_count": 15,
   "id": "cc6a7abe",
   "metadata": {
    "execution": {
     "iopub.execute_input": "2022-02-03T07:21:58.984020Z",
     "iopub.status.busy": "2022-02-03T07:21:58.983296Z",
     "iopub.status.idle": "2022-02-03T07:21:59.000507Z",
     "shell.execute_reply": "2022-02-03T07:21:59.000969Z",
     "shell.execute_reply.started": "2022-02-03T07:20:19.991120Z"
    },
    "papermill": {
     "duration": 0.05491,
     "end_time": "2022-02-03T07:21:59.001173",
     "exception": false,
     "start_time": "2022-02-03T07:21:58.946263",
     "status": "completed"
    },
    "tags": []
   },
   "outputs": [
    {
     "data": {
      "text/html": [
       "<div>\n",
       "<style scoped>\n",
       "    .dataframe tbody tr th:only-of-type {\n",
       "        vertical-align: middle;\n",
       "    }\n",
       "\n",
       "    .dataframe tbody tr th {\n",
       "        vertical-align: top;\n",
       "    }\n",
       "\n",
       "    .dataframe thead th {\n",
       "        text-align: right;\n",
       "    }\n",
       "</style>\n",
       "<table border=\"1\" class=\"dataframe\">\n",
       "  <thead>\n",
       "    <tr style=\"text-align: right;\">\n",
       "      <th></th>\n",
       "      <th>PassengerId</th>\n",
       "      <th>Survived</th>\n",
       "      <th>Pclass</th>\n",
       "      <th>Name</th>\n",
       "      <th>Sex</th>\n",
       "      <th>Age</th>\n",
       "      <th>SibSp</th>\n",
       "      <th>Parch</th>\n",
       "      <th>Ticket</th>\n",
       "      <th>Fare</th>\n",
       "      <th>Cabin</th>\n",
       "      <th>Embarked</th>\n",
       "      <th>Initial</th>\n",
       "    </tr>\n",
       "  </thead>\n",
       "  <tbody>\n",
       "    <tr>\n",
       "      <th>1</th>\n",
       "      <td>2</td>\n",
       "      <td>1</td>\n",
       "      <td>1</td>\n",
       "      <td>Cumings, Mrs. John Bradley (Florence Briggs Th...</td>\n",
       "      <td>female</td>\n",
       "      <td>38.0</td>\n",
       "      <td>1</td>\n",
       "      <td>0</td>\n",
       "      <td>PC 17599</td>\n",
       "      <td>71.2833</td>\n",
       "      <td>C85</td>\n",
       "      <td>C</td>\n",
       "      <td>Mrs</td>\n",
       "    </tr>\n",
       "    <tr>\n",
       "      <th>2</th>\n",
       "      <td>3</td>\n",
       "      <td>1</td>\n",
       "      <td>3</td>\n",
       "      <td>Heikkinen, Miss. Laina</td>\n",
       "      <td>female</td>\n",
       "      <td>26.0</td>\n",
       "      <td>0</td>\n",
       "      <td>0</td>\n",
       "      <td>STON/O2. 3101282</td>\n",
       "      <td>7.9250</td>\n",
       "      <td>NaN</td>\n",
       "      <td>S</td>\n",
       "      <td>Miss</td>\n",
       "    </tr>\n",
       "    <tr>\n",
       "      <th>3</th>\n",
       "      <td>4</td>\n",
       "      <td>1</td>\n",
       "      <td>1</td>\n",
       "      <td>Futrelle, Mrs. Jacques Heath (Lily May Peel)</td>\n",
       "      <td>female</td>\n",
       "      <td>35.0</td>\n",
       "      <td>1</td>\n",
       "      <td>0</td>\n",
       "      <td>113803</td>\n",
       "      <td>53.1000</td>\n",
       "      <td>C123</td>\n",
       "      <td>S</td>\n",
       "      <td>Mrs</td>\n",
       "    </tr>\n",
       "    <tr>\n",
       "      <th>8</th>\n",
       "      <td>9</td>\n",
       "      <td>1</td>\n",
       "      <td>3</td>\n",
       "      <td>Johnson, Mrs. Oscar W (Elisabeth Vilhelmina Berg)</td>\n",
       "      <td>female</td>\n",
       "      <td>27.0</td>\n",
       "      <td>0</td>\n",
       "      <td>2</td>\n",
       "      <td>347742</td>\n",
       "      <td>11.1333</td>\n",
       "      <td>NaN</td>\n",
       "      <td>S</td>\n",
       "      <td>Mrs</td>\n",
       "    </tr>\n",
       "    <tr>\n",
       "      <th>9</th>\n",
       "      <td>10</td>\n",
       "      <td>1</td>\n",
       "      <td>2</td>\n",
       "      <td>Nasser, Mrs. Nicholas (Adele Achem)</td>\n",
       "      <td>female</td>\n",
       "      <td>14.0</td>\n",
       "      <td>1</td>\n",
       "      <td>0</td>\n",
       "      <td>237736</td>\n",
       "      <td>30.0708</td>\n",
       "      <td>NaN</td>\n",
       "      <td>C</td>\n",
       "      <td>Mrs</td>\n",
       "    </tr>\n",
       "    <tr>\n",
       "      <th>...</th>\n",
       "      <td>...</td>\n",
       "      <td>...</td>\n",
       "      <td>...</td>\n",
       "      <td>...</td>\n",
       "      <td>...</td>\n",
       "      <td>...</td>\n",
       "      <td>...</td>\n",
       "      <td>...</td>\n",
       "      <td>...</td>\n",
       "      <td>...</td>\n",
       "      <td>...</td>\n",
       "      <td>...</td>\n",
       "      <td>...</td>\n",
       "    </tr>\n",
       "    <tr>\n",
       "      <th>875</th>\n",
       "      <td>876</td>\n",
       "      <td>1</td>\n",
       "      <td>3</td>\n",
       "      <td>Najib, Miss. Adele Kiamie \"Jane\"</td>\n",
       "      <td>female</td>\n",
       "      <td>15.0</td>\n",
       "      <td>0</td>\n",
       "      <td>0</td>\n",
       "      <td>2667</td>\n",
       "      <td>7.2250</td>\n",
       "      <td>NaN</td>\n",
       "      <td>C</td>\n",
       "      <td>Miss</td>\n",
       "    </tr>\n",
       "    <tr>\n",
       "      <th>879</th>\n",
       "      <td>880</td>\n",
       "      <td>1</td>\n",
       "      <td>1</td>\n",
       "      <td>Potter, Mrs. Thomas Jr (Lily Alexenia Wilson)</td>\n",
       "      <td>female</td>\n",
       "      <td>56.0</td>\n",
       "      <td>0</td>\n",
       "      <td>1</td>\n",
       "      <td>11767</td>\n",
       "      <td>83.1583</td>\n",
       "      <td>C50</td>\n",
       "      <td>C</td>\n",
       "      <td>Mrs</td>\n",
       "    </tr>\n",
       "    <tr>\n",
       "      <th>880</th>\n",
       "      <td>881</td>\n",
       "      <td>1</td>\n",
       "      <td>2</td>\n",
       "      <td>Shelley, Mrs. William (Imanita Parrish Hall)</td>\n",
       "      <td>female</td>\n",
       "      <td>25.0</td>\n",
       "      <td>0</td>\n",
       "      <td>1</td>\n",
       "      <td>230433</td>\n",
       "      <td>26.0000</td>\n",
       "      <td>NaN</td>\n",
       "      <td>S</td>\n",
       "      <td>Mrs</td>\n",
       "    </tr>\n",
       "    <tr>\n",
       "      <th>887</th>\n",
       "      <td>888</td>\n",
       "      <td>1</td>\n",
       "      <td>1</td>\n",
       "      <td>Graham, Miss. Margaret Edith</td>\n",
       "      <td>female</td>\n",
       "      <td>19.0</td>\n",
       "      <td>0</td>\n",
       "      <td>0</td>\n",
       "      <td>112053</td>\n",
       "      <td>30.0000</td>\n",
       "      <td>B42</td>\n",
       "      <td>S</td>\n",
       "      <td>Miss</td>\n",
       "    </tr>\n",
       "    <tr>\n",
       "      <th>889</th>\n",
       "      <td>890</td>\n",
       "      <td>1</td>\n",
       "      <td>1</td>\n",
       "      <td>Behr, Mr. Karl Howell</td>\n",
       "      <td>male</td>\n",
       "      <td>26.0</td>\n",
       "      <td>0</td>\n",
       "      <td>0</td>\n",
       "      <td>111369</td>\n",
       "      <td>30.0000</td>\n",
       "      <td>C148</td>\n",
       "      <td>C</td>\n",
       "      <td>Mr</td>\n",
       "    </tr>\n",
       "  </tbody>\n",
       "</table>\n",
       "<p>342 rows × 13 columns</p>\n",
       "</div>"
      ],
      "text/plain": [
       "     PassengerId  Survived  Pclass  \\\n",
       "1              2         1       1   \n",
       "2              3         1       3   \n",
       "3              4         1       1   \n",
       "8              9         1       3   \n",
       "9             10         1       2   \n",
       "..           ...       ...     ...   \n",
       "875          876         1       3   \n",
       "879          880         1       1   \n",
       "880          881         1       2   \n",
       "887          888         1       1   \n",
       "889          890         1       1   \n",
       "\n",
       "                                                  Name     Sex   Age  SibSp  \\\n",
       "1    Cumings, Mrs. John Bradley (Florence Briggs Th...  female  38.0      1   \n",
       "2                               Heikkinen, Miss. Laina  female  26.0      0   \n",
       "3         Futrelle, Mrs. Jacques Heath (Lily May Peel)  female  35.0      1   \n",
       "8    Johnson, Mrs. Oscar W (Elisabeth Vilhelmina Berg)  female  27.0      0   \n",
       "9                  Nasser, Mrs. Nicholas (Adele Achem)  female  14.0      1   \n",
       "..                                                 ...     ...   ...    ...   \n",
       "875                   Najib, Miss. Adele Kiamie \"Jane\"  female  15.0      0   \n",
       "879      Potter, Mrs. Thomas Jr (Lily Alexenia Wilson)  female  56.0      0   \n",
       "880       Shelley, Mrs. William (Imanita Parrish Hall)  female  25.0      0   \n",
       "887                       Graham, Miss. Margaret Edith  female  19.0      0   \n",
       "889                              Behr, Mr. Karl Howell    male  26.0      0   \n",
       "\n",
       "     Parch            Ticket     Fare Cabin Embarked Initial  \n",
       "1        0          PC 17599  71.2833   C85        C     Mrs  \n",
       "2        0  STON/O2. 3101282   7.9250   NaN        S    Miss  \n",
       "3        0            113803  53.1000  C123        S     Mrs  \n",
       "8        2            347742  11.1333   NaN        S     Mrs  \n",
       "9        0            237736  30.0708   NaN        C     Mrs  \n",
       "..     ...               ...      ...   ...      ...     ...  \n",
       "875      0              2667   7.2250   NaN        C    Miss  \n",
       "879      1             11767  83.1583   C50        C     Mrs  \n",
       "880      1            230433  26.0000   NaN        S     Mrs  \n",
       "887      0            112053  30.0000   B42        S    Miss  \n",
       "889      0            111369  30.0000  C148        C      Mr  \n",
       "\n",
       "[342 rows x 13 columns]"
      ]
     },
     "execution_count": 15,
     "metadata": {},
     "output_type": "execute_result"
    }
   ],
   "source": [
    "df_train.loc[df_train['Survived'] == 1]"
   ]
  },
  {
   "cell_type": "code",
   "execution_count": 16,
   "id": "7677f706",
   "metadata": {
    "execution": {
     "iopub.execute_input": "2022-02-03T07:21:59.062089Z",
     "iopub.status.busy": "2022-02-03T07:21:59.061440Z",
     "iopub.status.idle": "2022-02-03T07:21:59.068286Z",
     "shell.execute_reply": "2022-02-03T07:21:59.068749Z",
     "shell.execute_reply.started": "2022-02-03T07:20:20.016884Z"
    },
    "papermill": {
     "duration": 0.038908,
     "end_time": "2022-02-03T07:21:59.068933",
     "exception": false,
     "start_time": "2022-02-03T07:21:59.030025",
     "status": "completed"
    },
    "tags": []
   },
   "outputs": [
    {
     "data": {
      "text/plain": [
       "0      False\n",
       "1      False\n",
       "2      False\n",
       "3      False\n",
       "4      False\n",
       "       ...  \n",
       "886    False\n",
       "887    False\n",
       "888     True\n",
       "889    False\n",
       "890    False\n",
       "Name: Age, Length: 891, dtype: bool"
      ]
     },
     "execution_count": 16,
     "metadata": {},
     "output_type": "execute_result"
    }
   ],
   "source": [
    "df_train['Age'].isnull()"
   ]
  },
  {
   "cell_type": "code",
   "execution_count": 17,
   "id": "ff663b68",
   "metadata": {
    "execution": {
     "iopub.execute_input": "2022-02-03T07:21:59.133848Z",
     "iopub.status.busy": "2022-02-03T07:21:59.133133Z",
     "iopub.status.idle": "2022-02-03T07:21:59.152628Z",
     "shell.execute_reply": "2022-02-03T07:21:59.153159Z",
     "shell.execute_reply.started": "2022-02-03T07:20:20.032937Z"
    },
    "papermill": {
     "duration": 0.053699,
     "end_time": "2022-02-03T07:21:59.153373",
     "exception": false,
     "start_time": "2022-02-03T07:21:59.099674",
     "status": "completed"
    },
    "tags": []
   },
   "outputs": [],
   "source": [
    "df_train.loc[(df_train['Age'].isnull()) & (df_train['Initial'] == 'Mr'), 'Age'] = 30\n",
    "df_train.loc[(df_train['Age'].isnull()) & (df_train['Initial'] == 'Mrs'), 'Age'] = 37\n",
    "df_train.loc[(df_train['Age'].isnull()) & (df_train['Initial'] == 'Master'), 'Age'] = 5\n",
    "df_train.loc[(df_train['Age'].isnull()) & (df_train['Initial'] == 'Miss'), 'Age'] = 22\n",
    "df_train.loc[(df_train['Age'].isnull()) & (df_train['Initial'] == 'Other'), 'Age'] = 45\n",
    "\n",
    "df_test.loc[(df_test['Age'].isnull()) & (df_test['Initial'] == 'Mr'), 'Age'] = 30\n",
    "df_test.loc[(df_test['Age'].isnull()) & (df_test['Initial'] == 'Mrs'), 'Age'] = 37\n",
    "df_test.loc[(df_test['Age'].isnull()) & (df_test['Initial'] == 'Master'), 'Age'] = 5\n",
    "df_test.loc[(df_test['Age'].isnull()) & (df_test['Initial'] == 'Miss'), 'Age'] = 22\n",
    "df_test.loc[(df_test['Age'].isnull()) & (df_test['Initial'] == 'Other'), 'Age'] = 45"
   ]
  },
  {
   "cell_type": "code",
   "execution_count": 18,
   "id": "465c2bb1",
   "metadata": {
    "execution": {
     "iopub.execute_input": "2022-02-03T07:21:59.215293Z",
     "iopub.status.busy": "2022-02-03T07:21:59.214596Z",
     "iopub.status.idle": "2022-02-03T07:21:59.223332Z",
     "shell.execute_reply": "2022-02-03T07:21:59.223859Z",
     "shell.execute_reply.started": "2022-02-03T07:20:20.058419Z"
    },
    "papermill": {
     "duration": 0.041553,
     "end_time": "2022-02-03T07:21:59.224039",
     "exception": false,
     "start_time": "2022-02-03T07:21:59.182486",
     "status": "completed"
    },
    "tags": []
   },
   "outputs": [
    {
     "data": {
      "text/plain": [
       "0      22.0\n",
       "4      35.0\n",
       "5      30.0\n",
       "6      54.0\n",
       "12     20.0\n",
       "       ... \n",
       "881    33.0\n",
       "883    28.0\n",
       "884    25.0\n",
       "889    26.0\n",
       "890    32.0\n",
       "Name: Age, Length: 529, dtype: float64"
      ]
     },
     "execution_count": 18,
     "metadata": {},
     "output_type": "execute_result"
    }
   ],
   "source": [
    "df_train.loc[(df_train['Initial'] == 'Mr'), 'Age']"
   ]
  },
  {
   "cell_type": "code",
   "execution_count": null,
   "id": "d6137715",
   "metadata": {
    "papermill": {
     "duration": 0.029278,
     "end_time": "2022-02-03T07:21:59.284281",
     "exception": false,
     "start_time": "2022-02-03T07:21:59.255003",
     "status": "completed"
    },
    "tags": []
   },
   "outputs": [],
   "source": []
  },
  {
   "cell_type": "code",
   "execution_count": 19,
   "id": "0730be66",
   "metadata": {
    "execution": {
     "iopub.execute_input": "2022-02-03T07:21:59.346562Z",
     "iopub.status.busy": "2022-02-03T07:21:59.345832Z",
     "iopub.status.idle": "2022-02-03T07:21:59.351018Z",
     "shell.execute_reply": "2022-02-03T07:21:59.351504Z",
     "shell.execute_reply.started": "2022-02-03T07:20:20.080055Z"
    },
    "papermill": {
     "duration": 0.038108,
     "end_time": "2022-02-03T07:21:59.351695",
     "exception": false,
     "start_time": "2022-02-03T07:21:59.313587",
     "status": "completed"
    },
    "tags": []
   },
   "outputs": [
    {
     "data": {
      "text/plain": [
       "0"
      ]
     },
     "execution_count": 19,
     "metadata": {},
     "output_type": "execute_result"
    }
   ],
   "source": [
    "df_train['Age'].isnull().sum()"
   ]
  },
  {
   "cell_type": "code",
   "execution_count": 20,
   "id": "af42bcb1",
   "metadata": {
    "execution": {
     "iopub.execute_input": "2022-02-03T07:21:59.429878Z",
     "iopub.status.busy": "2022-02-03T07:21:59.429109Z",
     "iopub.status.idle": "2022-02-03T07:21:59.431964Z",
     "shell.execute_reply": "2022-02-03T07:21:59.432467Z",
     "shell.execute_reply.started": "2022-02-03T07:20:20.093456Z"
    },
    "papermill": {
     "duration": 0.051087,
     "end_time": "2022-02-03T07:21:59.432651",
     "exception": false,
     "start_time": "2022-02-03T07:21:59.381564",
     "status": "completed"
    },
    "tags": []
   },
   "outputs": [
    {
     "data": {
      "text/html": [
       "<div>\n",
       "<style scoped>\n",
       "    .dataframe tbody tr th:only-of-type {\n",
       "        vertical-align: middle;\n",
       "    }\n",
       "\n",
       "    .dataframe tbody tr th {\n",
       "        vertical-align: top;\n",
       "    }\n",
       "\n",
       "    .dataframe thead th {\n",
       "        text-align: right;\n",
       "    }\n",
       "</style>\n",
       "<table border=\"1\" class=\"dataframe\">\n",
       "  <thead>\n",
       "    <tr style=\"text-align: right;\">\n",
       "      <th></th>\n",
       "      <th>PassengerId</th>\n",
       "      <th>Survived</th>\n",
       "      <th>Pclass</th>\n",
       "      <th>Name</th>\n",
       "      <th>Sex</th>\n",
       "      <th>Age</th>\n",
       "      <th>SibSp</th>\n",
       "      <th>Parch</th>\n",
       "      <th>Ticket</th>\n",
       "      <th>Fare</th>\n",
       "      <th>Cabin</th>\n",
       "      <th>Embarked</th>\n",
       "      <th>Initial</th>\n",
       "    </tr>\n",
       "  </thead>\n",
       "  <tbody>\n",
       "    <tr>\n",
       "      <th>0</th>\n",
       "      <td>1</td>\n",
       "      <td>0</td>\n",
       "      <td>3</td>\n",
       "      <td>Braund, Mr. Owen Harris</td>\n",
       "      <td>male</td>\n",
       "      <td>22.0</td>\n",
       "      <td>1</td>\n",
       "      <td>0</td>\n",
       "      <td>A/5 21171</td>\n",
       "      <td>7.2500</td>\n",
       "      <td>NaN</td>\n",
       "      <td>S</td>\n",
       "      <td>Mr</td>\n",
       "    </tr>\n",
       "    <tr>\n",
       "      <th>1</th>\n",
       "      <td>2</td>\n",
       "      <td>1</td>\n",
       "      <td>1</td>\n",
       "      <td>Cumings, Mrs. John Bradley (Florence Briggs Th...</td>\n",
       "      <td>female</td>\n",
       "      <td>38.0</td>\n",
       "      <td>1</td>\n",
       "      <td>0</td>\n",
       "      <td>PC 17599</td>\n",
       "      <td>71.2833</td>\n",
       "      <td>C85</td>\n",
       "      <td>C</td>\n",
       "      <td>Mrs</td>\n",
       "    </tr>\n",
       "    <tr>\n",
       "      <th>2</th>\n",
       "      <td>3</td>\n",
       "      <td>1</td>\n",
       "      <td>3</td>\n",
       "      <td>Heikkinen, Miss. Laina</td>\n",
       "      <td>female</td>\n",
       "      <td>26.0</td>\n",
       "      <td>0</td>\n",
       "      <td>0</td>\n",
       "      <td>STON/O2. 3101282</td>\n",
       "      <td>7.9250</td>\n",
       "      <td>NaN</td>\n",
       "      <td>S</td>\n",
       "      <td>Miss</td>\n",
       "    </tr>\n",
       "    <tr>\n",
       "      <th>3</th>\n",
       "      <td>4</td>\n",
       "      <td>1</td>\n",
       "      <td>1</td>\n",
       "      <td>Futrelle, Mrs. Jacques Heath (Lily May Peel)</td>\n",
       "      <td>female</td>\n",
       "      <td>35.0</td>\n",
       "      <td>1</td>\n",
       "      <td>0</td>\n",
       "      <td>113803</td>\n",
       "      <td>53.1000</td>\n",
       "      <td>C123</td>\n",
       "      <td>S</td>\n",
       "      <td>Mrs</td>\n",
       "    </tr>\n",
       "    <tr>\n",
       "      <th>4</th>\n",
       "      <td>5</td>\n",
       "      <td>0</td>\n",
       "      <td>3</td>\n",
       "      <td>Allen, Mr. William Henry</td>\n",
       "      <td>male</td>\n",
       "      <td>35.0</td>\n",
       "      <td>0</td>\n",
       "      <td>0</td>\n",
       "      <td>373450</td>\n",
       "      <td>8.0500</td>\n",
       "      <td>NaN</td>\n",
       "      <td>S</td>\n",
       "      <td>Mr</td>\n",
       "    </tr>\n",
       "  </tbody>\n",
       "</table>\n",
       "</div>"
      ],
      "text/plain": [
       "   PassengerId  Survived  Pclass  \\\n",
       "0            1         0       3   \n",
       "1            2         1       1   \n",
       "2            3         1       3   \n",
       "3            4         1       1   \n",
       "4            5         0       3   \n",
       "\n",
       "                                                Name     Sex   Age  SibSp  \\\n",
       "0                            Braund, Mr. Owen Harris    male  22.0      1   \n",
       "1  Cumings, Mrs. John Bradley (Florence Briggs Th...  female  38.0      1   \n",
       "2                             Heikkinen, Miss. Laina  female  26.0      0   \n",
       "3       Futrelle, Mrs. Jacques Heath (Lily May Peel)  female  35.0      1   \n",
       "4                           Allen, Mr. William Henry    male  35.0      0   \n",
       "\n",
       "   Parch            Ticket     Fare Cabin Embarked Initial  \n",
       "0      0         A/5 21171   7.2500   NaN        S      Mr  \n",
       "1      0          PC 17599  71.2833   C85        C     Mrs  \n",
       "2      0  STON/O2. 3101282   7.9250   NaN        S    Miss  \n",
       "3      0            113803  53.1000  C123        S     Mrs  \n",
       "4      0            373450   8.0500   NaN        S      Mr  "
      ]
     },
     "execution_count": 20,
     "metadata": {},
     "output_type": "execute_result"
    }
   ],
   "source": [
    "df_train.head()"
   ]
  },
  {
   "cell_type": "code",
   "execution_count": 21,
   "id": "72964781",
   "metadata": {
    "execution": {
     "iopub.execute_input": "2022-02-03T07:21:59.504372Z",
     "iopub.status.busy": "2022-02-03T07:21:59.503219Z",
     "iopub.status.idle": "2022-02-03T07:21:59.512779Z",
     "shell.execute_reply": "2022-02-03T07:21:59.513341Z",
     "shell.execute_reply.started": "2022-02-03T07:20:20.119956Z"
    },
    "papermill": {
     "duration": 0.049049,
     "end_time": "2022-02-03T07:21:59.513520",
     "exception": false,
     "start_time": "2022-02-03T07:21:59.464471",
     "status": "completed"
    },
    "tags": []
   },
   "outputs": [],
   "source": [
    "df_train['Age_cat'] = 0\n",
    "df_train.loc[df_train['Age'] < 10, 'Age_cat'] = 0\n",
    "df_train.loc[(10 <= df_train['Age']) & (df_train['Age'] < 20), 'Age_cat'] = 1\n",
    "df_train.loc[(20 <= df_train['Age']) & (df_train['Age'] < 30), 'Age_cat'] = 2\n",
    "df_train.loc[(30 <= df_train['Age']) & (df_train['Age'] < 40), 'Age_cat'] = 3\n",
    "df_train.loc[(40 <= df_train['Age']) & (df_train['Age'] < 50), 'Age_cat'] = 4\n",
    "df_train.loc[(50 <= df_train['Age']) & (df_train['Age'] < 60), 'Age_cat'] = 5\n",
    "df_train.loc[(60 <= df_train['Age']) & (df_train['Age'] < 70), 'Age_cat'] = 6\n",
    "df_train.loc[70 <= df_train['Age'], 'Age_cat'] = 7"
   ]
  },
  {
   "cell_type": "code",
   "execution_count": 22,
   "id": "b9bff3d9",
   "metadata": {
    "execution": {
     "iopub.execute_input": "2022-02-03T07:21:59.582304Z",
     "iopub.status.busy": "2022-02-03T07:21:59.576193Z",
     "iopub.status.idle": "2022-02-03T07:21:59.592238Z",
     "shell.execute_reply": "2022-02-03T07:21:59.592732Z",
     "shell.execute_reply.started": "2022-02-03T07:20:20.138871Z"
    },
    "papermill": {
     "duration": 0.049274,
     "end_time": "2022-02-03T07:21:59.592922",
     "exception": false,
     "start_time": "2022-02-03T07:21:59.543648",
     "status": "completed"
    },
    "tags": []
   },
   "outputs": [],
   "source": [
    "df_test['Age_cat'] = 0\n",
    "df_test.loc[df_test['Age'] < 10, 'Age_cat'] = 0\n",
    "df_test.loc[(10 <= df_test['Age']) & (df_test['Age'] < 20), 'Age_cat'] = 1\n",
    "df_test.loc[(20 <= df_test['Age']) & (df_test['Age'] < 30), 'Age_cat'] = 2\n",
    "df_test.loc[(30 <= df_test['Age']) & (df_test['Age'] < 40), 'Age_cat'] = 3\n",
    "df_test.loc[(40 <= df_test['Age']) & (df_test['Age'] < 50), 'Age_cat'] = 4\n",
    "df_test.loc[(50 <= df_test['Age']) & (df_test['Age'] < 60), 'Age_cat'] = 5\n",
    "df_test.loc[(60 <= df_test['Age']) & (df_test['Age'] < 70), 'Age_cat'] = 6\n",
    "df_test.loc[70 <= df_test['Age'], 'Age_cat'] = 7"
   ]
  },
  {
   "cell_type": "code",
   "execution_count": 23,
   "id": "a2affbea",
   "metadata": {
    "execution": {
     "iopub.execute_input": "2022-02-03T07:21:59.657201Z",
     "iopub.status.busy": "2022-02-03T07:21:59.656240Z",
     "iopub.status.idle": "2022-02-03T07:21:59.673024Z",
     "shell.execute_reply": "2022-02-03T07:21:59.672378Z",
     "shell.execute_reply.started": "2022-02-03T07:20:20.156822Z"
    },
    "papermill": {
     "duration": 0.050112,
     "end_time": "2022-02-03T07:21:59.673183",
     "exception": false,
     "start_time": "2022-02-03T07:21:59.623071",
     "status": "completed"
    },
    "tags": []
   },
   "outputs": [
    {
     "data": {
      "text/html": [
       "<div>\n",
       "<style scoped>\n",
       "    .dataframe tbody tr th:only-of-type {\n",
       "        vertical-align: middle;\n",
       "    }\n",
       "\n",
       "    .dataframe tbody tr th {\n",
       "        vertical-align: top;\n",
       "    }\n",
       "\n",
       "    .dataframe thead th {\n",
       "        text-align: right;\n",
       "    }\n",
       "</style>\n",
       "<table border=\"1\" class=\"dataframe\">\n",
       "  <thead>\n",
       "    <tr style=\"text-align: right;\">\n",
       "      <th></th>\n",
       "      <th>PassengerId</th>\n",
       "      <th>Survived</th>\n",
       "      <th>Pclass</th>\n",
       "      <th>Name</th>\n",
       "      <th>Sex</th>\n",
       "      <th>Age</th>\n",
       "      <th>SibSp</th>\n",
       "      <th>Parch</th>\n",
       "      <th>Ticket</th>\n",
       "      <th>Fare</th>\n",
       "      <th>Cabin</th>\n",
       "      <th>Embarked</th>\n",
       "      <th>Initial</th>\n",
       "      <th>Age_cat</th>\n",
       "    </tr>\n",
       "  </thead>\n",
       "  <tbody>\n",
       "    <tr>\n",
       "      <th>0</th>\n",
       "      <td>1</td>\n",
       "      <td>0</td>\n",
       "      <td>3</td>\n",
       "      <td>Braund, Mr. Owen Harris</td>\n",
       "      <td>male</td>\n",
       "      <td>22.0</td>\n",
       "      <td>1</td>\n",
       "      <td>0</td>\n",
       "      <td>A/5 21171</td>\n",
       "      <td>7.2500</td>\n",
       "      <td>NaN</td>\n",
       "      <td>S</td>\n",
       "      <td>Mr</td>\n",
       "      <td>2</td>\n",
       "    </tr>\n",
       "    <tr>\n",
       "      <th>1</th>\n",
       "      <td>2</td>\n",
       "      <td>1</td>\n",
       "      <td>1</td>\n",
       "      <td>Cumings, Mrs. John Bradley (Florence Briggs Th...</td>\n",
       "      <td>female</td>\n",
       "      <td>38.0</td>\n",
       "      <td>1</td>\n",
       "      <td>0</td>\n",
       "      <td>PC 17599</td>\n",
       "      <td>71.2833</td>\n",
       "      <td>C85</td>\n",
       "      <td>C</td>\n",
       "      <td>Mrs</td>\n",
       "      <td>3</td>\n",
       "    </tr>\n",
       "    <tr>\n",
       "      <th>2</th>\n",
       "      <td>3</td>\n",
       "      <td>1</td>\n",
       "      <td>3</td>\n",
       "      <td>Heikkinen, Miss. Laina</td>\n",
       "      <td>female</td>\n",
       "      <td>26.0</td>\n",
       "      <td>0</td>\n",
       "      <td>0</td>\n",
       "      <td>STON/O2. 3101282</td>\n",
       "      <td>7.9250</td>\n",
       "      <td>NaN</td>\n",
       "      <td>S</td>\n",
       "      <td>Miss</td>\n",
       "      <td>2</td>\n",
       "    </tr>\n",
       "    <tr>\n",
       "      <th>3</th>\n",
       "      <td>4</td>\n",
       "      <td>1</td>\n",
       "      <td>1</td>\n",
       "      <td>Futrelle, Mrs. Jacques Heath (Lily May Peel)</td>\n",
       "      <td>female</td>\n",
       "      <td>35.0</td>\n",
       "      <td>1</td>\n",
       "      <td>0</td>\n",
       "      <td>113803</td>\n",
       "      <td>53.1000</td>\n",
       "      <td>C123</td>\n",
       "      <td>S</td>\n",
       "      <td>Mrs</td>\n",
       "      <td>3</td>\n",
       "    </tr>\n",
       "    <tr>\n",
       "      <th>4</th>\n",
       "      <td>5</td>\n",
       "      <td>0</td>\n",
       "      <td>3</td>\n",
       "      <td>Allen, Mr. William Henry</td>\n",
       "      <td>male</td>\n",
       "      <td>35.0</td>\n",
       "      <td>0</td>\n",
       "      <td>0</td>\n",
       "      <td>373450</td>\n",
       "      <td>8.0500</td>\n",
       "      <td>NaN</td>\n",
       "      <td>S</td>\n",
       "      <td>Mr</td>\n",
       "      <td>3</td>\n",
       "    </tr>\n",
       "  </tbody>\n",
       "</table>\n",
       "</div>"
      ],
      "text/plain": [
       "   PassengerId  Survived  Pclass  \\\n",
       "0            1         0       3   \n",
       "1            2         1       1   \n",
       "2            3         1       3   \n",
       "3            4         1       1   \n",
       "4            5         0       3   \n",
       "\n",
       "                                                Name     Sex   Age  SibSp  \\\n",
       "0                            Braund, Mr. Owen Harris    male  22.0      1   \n",
       "1  Cumings, Mrs. John Bradley (Florence Briggs Th...  female  38.0      1   \n",
       "2                             Heikkinen, Miss. Laina  female  26.0      0   \n",
       "3       Futrelle, Mrs. Jacques Heath (Lily May Peel)  female  35.0      1   \n",
       "4                           Allen, Mr. William Henry    male  35.0      0   \n",
       "\n",
       "   Parch            Ticket     Fare Cabin Embarked Initial  Age_cat  \n",
       "0      0         A/5 21171   7.2500   NaN        S      Mr        2  \n",
       "1      0          PC 17599  71.2833   C85        C     Mrs        3  \n",
       "2      0  STON/O2. 3101282   7.9250   NaN        S    Miss        2  \n",
       "3      0            113803  53.1000  C123        S     Mrs        3  \n",
       "4      0            373450   8.0500   NaN        S      Mr        3  "
      ]
     },
     "execution_count": 23,
     "metadata": {},
     "output_type": "execute_result"
    }
   ],
   "source": [
    "df_train.head()"
   ]
  },
  {
   "cell_type": "code",
   "execution_count": 24,
   "id": "aa86f0f0",
   "metadata": {
    "execution": {
     "iopub.execute_input": "2022-02-03T07:21:59.738712Z",
     "iopub.status.busy": "2022-02-03T07:21:59.737718Z",
     "iopub.status.idle": "2022-02-03T07:21:59.743032Z",
     "shell.execute_reply": "2022-02-03T07:21:59.743520Z",
     "shell.execute_reply.started": "2022-02-03T07:20:20.177387Z"
    },
    "papermill": {
     "duration": 0.039939,
     "end_time": "2022-02-03T07:21:59.743700",
     "exception": false,
     "start_time": "2022-02-03T07:21:59.703761",
     "status": "completed"
    },
    "tags": []
   },
   "outputs": [],
   "source": [
    "def category_age(x):\n",
    "    if x < 10:\n",
    "        return 0\n",
    "    elif x < 20:\n",
    "        return 1\n",
    "    elif x < 30:\n",
    "        return 2\n",
    "    elif x < 40:\n",
    "        return 3\n",
    "    elif x < 50:\n",
    "        return 4\n",
    "    elif x < 60:\n",
    "        return 5\n",
    "    elif x < 70:\n",
    "        return 6\n",
    "    else:\n",
    "        return 7 "
   ]
  },
  {
   "cell_type": "code",
   "execution_count": 25,
   "id": "7a9a7534",
   "metadata": {
    "execution": {
     "iopub.execute_input": "2022-02-03T07:21:59.808574Z",
     "iopub.status.busy": "2022-02-03T07:21:59.807599Z",
     "iopub.status.idle": "2022-02-03T07:21:59.814055Z",
     "shell.execute_reply": "2022-02-03T07:21:59.813520Z",
     "shell.execute_reply.started": "2022-02-03T07:20:20.187125Z"
    },
    "papermill": {
     "duration": 0.04025,
     "end_time": "2022-02-03T07:21:59.814236",
     "exception": false,
     "start_time": "2022-02-03T07:21:59.773986",
     "status": "completed"
    },
    "tags": []
   },
   "outputs": [],
   "source": [
    "df_train['Age_cat_2'] = df_train['Age'].apply(category_age)"
   ]
  },
  {
   "cell_type": "code",
   "execution_count": 26,
   "id": "f25d9d1b",
   "metadata": {
    "execution": {
     "iopub.execute_input": "2022-02-03T07:21:59.881746Z",
     "iopub.status.busy": "2022-02-03T07:21:59.881052Z",
     "iopub.status.idle": "2022-02-03T07:21:59.883557Z",
     "shell.execute_reply": "2022-02-03T07:21:59.884023Z",
     "shell.execute_reply.started": "2022-02-03T07:20:20.199353Z"
    },
    "papermill": {
     "duration": 0.039276,
     "end_time": "2022-02-03T07:21:59.884207",
     "exception": false,
     "start_time": "2022-02-03T07:21:59.844931",
     "status": "completed"
    },
    "tags": []
   },
   "outputs": [
    {
     "data": {
      "text/plain": [
       "True"
      ]
     },
     "execution_count": 26,
     "metadata": {},
     "output_type": "execute_result"
    }
   ],
   "source": [
    "(df_train['Age_cat'] == df_train['Age_cat_2']).all()"
   ]
  },
  {
   "cell_type": "code",
   "execution_count": 27,
   "id": "ba75f2bb",
   "metadata": {
    "execution": {
     "iopub.execute_input": "2022-02-03T07:21:59.953072Z",
     "iopub.status.busy": "2022-02-03T07:21:59.949302Z",
     "iopub.status.idle": "2022-02-03T07:21:59.957971Z",
     "shell.execute_reply": "2022-02-03T07:21:59.957320Z",
     "shell.execute_reply.started": "2022-02-03T07:20:20.213581Z"
    },
    "papermill": {
     "duration": 0.043086,
     "end_time": "2022-02-03T07:21:59.958135",
     "exception": false,
     "start_time": "2022-02-03T07:21:59.915049",
     "status": "completed"
    },
    "tags": []
   },
   "outputs": [],
   "source": [
    "df_train.drop(['Age', 'Age_cat_2'], axis=1, inplace=True)\n",
    "df_test.drop(['Age'], axis=1, inplace=True)"
   ]
  }
 ],
 "metadata": {
  "kernelspec": {
   "display_name": "Python 3",
   "language": "python",
   "name": "python3"
  },
  "language_info": {
   "codemirror_mode": {
    "name": "ipython",
    "version": 3
   },
   "file_extension": ".py",
   "mimetype": "text/x-python",
   "name": "python",
   "nbconvert_exporter": "python",
   "pygments_lexer": "ipython3",
   "version": "3.7.12"
  },
  "papermill": {
   "default_parameters": {},
   "duration": 15.058238,
   "end_time": "2022-02-03T07:22:00.699072",
   "environment_variables": {},
   "exception": null,
   "input_path": "__notebook__.ipynb",
   "output_path": "__notebook__.ipynb",
   "parameters": {},
   "start_time": "2022-02-03T07:21:45.640834",
   "version": "2.3.3"
  }
 },
 "nbformat": 4,
 "nbformat_minor": 5
}
